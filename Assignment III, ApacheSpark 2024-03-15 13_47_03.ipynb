{
 "cells": [
  {
   "cell_type": "code",
   "execution_count": 0,
   "metadata": {
    "application/vnd.databricks.v1+cell": {
     "cellMetadata": {
      "byteLimit": 2048000,
      "rowLimit": 10000
     },
     "inputWidgets": {},
     "nuid": "7cc0fe03-96af-4611-803a-00ba4ef5e8ce",
     "showTitle": true,
     "title": "Load .txt file from local fs and assigning variable rdd"
    }
   },
   "outputs": [],
   "source": [
    "rdd = sc.textFile('/FileStore/tables/001_Wordcount.txt')"
   ]
  },
  {
   "cell_type": "code",
   "execution_count": 0,
   "metadata": {
    "application/vnd.databricks.v1+cell": {
     "cellMetadata": {
      "byteLimit": 2048000,
      "rowLimit": 10000
     },
     "inputWidgets": {},
     "nuid": "7dfa7d37-97ae-4c24-b11c-1ce8b3dcb22a",
     "showTitle": true,
     "title": "Dataset type"
    }
   },
   "outputs": [
    {
     "output_type": "stream",
     "name": "stdout",
     "output_type": "stream",
     "text": [
      "Out[4]: pyspark.rdd.RDD"
     ]
    }
   ],
   "source": [
    "type(rdd)"
   ]
  },
  {
   "cell_type": "code",
   "execution_count": 0,
   "metadata": {
    "application/vnd.databricks.v1+cell": {
     "cellMetadata": {
      "byteLimit": 2048000,
      "rowLimit": 10000
     },
     "inputWidgets": {},
     "nuid": "00996bb6-4b7a-4a31-bb75-a07389584d54",
     "showTitle": true,
     "title": "Retrieve RDD contents as a local collection"
    }
   },
   "outputs": [
    {
     "output_type": "stream",
     "name": "stdout",
     "output_type": "stream",
     "text": [
      "Out[5]: ['hi hello hi hey',\n 'hello hello day',\n 'good day hi',\n 'it is good day',\n 'hi hi hi hey',\n 'hey hello good',\n 'hello hi hello hi is',\n 'hi hello hi hey',\n 'hello hello hi',\n 'hi hi hi hey is',\n 'hey hello good',\n 'hello hi hello hi',\n 'hi hello hi hey',\n 'hello hello hi hi hi ',\n 'hi hi hi hey',\n 'hey hello is',\n 'hello hi hello hi hello',\n 'hi hello hi hey is',\n 'hello hello',\n 'hi hi hi hey is',\n 'hey hello',\n 'hello hi hello hi hi it',\n 'hi hello hi hey it',\n 'hello hello it',\n 'hi hi hi hey',\n 'hey hello',\n 'hello hi hello hi']"
     ]
    }
   ],
   "source": [
    "rdd.collect()"
   ]
  },
  {
   "cell_type": "code",
   "execution_count": 0,
   "metadata": {
    "application/vnd.databricks.v1+cell": {
     "cellMetadata": {
      "byteLimit": 2048000,
      "rowLimit": 10000
     },
     "inputWidgets": {},
     "nuid": "7c57f92d-8ea1-435c-8900-e10f5e643996",
     "showTitle": true,
     "title": "Map each element to zero or more others"
    }
   },
   "outputs": [],
   "source": [
    "rdd2 = rdd.flatMap(lambda x: x.split(' '))"
   ]
  },
  {
   "cell_type": "code",
   "execution_count": 0,
   "metadata": {
    "application/vnd.databricks.v1+cell": {
     "cellMetadata": {
      "byteLimit": 2048000,
      "rowLimit": 10000
     },
     "inputWidgets": {},
     "nuid": "b236cfd0-c006-48e5-828d-7cd42535417b",
     "showTitle": true,
     "title": "Retrieve RDD2 contents"
    }
   },
   "outputs": [
    {
     "output_type": "stream",
     "name": "stdout",
     "output_type": "stream",
     "text": [
      "Out[15]: ['hi',\n 'hello',\n 'hi',\n 'hey',\n 'hello',\n 'hello',\n 'day',\n 'good',\n 'day',\n 'hi',\n 'it',\n 'is',\n 'good',\n 'day',\n 'hi',\n 'hi',\n 'hi',\n 'hey',\n 'hey',\n 'hello',\n 'good',\n 'hello',\n 'hi',\n 'hello',\n 'hi',\n 'is',\n 'hi',\n 'hello',\n 'hi',\n 'hey',\n 'hello',\n 'hello',\n 'hi',\n 'hi',\n 'hi',\n 'hi',\n 'hey',\n 'is',\n 'hey',\n 'hello',\n 'good',\n 'hello',\n 'hi',\n 'hello',\n 'hi',\n 'hi',\n 'hello',\n 'hi',\n 'hey',\n 'hello',\n 'hello',\n 'hi',\n 'hi',\n 'hi',\n '',\n 'hi',\n 'hi',\n 'hi',\n 'hey',\n 'hey',\n 'hello',\n 'is',\n 'hello',\n 'hi',\n 'hello',\n 'hi',\n 'hello',\n 'hi',\n 'hello',\n 'hi',\n 'hey',\n 'is',\n 'hello',\n 'hello',\n 'hi',\n 'hi',\n 'hi',\n 'hey',\n 'is',\n 'hey',\n 'hello',\n 'hello',\n 'hi',\n 'hello',\n 'hi',\n 'hi',\n 'it',\n 'hi',\n 'hello',\n 'hi',\n 'hey',\n 'it',\n 'hello',\n 'hello',\n 'it',\n 'hi',\n 'hi',\n 'hi',\n 'hey',\n 'hey',\n 'hello',\n 'hello',\n 'hi',\n 'hello',\n 'hi']"
     ]
    }
   ],
   "source": [
    "rdd2.collect()"
   ]
  },
  {
   "cell_type": "code",
   "execution_count": 0,
   "metadata": {
    "application/vnd.databricks.v1+cell": {
     "cellMetadata": {
      "byteLimit": 2048000,
      "rowLimit": 10000
     },
     "inputWidgets": {},
     "nuid": "7762e73f-d22e-45b1-8501-2c593ef292d0",
     "showTitle": true,
     "title": "Pass each elements through a function"
    }
   },
   "outputs": [],
   "source": [
    "rdd3 = rdd2.map(lambda x: (x, 1))"
   ]
  },
  {
   "cell_type": "code",
   "execution_count": 0,
   "metadata": {
    "application/vnd.databricks.v1+cell": {
     "cellMetadata": {
      "byteLimit": 2048000,
      "rowLimit": 10000
     },
     "inputWidgets": {},
     "nuid": "1edb24df-422f-4727-90f1-faddf16729f3",
     "showTitle": true,
     "title": "Retrieve RDD3 contents"
    }
   },
   "outputs": [
    {
     "output_type": "stream",
     "name": "stdout",
     "output_type": "stream",
     "text": [
      "Out[19]: [('hi', 1),\n ('hello', 1),\n ('hi', 1),\n ('hey', 1),\n ('hello', 1),\n ('hello', 1),\n ('day', 1),\n ('good', 1),\n ('day', 1),\n ('hi', 1),\n ('it', 1),\n ('is', 1),\n ('good', 1),\n ('day', 1),\n ('hi', 1),\n ('hi', 1),\n ('hi', 1),\n ('hey', 1),\n ('hey', 1),\n ('hello', 1),\n ('good', 1),\n ('hello', 1),\n ('hi', 1),\n ('hello', 1),\n ('hi', 1),\n ('is', 1),\n ('hi', 1),\n ('hello', 1),\n ('hi', 1),\n ('hey', 1),\n ('hello', 1),\n ('hello', 1),\n ('hi', 1),\n ('hi', 1),\n ('hi', 1),\n ('hi', 1),\n ('hey', 1),\n ('is', 1),\n ('hey', 1),\n ('hello', 1),\n ('good', 1),\n ('hello', 1),\n ('hi', 1),\n ('hello', 1),\n ('hi', 1),\n ('hi', 1),\n ('hello', 1),\n ('hi', 1),\n ('hey', 1),\n ('hello', 1),\n ('hello', 1),\n ('hi', 1),\n ('hi', 1),\n ('hi', 1),\n ('', 1),\n ('hi', 1),\n ('hi', 1),\n ('hi', 1),\n ('hey', 1),\n ('hey', 1),\n ('hello', 1),\n ('is', 1),\n ('hello', 1),\n ('hi', 1),\n ('hello', 1),\n ('hi', 1),\n ('hello', 1),\n ('hi', 1),\n ('hello', 1),\n ('hi', 1),\n ('hey', 1),\n ('is', 1),\n ('hello', 1),\n ('hello', 1),\n ('hi', 1),\n ('hi', 1),\n ('hi', 1),\n ('hey', 1),\n ('is', 1),\n ('hey', 1),\n ('hello', 1),\n ('hello', 1),\n ('hi', 1),\n ('hello', 1),\n ('hi', 1),\n ('hi', 1),\n ('it', 1),\n ('hi', 1),\n ('hello', 1),\n ('hi', 1),\n ('hey', 1),\n ('it', 1),\n ('hello', 1),\n ('hello', 1),\n ('it', 1),\n ('hi', 1),\n ('hi', 1),\n ('hi', 1),\n ('hey', 1),\n ('hey', 1),\n ('hello', 1),\n ('hello', 1),\n ('hi', 1),\n ('hello', 1),\n ('hi', 1)]"
     ]
    }
   ],
   "source": [
    "rdd3.collect()"
   ]
  },
  {
   "cell_type": "code",
   "execution_count": 0,
   "metadata": {
    "application/vnd.databricks.v1+cell": {
     "cellMetadata": {
      "byteLimit": 2048000,
      "rowLimit": 10000
     },
     "inputWidgets": {},
     "nuid": "0567e691-3ce1-4e24-a292-39561ccb9000",
     "showTitle": true,
     "title": "Aggregate data correcponding to a key with the help of an associative reduce function"
    }
   },
   "outputs": [],
   "source": [
    "rdd4 = rdd3.reduceByKey(lambda x, y: x+y)"
   ]
  },
  {
   "cell_type": "code",
   "execution_count": 0,
   "metadata": {
    "application/vnd.databricks.v1+cell": {
     "cellMetadata": {
      "byteLimit": 2048000,
      "rowLimit": 10000
     },
     "inputWidgets": {},
     "nuid": "2b8bbe86-de37-4fbd-a51c-20fee1f05ee2",
     "showTitle": true,
     "title": "Retrieve RDD4"
    }
   },
   "outputs": [
    {
     "output_type": "stream",
     "name": "stdout",
     "output_type": "stream",
     "text": [
      "Out[25]: [('good', 4),\n ('is', 6),\n ('', 1),\n ('hi', 41),\n ('hello', 31),\n ('hey', 15),\n ('day', 3),\n ('it', 4)]"
     ]
    }
   ],
   "source": [
    "rdd4.collect()"
   ]
  },
  {
   "cell_type": "code",
   "execution_count": 0,
   "metadata": {
    "application/vnd.databricks.v1+cell": {
     "cellMetadata": {
      "byteLimit": 2048000,
      "rowLimit": 10000
     },
     "inputWidgets": {},
     "nuid": "6f8a9926-3b44-4662-89ce-8babaf87bdfe",
     "showTitle": true,
     "title": "Write elements to a text file"
    }
   },
   "outputs": [],
   "source": [
    "rdd4.saveAsTextFile('dbfs:/results.txt')"
   ]
  },
  {
   "cell_type": "code",
   "execution_count": 0,
   "metadata": {
    "application/vnd.databricks.v1+cell": {
     "cellMetadata": {
      "byteLimit": 2048000,
      "rowLimit": 10000
     },
     "inputWidgets": {},
     "nuid": "860bc501-80fb-4cf9-9b3f-ad710a16428e",
     "showTitle": false,
     "title": ""
    }
   },
   "outputs": [
    {
     "output_type": "stream",
     "name": "stdout",
     "output_type": "stream",
     "text": [
      "Out[37]: [FileInfo(path='dbfs:/results.txt/_SUCCESS', name='_SUCCESS', size=0, modificationTime=1710528054000),\n FileInfo(path='dbfs:/results.txt/part-00000', name='part-00000', size=30, modificationTime=1710528054000),\n FileInfo(path='dbfs:/results.txt/part-00001', name='part-00001', size=58, modificationTime=1710528054000)]"
     ]
    }
   ],
   "source": [
    "dbutils.fs.ls(\"dbfs:/results.txt\")"
   ]
  },
  {
   "cell_type": "code",
   "execution_count": 0,
   "metadata": {
    "application/vnd.databricks.v1+cell": {
     "cellMetadata": {},
     "inputWidgets": {},
     "nuid": "4b9ad971-7e2a-4940-a4d8-fc339a2435f4",
     "showTitle": false,
     "title": ""
    }
   },
   "outputs": [],
   "source": []
  }
 ],
 "metadata": {
  "application/vnd.databricks.v1+notebook": {
   "dashboards": [],
   "language": "python",
   "notebookMetadata": {
    "pythonIndentUnit": 4
   },
   "notebookName": "Assignment III, ApacheSpark 2024-03-15 13:47:03",
   "widgets": {}
  }
 },
 "nbformat": 4,
 "nbformat_minor": 0
}
