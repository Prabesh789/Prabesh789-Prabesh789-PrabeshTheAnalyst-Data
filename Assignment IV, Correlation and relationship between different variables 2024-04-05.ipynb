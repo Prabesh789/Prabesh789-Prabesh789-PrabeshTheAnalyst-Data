{
 "cells": [
  {
   "cell_type": "code",
   "execution_count": 0,
   "metadata": {
    "application/vnd.databricks.v1+cell": {
     "cellMetadata": {},
     "inputWidgets": {},
     "nuid": "42d785e5-db36-4a62-a351-1dc323a079c0",
     "showTitle": true,
     "title": "Iris Dataset Location"
    }
   },
   "outputs": [],
   "source": [
    "/FileStore/tables/Iris_dataset.csv"
   ]
  },
  {
   "cell_type": "code",
   "execution_count": 0,
   "metadata": {
    "application/vnd.databricks.v1+cell": {
     "cellMetadata": {
      "byteLimit": 2048000,
      "rowLimit": 10000
     },
     "inputWidgets": {},
     "nuid": "f02e8687-bdf0-4377-9c87-c7ae53e4108d",
     "showTitle": true,
     "title": "Initializing Spark session and Loading the Data"
    }
   },
   "outputs": [
    {
     "output_type": "stream",
     "name": "stdout",
     "output_type": "stream",
     "text": [
      "root\n |-- Id: integer (nullable = true)\n |-- SepalLengthCm: double (nullable = true)\n |-- SepalWidthCm: double (nullable = true)\n |-- PetalLengthCm: double (nullable = true)\n |-- PetalWidthCm: double (nullable = true)\n |-- Species: string (nullable = true)\n\n"
     ]
    },
    {
     "output_type": "display_data",
     "data": {
      "text/html": [
       "<style scoped>\n",
       "  .table-result-container {\n",
       "    max-height: 300px;\n",
       "    overflow: auto;\n",
       "  }\n",
       "  table, th, td {\n",
       "    border: 1px solid black;\n",
       "    border-collapse: collapse;\n",
       "  }\n",
       "  th, td {\n",
       "    padding: 5px;\n",
       "  }\n",
       "  th {\n",
       "    text-align: left;\n",
       "  }\n",
       "</style><div class='table-result-container'><table class='table-result'><thead style='background-color: white'><tr><th>Id</th><th>SepalLengthCm</th><th>SepalWidthCm</th><th>PetalLengthCm</th><th>PetalWidthCm</th><th>Species</th></tr></thead><tbody><tr><td>1</td><td>5.1</td><td>3.5</td><td>1.4</td><td>0.2</td><td>Iris-setosa</td></tr><tr><td>2</td><td>4.9</td><td>3.0</td><td>1.4</td><td>0.2</td><td>Iris-setosa</td></tr><tr><td>3</td><td>4.7</td><td>3.2</td><td>1.3</td><td>0.2</td><td>Iris-setosa</td></tr><tr><td>4</td><td>4.6</td><td>3.1</td><td>1.5</td><td>0.2</td><td>Iris-setosa</td></tr><tr><td>5</td><td>5.0</td><td>3.6</td><td>1.4</td><td>0.2</td><td>Iris-setosa</td></tr><tr><td>6</td><td>5.4</td><td>3.9</td><td>1.7</td><td>0.4</td><td>Iris-setosa</td></tr><tr><td>7</td><td>4.6</td><td>3.4</td><td>1.4</td><td>0.3</td><td>Iris-setosa</td></tr><tr><td>8</td><td>5.0</td><td>3.4</td><td>1.5</td><td>0.2</td><td>Iris-setosa</td></tr><tr><td>9</td><td>4.4</td><td>2.9</td><td>1.4</td><td>0.2</td><td>Iris-setosa</td></tr><tr><td>10</td><td>4.9</td><td>3.1</td><td>1.5</td><td>0.1</td><td>Iris-setosa</td></tr><tr><td>11</td><td>5.4</td><td>3.7</td><td>1.5</td><td>0.2</td><td>Iris-setosa</td></tr><tr><td>12</td><td>4.8</td><td>3.4</td><td>1.6</td><td>0.2</td><td>Iris-setosa</td></tr><tr><td>13</td><td>4.8</td><td>3.0</td><td>1.4</td><td>0.1</td><td>Iris-setosa</td></tr><tr><td>14</td><td>4.3</td><td>3.0</td><td>1.1</td><td>0.1</td><td>Iris-setosa</td></tr><tr><td>15</td><td>5.8</td><td>4.0</td><td>1.2</td><td>0.2</td><td>Iris-setosa</td></tr><tr><td>16</td><td>5.7</td><td>4.4</td><td>1.5</td><td>0.4</td><td>Iris-setosa</td></tr><tr><td>17</td><td>5.4</td><td>3.9</td><td>1.3</td><td>0.4</td><td>Iris-setosa</td></tr><tr><td>18</td><td>5.1</td><td>3.5</td><td>1.4</td><td>0.3</td><td>Iris-setosa</td></tr><tr><td>19</td><td>5.7</td><td>3.8</td><td>1.7</td><td>0.3</td><td>Iris-setosa</td></tr><tr><td>20</td><td>5.1</td><td>3.8</td><td>1.5</td><td>0.3</td><td>Iris-setosa</td></tr><tr><td>21</td><td>5.4</td><td>3.4</td><td>1.7</td><td>0.2</td><td>Iris-setosa</td></tr><tr><td>22</td><td>5.1</td><td>3.7</td><td>1.5</td><td>0.4</td><td>Iris-setosa</td></tr><tr><td>23</td><td>4.6</td><td>3.6</td><td>1.0</td><td>0.2</td><td>Iris-setosa</td></tr><tr><td>24</td><td>5.1</td><td>3.3</td><td>1.7</td><td>0.5</td><td>Iris-setosa</td></tr><tr><td>25</td><td>4.8</td><td>3.4</td><td>1.9</td><td>0.2</td><td>Iris-setosa</td></tr><tr><td>26</td><td>5.0</td><td>3.0</td><td>1.6</td><td>0.2</td><td>Iris-setosa</td></tr><tr><td>27</td><td>5.0</td><td>3.4</td><td>1.6</td><td>0.4</td><td>Iris-setosa</td></tr><tr><td>28</td><td>5.2</td><td>3.5</td><td>1.5</td><td>0.2</td><td>Iris-setosa</td></tr><tr><td>29</td><td>5.2</td><td>3.4</td><td>1.4</td><td>0.2</td><td>Iris-setosa</td></tr><tr><td>30</td><td>4.7</td><td>3.2</td><td>1.6</td><td>0.2</td><td>Iris-setosa</td></tr><tr><td>31</td><td>4.8</td><td>3.1</td><td>1.6</td><td>0.2</td><td>Iris-setosa</td></tr><tr><td>32</td><td>5.4</td><td>3.4</td><td>1.5</td><td>0.4</td><td>Iris-setosa</td></tr><tr><td>33</td><td>5.2</td><td>4.1</td><td>1.5</td><td>0.1</td><td>Iris-setosa</td></tr><tr><td>34</td><td>5.5</td><td>4.2</td><td>1.4</td><td>0.2</td><td>Iris-setosa</td></tr><tr><td>35</td><td>4.9</td><td>3.1</td><td>1.5</td><td>0.1</td><td>Iris-setosa</td></tr><tr><td>36</td><td>5.0</td><td>3.2</td><td>1.2</td><td>0.2</td><td>Iris-setosa</td></tr><tr><td>37</td><td>5.5</td><td>3.5</td><td>1.3</td><td>0.2</td><td>Iris-setosa</td></tr><tr><td>38</td><td>4.9</td><td>3.1</td><td>1.5</td><td>0.1</td><td>Iris-setosa</td></tr><tr><td>39</td><td>4.4</td><td>3.0</td><td>1.3</td><td>0.2</td><td>Iris-setosa</td></tr><tr><td>40</td><td>5.1</td><td>3.4</td><td>1.5</td><td>0.2</td><td>Iris-setosa</td></tr><tr><td>41</td><td>5.0</td><td>3.5</td><td>1.3</td><td>0.3</td><td>Iris-setosa</td></tr><tr><td>42</td><td>4.5</td><td>2.3</td><td>1.3</td><td>0.3</td><td>Iris-setosa</td></tr><tr><td>43</td><td>4.4</td><td>3.2</td><td>1.3</td><td>0.2</td><td>Iris-setosa</td></tr><tr><td>44</td><td>5.0</td><td>3.5</td><td>1.6</td><td>0.6</td><td>Iris-setosa</td></tr><tr><td>45</td><td>5.1</td><td>3.8</td><td>1.9</td><td>0.4</td><td>Iris-setosa</td></tr><tr><td>46</td><td>4.8</td><td>3.0</td><td>1.4</td><td>0.3</td><td>Iris-setosa</td></tr><tr><td>47</td><td>5.1</td><td>3.8</td><td>1.6</td><td>0.2</td><td>Iris-setosa</td></tr><tr><td>48</td><td>4.6</td><td>3.2</td><td>1.4</td><td>0.2</td><td>Iris-setosa</td></tr><tr><td>49</td><td>5.3</td><td>3.7</td><td>1.5</td><td>0.2</td><td>Iris-setosa</td></tr><tr><td>50</td><td>5.0</td><td>3.3</td><td>1.4</td><td>0.2</td><td>Iris-setosa</td></tr><tr><td>51</td><td>7.0</td><td>3.2</td><td>4.7</td><td>1.4</td><td>Iris-versicolor</td></tr><tr><td>52</td><td>6.4</td><td>3.2</td><td>4.5</td><td>1.5</td><td>Iris-versicolor</td></tr><tr><td>53</td><td>6.9</td><td>3.1</td><td>4.9</td><td>1.5</td><td>Iris-versicolor</td></tr><tr><td>54</td><td>5.5</td><td>2.3</td><td>4.0</td><td>1.3</td><td>Iris-versicolor</td></tr><tr><td>55</td><td>6.5</td><td>2.8</td><td>4.6</td><td>1.5</td><td>Iris-versicolor</td></tr><tr><td>56</td><td>5.7</td><td>2.8</td><td>4.5</td><td>1.3</td><td>Iris-versicolor</td></tr><tr><td>57</td><td>6.3</td><td>3.3</td><td>4.7</td><td>1.6</td><td>Iris-versicolor</td></tr><tr><td>58</td><td>4.9</td><td>2.4</td><td>3.3</td><td>1.0</td><td>Iris-versicolor</td></tr><tr><td>59</td><td>6.6</td><td>2.9</td><td>4.6</td><td>1.3</td><td>Iris-versicolor</td></tr><tr><td>60</td><td>5.2</td><td>2.7</td><td>3.9</td><td>1.4</td><td>Iris-versicolor</td></tr><tr><td>61</td><td>5.0</td><td>2.0</td><td>3.5</td><td>1.0</td><td>Iris-versicolor</td></tr><tr><td>62</td><td>5.9</td><td>3.0</td><td>4.2</td><td>1.5</td><td>Iris-versicolor</td></tr><tr><td>63</td><td>6.0</td><td>2.2</td><td>4.0</td><td>1.0</td><td>Iris-versicolor</td></tr><tr><td>64</td><td>6.1</td><td>2.9</td><td>4.7</td><td>1.4</td><td>Iris-versicolor</td></tr><tr><td>65</td><td>5.6</td><td>2.9</td><td>3.6</td><td>1.3</td><td>Iris-versicolor</td></tr><tr><td>66</td><td>6.7</td><td>3.1</td><td>4.4</td><td>1.4</td><td>Iris-versicolor</td></tr><tr><td>67</td><td>5.6</td><td>3.0</td><td>4.5</td><td>1.5</td><td>Iris-versicolor</td></tr><tr><td>68</td><td>5.8</td><td>2.7</td><td>4.1</td><td>1.0</td><td>Iris-versicolor</td></tr><tr><td>69</td><td>6.2</td><td>2.2</td><td>4.5</td><td>1.5</td><td>Iris-versicolor</td></tr><tr><td>70</td><td>5.6</td><td>2.5</td><td>3.9</td><td>1.1</td><td>Iris-versicolor</td></tr><tr><td>71</td><td>5.9</td><td>3.2</td><td>4.8</td><td>1.8</td><td>Iris-versicolor</td></tr><tr><td>72</td><td>6.1</td><td>2.8</td><td>4.0</td><td>1.3</td><td>Iris-versicolor</td></tr><tr><td>73</td><td>6.3</td><td>2.5</td><td>4.9</td><td>1.5</td><td>Iris-versicolor</td></tr><tr><td>74</td><td>6.1</td><td>2.8</td><td>4.7</td><td>1.2</td><td>Iris-versicolor</td></tr><tr><td>75</td><td>6.4</td><td>2.9</td><td>4.3</td><td>1.3</td><td>Iris-versicolor</td></tr><tr><td>76</td><td>6.6</td><td>3.0</td><td>4.4</td><td>1.4</td><td>Iris-versicolor</td></tr><tr><td>77</td><td>6.8</td><td>2.8</td><td>4.8</td><td>1.4</td><td>Iris-versicolor</td></tr><tr><td>78</td><td>6.7</td><td>3.0</td><td>5.0</td><td>1.7</td><td>Iris-versicolor</td></tr><tr><td>79</td><td>6.0</td><td>2.9</td><td>4.5</td><td>1.5</td><td>Iris-versicolor</td></tr><tr><td>80</td><td>5.7</td><td>2.6</td><td>3.5</td><td>1.0</td><td>Iris-versicolor</td></tr><tr><td>81</td><td>5.5</td><td>2.4</td><td>3.8</td><td>1.1</td><td>Iris-versicolor</td></tr><tr><td>82</td><td>5.5</td><td>2.4</td><td>3.7</td><td>1.0</td><td>Iris-versicolor</td></tr><tr><td>83</td><td>5.8</td><td>2.7</td><td>3.9</td><td>1.2</td><td>Iris-versicolor</td></tr><tr><td>84</td><td>6.0</td><td>2.7</td><td>5.1</td><td>1.6</td><td>Iris-versicolor</td></tr><tr><td>85</td><td>5.4</td><td>3.0</td><td>4.5</td><td>1.5</td><td>Iris-versicolor</td></tr><tr><td>86</td><td>6.0</td><td>3.4</td><td>4.5</td><td>1.6</td><td>Iris-versicolor</td></tr><tr><td>87</td><td>6.7</td><td>3.1</td><td>4.7</td><td>1.5</td><td>Iris-versicolor</td></tr><tr><td>88</td><td>6.3</td><td>2.3</td><td>4.4</td><td>1.3</td><td>Iris-versicolor</td></tr><tr><td>89</td><td>5.6</td><td>3.0</td><td>4.1</td><td>1.3</td><td>Iris-versicolor</td></tr><tr><td>90</td><td>5.5</td><td>2.5</td><td>4.0</td><td>1.3</td><td>Iris-versicolor</td></tr><tr><td>91</td><td>5.5</td><td>2.6</td><td>4.4</td><td>1.2</td><td>Iris-versicolor</td></tr><tr><td>92</td><td>6.1</td><td>3.0</td><td>4.6</td><td>1.4</td><td>Iris-versicolor</td></tr><tr><td>93</td><td>5.8</td><td>2.6</td><td>4.0</td><td>1.2</td><td>Iris-versicolor</td></tr><tr><td>94</td><td>5.0</td><td>2.3</td><td>3.3</td><td>1.0</td><td>Iris-versicolor</td></tr><tr><td>95</td><td>5.6</td><td>2.7</td><td>4.2</td><td>1.3</td><td>Iris-versicolor</td></tr><tr><td>96</td><td>5.7</td><td>3.0</td><td>4.2</td><td>1.2</td><td>Iris-versicolor</td></tr><tr><td>97</td><td>5.7</td><td>2.9</td><td>4.2</td><td>1.3</td><td>Iris-versicolor</td></tr><tr><td>98</td><td>6.2</td><td>2.9</td><td>4.3</td><td>1.3</td><td>Iris-versicolor</td></tr><tr><td>99</td><td>5.1</td><td>2.5</td><td>3.0</td><td>1.1</td><td>Iris-versicolor</td></tr><tr><td>100</td><td>5.7</td><td>2.8</td><td>4.1</td><td>1.3</td><td>Iris-versicolor</td></tr><tr><td>101</td><td>6.3</td><td>3.3</td><td>6.0</td><td>2.5</td><td>Iris-virginica</td></tr><tr><td>102</td><td>5.8</td><td>2.7</td><td>5.1</td><td>1.9</td><td>Iris-virginica</td></tr><tr><td>103</td><td>7.1</td><td>3.0</td><td>5.9</td><td>2.1</td><td>Iris-virginica</td></tr><tr><td>104</td><td>6.3</td><td>2.9</td><td>5.6</td><td>1.8</td><td>Iris-virginica</td></tr><tr><td>105</td><td>6.5</td><td>3.0</td><td>5.8</td><td>2.2</td><td>Iris-virginica</td></tr><tr><td>106</td><td>7.6</td><td>3.0</td><td>6.6</td><td>2.1</td><td>Iris-virginica</td></tr><tr><td>107</td><td>4.9</td><td>2.5</td><td>4.5</td><td>1.7</td><td>Iris-virginica</td></tr><tr><td>108</td><td>7.3</td><td>2.9</td><td>6.3</td><td>1.8</td><td>Iris-virginica</td></tr><tr><td>109</td><td>6.7</td><td>2.5</td><td>5.8</td><td>1.8</td><td>Iris-virginica</td></tr><tr><td>110</td><td>7.2</td><td>3.6</td><td>6.1</td><td>2.5</td><td>Iris-virginica</td></tr><tr><td>111</td><td>6.5</td><td>3.2</td><td>5.1</td><td>2.0</td><td>Iris-virginica</td></tr><tr><td>112</td><td>6.4</td><td>2.7</td><td>5.3</td><td>1.9</td><td>Iris-virginica</td></tr><tr><td>113</td><td>6.8</td><td>3.0</td><td>5.5</td><td>2.1</td><td>Iris-virginica</td></tr><tr><td>114</td><td>5.7</td><td>2.5</td><td>5.0</td><td>2.0</td><td>Iris-virginica</td></tr><tr><td>115</td><td>5.8</td><td>2.8</td><td>5.1</td><td>2.4</td><td>Iris-virginica</td></tr><tr><td>116</td><td>6.4</td><td>3.2</td><td>5.3</td><td>2.3</td><td>Iris-virginica</td></tr><tr><td>117</td><td>6.5</td><td>3.0</td><td>5.5</td><td>1.8</td><td>Iris-virginica</td></tr><tr><td>118</td><td>7.7</td><td>3.8</td><td>6.7</td><td>2.2</td><td>Iris-virginica</td></tr><tr><td>119</td><td>7.7</td><td>2.6</td><td>6.9</td><td>2.3</td><td>Iris-virginica</td></tr><tr><td>120</td><td>6.0</td><td>2.2</td><td>5.0</td><td>1.5</td><td>Iris-virginica</td></tr><tr><td>121</td><td>6.9</td><td>3.2</td><td>5.7</td><td>2.3</td><td>Iris-virginica</td></tr><tr><td>122</td><td>5.6</td><td>2.8</td><td>4.9</td><td>2.0</td><td>Iris-virginica</td></tr><tr><td>123</td><td>7.7</td><td>2.8</td><td>6.7</td><td>2.0</td><td>Iris-virginica</td></tr><tr><td>124</td><td>6.3</td><td>2.7</td><td>4.9</td><td>1.8</td><td>Iris-virginica</td></tr><tr><td>125</td><td>6.7</td><td>3.3</td><td>5.7</td><td>2.1</td><td>Iris-virginica</td></tr><tr><td>126</td><td>7.2</td><td>3.2</td><td>6.0</td><td>1.8</td><td>Iris-virginica</td></tr><tr><td>127</td><td>6.2</td><td>2.8</td><td>4.8</td><td>1.8</td><td>Iris-virginica</td></tr><tr><td>128</td><td>6.1</td><td>3.0</td><td>4.9</td><td>1.8</td><td>Iris-virginica</td></tr><tr><td>129</td><td>6.4</td><td>2.8</td><td>5.6</td><td>2.1</td><td>Iris-virginica</td></tr><tr><td>130</td><td>7.2</td><td>3.0</td><td>5.8</td><td>1.6</td><td>Iris-virginica</td></tr><tr><td>131</td><td>7.4</td><td>2.8</td><td>6.1</td><td>1.9</td><td>Iris-virginica</td></tr><tr><td>132</td><td>7.9</td><td>3.8</td><td>6.4</td><td>2.0</td><td>Iris-virginica</td></tr><tr><td>133</td><td>6.4</td><td>2.8</td><td>5.6</td><td>2.2</td><td>Iris-virginica</td></tr><tr><td>134</td><td>6.3</td><td>2.8</td><td>5.1</td><td>1.5</td><td>Iris-virginica</td></tr><tr><td>135</td><td>6.1</td><td>2.6</td><td>5.6</td><td>1.4</td><td>Iris-virginica</td></tr><tr><td>136</td><td>7.7</td><td>3.0</td><td>6.1</td><td>2.3</td><td>Iris-virginica</td></tr><tr><td>137</td><td>6.3</td><td>3.4</td><td>5.6</td><td>2.4</td><td>Iris-virginica</td></tr><tr><td>138</td><td>6.4</td><td>3.1</td><td>5.5</td><td>1.8</td><td>Iris-virginica</td></tr><tr><td>139</td><td>6.0</td><td>3.0</td><td>4.8</td><td>1.8</td><td>Iris-virginica</td></tr><tr><td>140</td><td>6.9</td><td>3.1</td><td>5.4</td><td>2.1</td><td>Iris-virginica</td></tr><tr><td>141</td><td>6.7</td><td>3.1</td><td>5.6</td><td>2.4</td><td>Iris-virginica</td></tr><tr><td>142</td><td>6.9</td><td>3.1</td><td>5.1</td><td>2.3</td><td>Iris-virginica</td></tr><tr><td>143</td><td>5.8</td><td>2.7</td><td>5.1</td><td>1.9</td><td>Iris-virginica</td></tr><tr><td>144</td><td>6.8</td><td>3.2</td><td>5.9</td><td>2.3</td><td>Iris-virginica</td></tr><tr><td>145</td><td>6.7</td><td>3.3</td><td>5.7</td><td>2.5</td><td>Iris-virginica</td></tr><tr><td>146</td><td>6.7</td><td>3.0</td><td>5.2</td><td>2.3</td><td>Iris-virginica</td></tr><tr><td>147</td><td>6.3</td><td>2.5</td><td>5.0</td><td>1.9</td><td>Iris-virginica</td></tr><tr><td>148</td><td>6.5</td><td>3.0</td><td>5.2</td><td>2.0</td><td>Iris-virginica</td></tr><tr><td>149</td><td>6.2</td><td>3.4</td><td>5.4</td><td>2.3</td><td>Iris-virginica</td></tr><tr><td>150</td><td>5.9</td><td>3.0</td><td>5.1</td><td>1.8</td><td>Iris-virginica</td></tr></tbody></table></div>"
      ]
     },
     "metadata": {
      "application/vnd.databricks.v1+output": {
       "addedWidgets": {},
       "aggData": [],
       "aggError": "",
       "aggOverflow": false,
       "aggSchema": [],
       "aggSeriesLimitReached": false,
       "aggType": "",
       "arguments": {},
       "columnCustomDisplayInfos": {},
       "data": [
        [
         1,
         5.1,
         3.5,
         1.4,
         0.2,
         "Iris-setosa"
        ],
        [
         2,
         4.9,
         3.0,
         1.4,
         0.2,
         "Iris-setosa"
        ],
        [
         3,
         4.7,
         3.2,
         1.3,
         0.2,
         "Iris-setosa"
        ],
        [
         4,
         4.6,
         3.1,
         1.5,
         0.2,
         "Iris-setosa"
        ],
        [
         5,
         5.0,
         3.6,
         1.4,
         0.2,
         "Iris-setosa"
        ],
        [
         6,
         5.4,
         3.9,
         1.7,
         0.4,
         "Iris-setosa"
        ],
        [
         7,
         4.6,
         3.4,
         1.4,
         0.3,
         "Iris-setosa"
        ],
        [
         8,
         5.0,
         3.4,
         1.5,
         0.2,
         "Iris-setosa"
        ],
        [
         9,
         4.4,
         2.9,
         1.4,
         0.2,
         "Iris-setosa"
        ],
        [
         10,
         4.9,
         3.1,
         1.5,
         0.1,
         "Iris-setosa"
        ],
        [
         11,
         5.4,
         3.7,
         1.5,
         0.2,
         "Iris-setosa"
        ],
        [
         12,
         4.8,
         3.4,
         1.6,
         0.2,
         "Iris-setosa"
        ],
        [
         13,
         4.8,
         3.0,
         1.4,
         0.1,
         "Iris-setosa"
        ],
        [
         14,
         4.3,
         3.0,
         1.1,
         0.1,
         "Iris-setosa"
        ],
        [
         15,
         5.8,
         4.0,
         1.2,
         0.2,
         "Iris-setosa"
        ],
        [
         16,
         5.7,
         4.4,
         1.5,
         0.4,
         "Iris-setosa"
        ],
        [
         17,
         5.4,
         3.9,
         1.3,
         0.4,
         "Iris-setosa"
        ],
        [
         18,
         5.1,
         3.5,
         1.4,
         0.3,
         "Iris-setosa"
        ],
        [
         19,
         5.7,
         3.8,
         1.7,
         0.3,
         "Iris-setosa"
        ],
        [
         20,
         5.1,
         3.8,
         1.5,
         0.3,
         "Iris-setosa"
        ],
        [
         21,
         5.4,
         3.4,
         1.7,
         0.2,
         "Iris-setosa"
        ],
        [
         22,
         5.1,
         3.7,
         1.5,
         0.4,
         "Iris-setosa"
        ],
        [
         23,
         4.6,
         3.6,
         1.0,
         0.2,
         "Iris-setosa"
        ],
        [
         24,
         5.1,
         3.3,
         1.7,
         0.5,
         "Iris-setosa"
        ],
        [
         25,
         4.8,
         3.4,
         1.9,
         0.2,
         "Iris-setosa"
        ],
        [
         26,
         5.0,
         3.0,
         1.6,
         0.2,
         "Iris-setosa"
        ],
        [
         27,
         5.0,
         3.4,
         1.6,
         0.4,
         "Iris-setosa"
        ],
        [
         28,
         5.2,
         3.5,
         1.5,
         0.2,
         "Iris-setosa"
        ],
        [
         29,
         5.2,
         3.4,
         1.4,
         0.2,
         "Iris-setosa"
        ],
        [
         30,
         4.7,
         3.2,
         1.6,
         0.2,
         "Iris-setosa"
        ],
        [
         31,
         4.8,
         3.1,
         1.6,
         0.2,
         "Iris-setosa"
        ],
        [
         32,
         5.4,
         3.4,
         1.5,
         0.4,
         "Iris-setosa"
        ],
        [
         33,
         5.2,
         4.1,
         1.5,
         0.1,
         "Iris-setosa"
        ],
        [
         34,
         5.5,
         4.2,
         1.4,
         0.2,
         "Iris-setosa"
        ],
        [
         35,
         4.9,
         3.1,
         1.5,
         0.1,
         "Iris-setosa"
        ],
        [
         36,
         5.0,
         3.2,
         1.2,
         0.2,
         "Iris-setosa"
        ],
        [
         37,
         5.5,
         3.5,
         1.3,
         0.2,
         "Iris-setosa"
        ],
        [
         38,
         4.9,
         3.1,
         1.5,
         0.1,
         "Iris-setosa"
        ],
        [
         39,
         4.4,
         3.0,
         1.3,
         0.2,
         "Iris-setosa"
        ],
        [
         40,
         5.1,
         3.4,
         1.5,
         0.2,
         "Iris-setosa"
        ],
        [
         41,
         5.0,
         3.5,
         1.3,
         0.3,
         "Iris-setosa"
        ],
        [
         42,
         4.5,
         2.3,
         1.3,
         0.3,
         "Iris-setosa"
        ],
        [
         43,
         4.4,
         3.2,
         1.3,
         0.2,
         "Iris-setosa"
        ],
        [
         44,
         5.0,
         3.5,
         1.6,
         0.6,
         "Iris-setosa"
        ],
        [
         45,
         5.1,
         3.8,
         1.9,
         0.4,
         "Iris-setosa"
        ],
        [
         46,
         4.8,
         3.0,
         1.4,
         0.3,
         "Iris-setosa"
        ],
        [
         47,
         5.1,
         3.8,
         1.6,
         0.2,
         "Iris-setosa"
        ],
        [
         48,
         4.6,
         3.2,
         1.4,
         0.2,
         "Iris-setosa"
        ],
        [
         49,
         5.3,
         3.7,
         1.5,
         0.2,
         "Iris-setosa"
        ],
        [
         50,
         5.0,
         3.3,
         1.4,
         0.2,
         "Iris-setosa"
        ],
        [
         51,
         7.0,
         3.2,
         4.7,
         1.4,
         "Iris-versicolor"
        ],
        [
         52,
         6.4,
         3.2,
         4.5,
         1.5,
         "Iris-versicolor"
        ],
        [
         53,
         6.9,
         3.1,
         4.9,
         1.5,
         "Iris-versicolor"
        ],
        [
         54,
         5.5,
         2.3,
         4.0,
         1.3,
         "Iris-versicolor"
        ],
        [
         55,
         6.5,
         2.8,
         4.6,
         1.5,
         "Iris-versicolor"
        ],
        [
         56,
         5.7,
         2.8,
         4.5,
         1.3,
         "Iris-versicolor"
        ],
        [
         57,
         6.3,
         3.3,
         4.7,
         1.6,
         "Iris-versicolor"
        ],
        [
         58,
         4.9,
         2.4,
         3.3,
         1.0,
         "Iris-versicolor"
        ],
        [
         59,
         6.6,
         2.9,
         4.6,
         1.3,
         "Iris-versicolor"
        ],
        [
         60,
         5.2,
         2.7,
         3.9,
         1.4,
         "Iris-versicolor"
        ],
        [
         61,
         5.0,
         2.0,
         3.5,
         1.0,
         "Iris-versicolor"
        ],
        [
         62,
         5.9,
         3.0,
         4.2,
         1.5,
         "Iris-versicolor"
        ],
        [
         63,
         6.0,
         2.2,
         4.0,
         1.0,
         "Iris-versicolor"
        ],
        [
         64,
         6.1,
         2.9,
         4.7,
         1.4,
         "Iris-versicolor"
        ],
        [
         65,
         5.6,
         2.9,
         3.6,
         1.3,
         "Iris-versicolor"
        ],
        [
         66,
         6.7,
         3.1,
         4.4,
         1.4,
         "Iris-versicolor"
        ],
        [
         67,
         5.6,
         3.0,
         4.5,
         1.5,
         "Iris-versicolor"
        ],
        [
         68,
         5.8,
         2.7,
         4.1,
         1.0,
         "Iris-versicolor"
        ],
        [
         69,
         6.2,
         2.2,
         4.5,
         1.5,
         "Iris-versicolor"
        ],
        [
         70,
         5.6,
         2.5,
         3.9,
         1.1,
         "Iris-versicolor"
        ],
        [
         71,
         5.9,
         3.2,
         4.8,
         1.8,
         "Iris-versicolor"
        ],
        [
         72,
         6.1,
         2.8,
         4.0,
         1.3,
         "Iris-versicolor"
        ],
        [
         73,
         6.3,
         2.5,
         4.9,
         1.5,
         "Iris-versicolor"
        ],
        [
         74,
         6.1,
         2.8,
         4.7,
         1.2,
         "Iris-versicolor"
        ],
        [
         75,
         6.4,
         2.9,
         4.3,
         1.3,
         "Iris-versicolor"
        ],
        [
         76,
         6.6,
         3.0,
         4.4,
         1.4,
         "Iris-versicolor"
        ],
        [
         77,
         6.8,
         2.8,
         4.8,
         1.4,
         "Iris-versicolor"
        ],
        [
         78,
         6.7,
         3.0,
         5.0,
         1.7,
         "Iris-versicolor"
        ],
        [
         79,
         6.0,
         2.9,
         4.5,
         1.5,
         "Iris-versicolor"
        ],
        [
         80,
         5.7,
         2.6,
         3.5,
         1.0,
         "Iris-versicolor"
        ],
        [
         81,
         5.5,
         2.4,
         3.8,
         1.1,
         "Iris-versicolor"
        ],
        [
         82,
         5.5,
         2.4,
         3.7,
         1.0,
         "Iris-versicolor"
        ],
        [
         83,
         5.8,
         2.7,
         3.9,
         1.2,
         "Iris-versicolor"
        ],
        [
         84,
         6.0,
         2.7,
         5.1,
         1.6,
         "Iris-versicolor"
        ],
        [
         85,
         5.4,
         3.0,
         4.5,
         1.5,
         "Iris-versicolor"
        ],
        [
         86,
         6.0,
         3.4,
         4.5,
         1.6,
         "Iris-versicolor"
        ],
        [
         87,
         6.7,
         3.1,
         4.7,
         1.5,
         "Iris-versicolor"
        ],
        [
         88,
         6.3,
         2.3,
         4.4,
         1.3,
         "Iris-versicolor"
        ],
        [
         89,
         5.6,
         3.0,
         4.1,
         1.3,
         "Iris-versicolor"
        ],
        [
         90,
         5.5,
         2.5,
         4.0,
         1.3,
         "Iris-versicolor"
        ],
        [
         91,
         5.5,
         2.6,
         4.4,
         1.2,
         "Iris-versicolor"
        ],
        [
         92,
         6.1,
         3.0,
         4.6,
         1.4,
         "Iris-versicolor"
        ],
        [
         93,
         5.8,
         2.6,
         4.0,
         1.2,
         "Iris-versicolor"
        ],
        [
         94,
         5.0,
         2.3,
         3.3,
         1.0,
         "Iris-versicolor"
        ],
        [
         95,
         5.6,
         2.7,
         4.2,
         1.3,
         "Iris-versicolor"
        ],
        [
         96,
         5.7,
         3.0,
         4.2,
         1.2,
         "Iris-versicolor"
        ],
        [
         97,
         5.7,
         2.9,
         4.2,
         1.3,
         "Iris-versicolor"
        ],
        [
         98,
         6.2,
         2.9,
         4.3,
         1.3,
         "Iris-versicolor"
        ],
        [
         99,
         5.1,
         2.5,
         3.0,
         1.1,
         "Iris-versicolor"
        ],
        [
         100,
         5.7,
         2.8,
         4.1,
         1.3,
         "Iris-versicolor"
        ],
        [
         101,
         6.3,
         3.3,
         6.0,
         2.5,
         "Iris-virginica"
        ],
        [
         102,
         5.8,
         2.7,
         5.1,
         1.9,
         "Iris-virginica"
        ],
        [
         103,
         7.1,
         3.0,
         5.9,
         2.1,
         "Iris-virginica"
        ],
        [
         104,
         6.3,
         2.9,
         5.6,
         1.8,
         "Iris-virginica"
        ],
        [
         105,
         6.5,
         3.0,
         5.8,
         2.2,
         "Iris-virginica"
        ],
        [
         106,
         7.6,
         3.0,
         6.6,
         2.1,
         "Iris-virginica"
        ],
        [
         107,
         4.9,
         2.5,
         4.5,
         1.7,
         "Iris-virginica"
        ],
        [
         108,
         7.3,
         2.9,
         6.3,
         1.8,
         "Iris-virginica"
        ],
        [
         109,
         6.7,
         2.5,
         5.8,
         1.8,
         "Iris-virginica"
        ],
        [
         110,
         7.2,
         3.6,
         6.1,
         2.5,
         "Iris-virginica"
        ],
        [
         111,
         6.5,
         3.2,
         5.1,
         2.0,
         "Iris-virginica"
        ],
        [
         112,
         6.4,
         2.7,
         5.3,
         1.9,
         "Iris-virginica"
        ],
        [
         113,
         6.8,
         3.0,
         5.5,
         2.1,
         "Iris-virginica"
        ],
        [
         114,
         5.7,
         2.5,
         5.0,
         2.0,
         "Iris-virginica"
        ],
        [
         115,
         5.8,
         2.8,
         5.1,
         2.4,
         "Iris-virginica"
        ],
        [
         116,
         6.4,
         3.2,
         5.3,
         2.3,
         "Iris-virginica"
        ],
        [
         117,
         6.5,
         3.0,
         5.5,
         1.8,
         "Iris-virginica"
        ],
        [
         118,
         7.7,
         3.8,
         6.7,
         2.2,
         "Iris-virginica"
        ],
        [
         119,
         7.7,
         2.6,
         6.9,
         2.3,
         "Iris-virginica"
        ],
        [
         120,
         6.0,
         2.2,
         5.0,
         1.5,
         "Iris-virginica"
        ],
        [
         121,
         6.9,
         3.2,
         5.7,
         2.3,
         "Iris-virginica"
        ],
        [
         122,
         5.6,
         2.8,
         4.9,
         2.0,
         "Iris-virginica"
        ],
        [
         123,
         7.7,
         2.8,
         6.7,
         2.0,
         "Iris-virginica"
        ],
        [
         124,
         6.3,
         2.7,
         4.9,
         1.8,
         "Iris-virginica"
        ],
        [
         125,
         6.7,
         3.3,
         5.7,
         2.1,
         "Iris-virginica"
        ],
        [
         126,
         7.2,
         3.2,
         6.0,
         1.8,
         "Iris-virginica"
        ],
        [
         127,
         6.2,
         2.8,
         4.8,
         1.8,
         "Iris-virginica"
        ],
        [
         128,
         6.1,
         3.0,
         4.9,
         1.8,
         "Iris-virginica"
        ],
        [
         129,
         6.4,
         2.8,
         5.6,
         2.1,
         "Iris-virginica"
        ],
        [
         130,
         7.2,
         3.0,
         5.8,
         1.6,
         "Iris-virginica"
        ],
        [
         131,
         7.4,
         2.8,
         6.1,
         1.9,
         "Iris-virginica"
        ],
        [
         132,
         7.9,
         3.8,
         6.4,
         2.0,
         "Iris-virginica"
        ],
        [
         133,
         6.4,
         2.8,
         5.6,
         2.2,
         "Iris-virginica"
        ],
        [
         134,
         6.3,
         2.8,
         5.1,
         1.5,
         "Iris-virginica"
        ],
        [
         135,
         6.1,
         2.6,
         5.6,
         1.4,
         "Iris-virginica"
        ],
        [
         136,
         7.7,
         3.0,
         6.1,
         2.3,
         "Iris-virginica"
        ],
        [
         137,
         6.3,
         3.4,
         5.6,
         2.4,
         "Iris-virginica"
        ],
        [
         138,
         6.4,
         3.1,
         5.5,
         1.8,
         "Iris-virginica"
        ],
        [
         139,
         6.0,
         3.0,
         4.8,
         1.8,
         "Iris-virginica"
        ],
        [
         140,
         6.9,
         3.1,
         5.4,
         2.1,
         "Iris-virginica"
        ],
        [
         141,
         6.7,
         3.1,
         5.6,
         2.4,
         "Iris-virginica"
        ],
        [
         142,
         6.9,
         3.1,
         5.1,
         2.3,
         "Iris-virginica"
        ],
        [
         143,
         5.8,
         2.7,
         5.1,
         1.9,
         "Iris-virginica"
        ],
        [
         144,
         6.8,
         3.2,
         5.9,
         2.3,
         "Iris-virginica"
        ],
        [
         145,
         6.7,
         3.3,
         5.7,
         2.5,
         "Iris-virginica"
        ],
        [
         146,
         6.7,
         3.0,
         5.2,
         2.3,
         "Iris-virginica"
        ],
        [
         147,
         6.3,
         2.5,
         5.0,
         1.9,
         "Iris-virginica"
        ],
        [
         148,
         6.5,
         3.0,
         5.2,
         2.0,
         "Iris-virginica"
        ],
        [
         149,
         6.2,
         3.4,
         5.4,
         2.3,
         "Iris-virginica"
        ],
        [
         150,
         5.9,
         3.0,
         5.1,
         1.8,
         "Iris-virginica"
        ]
       ],
       "datasetInfos": [],
       "dbfsResultPath": null,
       "isJsonSchema": true,
       "metadata": {},
       "overflow": false,
       "plotOptions": {
        "customPlotOptions": {},
        "displayType": "table",
        "pivotAggregation": null,
        "pivotColumns": null,
        "xColumns": null,
        "yColumns": null
       },
       "removedWidgets": [],
       "schema": [
        {
         "metadata": "{}",
         "name": "Id",
         "type": "\"integer\""
        },
        {
         "metadata": "{}",
         "name": "SepalLengthCm",
         "type": "\"double\""
        },
        {
         "metadata": "{}",
         "name": "SepalWidthCm",
         "type": "\"double\""
        },
        {
         "metadata": "{}",
         "name": "PetalLengthCm",
         "type": "\"double\""
        },
        {
         "metadata": "{}",
         "name": "PetalWidthCm",
         "type": "\"double\""
        },
        {
         "metadata": "{}",
         "name": "Species",
         "type": "\"string\""
        }
       ],
       "type": "table"
      }
     },
     "output_type": "display_data"
    }
   ],
   "source": [
    "from pyspark.sql import SparkSession\n",
    "\n",
    "# Initialize Spark session\n",
    "spark = SparkSession.builder \\\n",
    "    .appName(\"Iris Correlation Analysis\") \\\n",
    "    .getOrCreate()\n",
    "\n",
    "# Read data from URL into DataFrame\n",
    "file_path = \"/FileStore/tables/Iris_dataset.csv\"\n",
    "iris_df = spark.read.csv(file_path, header=True, inferSchema=True)\n",
    "\n",
    "# Show the DataFrame schema and first few rows\n",
    "iris_df.printSchema()\n",
    "display(iris_df)"
   ]
  },
  {
   "cell_type": "code",
   "execution_count": 0,
   "metadata": {
    "application/vnd.databricks.v1+cell": {
     "cellMetadata": {
      "byteLimit": 2048000,
      "rowLimit": 10000
     },
     "inputWidgets": {},
     "nuid": "c64a4687-e6a1-4888-82da-3763b209c7a1",
     "showTitle": true,
     "title": "Calculating Correlation Using DataFrame API"
    }
   },
   "outputs": [
    {
     "output_type": "stream",
     "name": "stdout",
     "output_type": "stream",
     "text": [
      "Correlation between SepalLengthCm and PetalLengthCm : 0.8717541573048717\n0.8717541573048717"
     ]
    }
   ],
   "source": [
    "from pyspark.sql.functions import corr\n",
    "\n",
    "# Calculate correlation using DataFrame API\n",
    "correlation = iris_df.corr(\"SepalLengthCm\", \"PetalLengthCm\")\n",
    "\n",
    "print(\"Correlation between SepalLengthCm and PetalLengthCm :\", correlation)\n",
    "display(correlation)"
   ]
  },
  {
   "cell_type": "code",
   "execution_count": 0,
   "metadata": {
    "application/vnd.databricks.v1+cell": {
     "cellMetadata": {
      "byteLimit": 2048000,
      "rowLimit": 10000
     },
     "inputWidgets": {},
     "nuid": "7f3d3755-a369-401d-a727-a4f0942a21a4",
     "showTitle": true,
     "title": "Calculating Correlation matrix Using Resilient Distributed Dataset (RDD)"
    }
   },
   "outputs": [
    {
     "output_type": "stream",
     "name": "stdout",
     "output_type": "stream",
     "text": [
      "Correlation matrix:\n               SepalLengthCm  SepalWidthCm  PetalLengthCm  PetalWidthCm\nSepalLengthCm       1.000000     -0.109369       0.871754      0.817954\nSepalWidthCm       -0.109369      1.000000      -0.420516     -0.356544\nPetalLengthCm       0.871754     -0.420516       1.000000      0.962757\nPetalWidthCm        0.817954     -0.356544       0.962757      1.000000\n"
     ]
    },
    {
     "output_type": "display_data",
     "data": {
      "text/html": [
       "<style scoped>\n",
       "  .table-result-container {\n",
       "    max-height: 300px;\n",
       "    overflow: auto;\n",
       "  }\n",
       "  table, th, td {\n",
       "    border: 1px solid black;\n",
       "    border-collapse: collapse;\n",
       "  }\n",
       "  th, td {\n",
       "    padding: 5px;\n",
       "  }\n",
       "  th {\n",
       "    text-align: left;\n",
       "  }\n",
       "</style><div class='table-result-container'><table class='table-result'><thead style='background-color: white'><tr><th>SepalLengthCm</th><th>SepalWidthCm</th><th>PetalLengthCm</th><th>PetalWidthCm</th></tr></thead><tbody><tr><td>1.0</td><td>-0.10936924995064932</td><td>0.8717541573048723</td><td>0.8179536333691638</td></tr><tr><td>-0.10936924995064932</td><td>1.0</td><td>-0.4205160964011551</td><td>-0.3565440896138061</td></tr><tr><td>0.8717541573048723</td><td>-0.4205160964011551</td><td>1.0</td><td>0.9627570970509673</td></tr><tr><td>0.8179536333691638</td><td>-0.3565440896138061</td><td>0.9627570970509673</td><td>1.0</td></tr></tbody></table></div>"
      ]
     },
     "metadata": {
      "application/vnd.databricks.v1+output": {
       "addedWidgets": {},
       "aggData": [],
       "aggError": "",
       "aggOverflow": false,
       "aggSchema": [],
       "aggSeriesLimitReached": false,
       "aggType": "",
       "arguments": {},
       "columnCustomDisplayInfos": {},
       "data": [
        [
         1.0,
         -0.10936924995064932,
         0.8717541573048723,
         0.8179536333691638
        ],
        [
         -0.10936924995064932,
         1.0,
         -0.4205160964011551,
         -0.3565440896138061
        ],
        [
         0.8717541573048723,
         -0.4205160964011551,
         1.0,
         0.9627570970509673
        ],
        [
         0.8179536333691638,
         -0.3565440896138061,
         0.9627570970509673,
         1.0
        ]
       ],
       "datasetInfos": [],
       "dbfsResultPath": null,
       "isJsonSchema": true,
       "metadata": {},
       "overflow": false,
       "plotOptions": {
        "customPlotOptions": {},
        "displayType": "table",
        "pivotAggregation": null,
        "pivotColumns": null,
        "xColumns": null,
        "yColumns": null
       },
       "removedWidgets": [],
       "schema": [
        {
         "metadata": "{}",
         "name": "SepalLengthCm",
         "type": "\"double\""
        },
        {
         "metadata": "{}",
         "name": "SepalWidthCm",
         "type": "\"double\""
        },
        {
         "metadata": "{}",
         "name": "PetalLengthCm",
         "type": "\"double\""
        },
        {
         "metadata": "{}",
         "name": "PetalWidthCm",
         "type": "\"double\""
        }
       ],
       "type": "table"
      }
     },
     "output_type": "display_data"
    }
   ],
   "source": [
    "from pyspark.mllib.stat import Statistics\n",
    "from pyspark.mllib.linalg import Vectors\n",
    "import pandas as pd\n",
    "\n",
    "# Select only numeric columns\n",
    "columns = [\"SepalLengthCm\",  \"SepalWidthCm\", \"PetalLengthCm\", \"PetalWidthCm\"]\n",
    "data = iris_df.select(columns)\n",
    "\n",
    "# Convert the DataFrame into an RDD of Vectors\n",
    "rdd_vectors = data.rdd.map(lambda row: Vectors.dense(row))\n",
    "\n",
    "# Calculate the Pearson correlation matrix using the RDD of Vectors\n",
    "correlation_matrix = Statistics.corr(rdd_vectors, method=\"pearson\")\n",
    "\n",
    "correlation_df = pd.DataFrame(correlation_matrix, columns=columns, index=columns)\n",
    "print(\"Correlation matrix:\")\n",
    "print(correlation_df)\n",
    "display(correlation_df)"
   ]
  },
  {
   "cell_type": "code",
   "execution_count": 0,
   "metadata": {
    "application/vnd.databricks.v1+cell": {
     "cellMetadata": {
      "byteLimit": 2048000,
      "rowLimit": 10000
     },
     "inputWidgets": {},
     "nuid": "d43a2925-817e-4c14-9069-8e797afc9bd7",
     "showTitle": true,
     "title": "Correlation Heat Map Using Correlation Matrix"
    }
   },
   "outputs": [
    {
     "output_type": "display_data",
     "data": {
      "image/png": "[encoded data removed]"
     },
     "metadata": {
      "application/vnd.databricks.v1+output": {
       "addedWidgets": {},
       "arguments": {},
       "data": "data:image/png;base64,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\n",
       "datasetInfos": [],
       "metadata": {},
       "removedWidgets": [],
       "type": "image"
      }
     },
     "output_type": "display_data"
    }
   ],
   "source": [
    "import seaborn as sns\n",
    "import matplotlib.pyplot as plt\n",
    "import pandas as pd\n",
    "\n",
    "# Convert the correlation matrix to a Pandas DataFrame\n",
    "correlation_df = pd.DataFrame(correlation_matrix, columns=columns, index=columns)\n",
    "\n",
    "# Create the heatmap using Seaborn\n",
    "plt.figure(figsize=(9, 3))\n",
    "sns.heatmap(correlation_df, annot=True, cmap=\"coolwarm\", cbar_kws={\"aspect\": 60})\n",
    "plt.title(\"Correlation Matrix Heatmap\")\n",
    "plt.show()"
   ]
  }
 ],
 "metadata": {
  "application/vnd.databricks.v1+notebook": {
   "dashboards": [],
   "language": "python",
   "notebookMetadata": {
    "pythonIndentUnit": 4
   },
   "notebookName": "Assignment IV, Correlation and relationship between different variables 2024-04-05",
   "widgets": {}
  }
 },
 "nbformat": 4,
 "nbformat_minor": 0
}
