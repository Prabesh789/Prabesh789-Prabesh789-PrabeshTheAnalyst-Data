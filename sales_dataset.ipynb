{
 "cells": [
  {
   "cell_type": "code",
   "execution_count": null,
   "metadata": {
    "application/vnd.databricks.v1+cell": {
     "cellMetadata": {},
     "inputWidgets": {},
     "nuid": "bf03fcdb-8794-4835-8bc9-7d284a411947",
     "showTitle": false,
     "title": ""
    }
   },
   "outputs": [],
   "source": [
    "/FileStore/tables/sales-1.csv"
   ]
  },
  {
   "cell_type": "code",
   "execution_count": null,
   "metadata": {
    "application/vnd.databricks.v1+cell": {
     "cellMetadata": {
      "byteLimit": 2048000,
      "rowLimit": 10000
     },
     "inputWidgets": {},
     "nuid": "0b3fa790-9674-4d72-8f88-5e952f7b22a7",
     "showTitle": true,
     "title": "Sales Dataframe"
    }
   },
   "outputs": [
    {
     "data": {
      "text/html": [
       "<style scoped>\n",
       "  .table-result-container {\n",
       "    max-height: 300px;\n",
       "    overflow: auto;\n",
       "  }\n",
       "  table, th, td {\n",
       "    border: 1px solid black;\n",
       "    border-collapse: collapse;\n",
       "  }\n",
       "  th, td {\n",
       "    padding: 5px;\n",
       "  }\n",
       "  th {\n",
       "    text-align: left;\n",
       "  }\n",
       "</style><div class='table-result-container'><table class='table-result'><thead style='background-color: white'><tr><th>ID</th><th>Customer_ID</th><th>Order_Date</th><th>location</th><th>source_order</th></tr></thead><tbody><tr><td>1</td><td>A</td><td>2023-01-01</td><td>Canada</td><td>Uber Eats</td></tr><tr><td>2</td><td>A</td><td>2022-01-01</td><td>Canada</td><td>Uber Eats</td></tr><tr><td>2</td><td>A</td><td>2023-01-07</td><td>Canada</td><td>Uber Eats</td></tr><tr><td>3</td><td>A</td><td>2023-01-10</td><td>Canada</td><td>Restaurant</td></tr><tr><td>3</td><td>A</td><td>2022-01-11</td><td>Canada</td><td>Uber Eats</td></tr><tr><td>3</td><td>A</td><td>2023-01-11</td><td>Canada</td><td>Restaurant</td></tr><tr><td>2</td><td>B</td><td>2022-02-01</td><td>Canada</td><td>Uber Eats</td></tr><tr><td>2</td><td>B</td><td>2023-01-02</td><td>Canada</td><td>Uber Eats</td></tr><tr><td>1</td><td>B</td><td>2023-01-04</td><td>Canada</td><td>Restaurant</td></tr><tr><td>1</td><td>B</td><td>2023-02-11</td><td>Canada</td><td>Uber Eats</td></tr><tr><td>3</td><td>B</td><td>2023-01-16</td><td>Canada</td><td>Door Dash</td></tr><tr><td>3</td><td>B</td><td>2022-02-01</td><td>Canada</td><td>Door Dash</td></tr><tr><td>3</td><td>C</td><td>2023-01-01</td><td>Canada</td><td>Door Dash</td></tr><tr><td>1</td><td>C</td><td>2023-01-01</td><td>UK</td><td>Uber Eats</td></tr><tr><td>6</td><td>C</td><td>2022-01-07</td><td>UK</td><td>Door Dash</td></tr><tr><td>3</td><td>D</td><td>2023-02-16</td><td>UK</td><td>Restaurant</td></tr><tr><td>5</td><td>D</td><td>2022-02-01</td><td>UK</td><td>Door Dash</td></tr><tr><td>3</td><td>E</td><td>2023-02-01</td><td>UK</td><td>Restaurant</td></tr><tr><td>4</td><td>E</td><td>2023-02-01</td><td>UK</td><td>Uber Eats</td></tr><tr><td>4</td><td>E</td><td>2023-02-07</td><td>UK</td><td>Restaurant</td></tr><tr><td>2</td><td>A</td><td>2022-01-01</td><td>UK</td><td>Uber Eats</td></tr><tr><td>2</td><td>A</td><td>2023-01-07</td><td>UK</td><td>Uber Eats</td></tr><tr><td>3</td><td>A</td><td>2023-01-10</td><td>UK</td><td>Restaurant</td></tr><tr><td>3</td><td>A</td><td>2022-01-11</td><td>UK</td><td>Uber Eats</td></tr><tr><td>3</td><td>A</td><td>2023-01-11</td><td>UK</td><td>Door Dash</td></tr><tr><td>2</td><td>B</td><td>2022-03-01</td><td>UK</td><td>Door Dash</td></tr><tr><td>2</td><td>B</td><td>2023-01-02</td><td>UK</td><td>Door Dash</td></tr><tr><td>1</td><td>B</td><td>2023-01-04</td><td>UK</td><td>Uber Eats</td></tr><tr><td>1</td><td>B</td><td>2023-03-11</td><td>UK</td><td>Restaurant</td></tr><tr><td>3</td><td>B</td><td>2023-01-16</td><td>UK</td><td>Uber Eats</td></tr><tr><td>3</td><td>B</td><td>2023-03-01</td><td>UK</td><td>Uber Eats</td></tr><tr><td>3</td><td>C</td><td>2023-01-01</td><td>UK</td><td>Restaurant</td></tr><tr><td>1</td><td>C</td><td>2023-01-01</td><td>USA</td><td>Uber Eats</td></tr><tr><td>6</td><td>C</td><td>2023-01-07</td><td>USA</td><td>Door Dash</td></tr><tr><td>3</td><td>D</td><td>2022-03-16</td><td>USA</td><td>Door Dash</td></tr><tr><td>5</td><td>D</td><td>2023-03-01</td><td>USA</td><td>Door Dash</td></tr><tr><td>3</td><td>E</td><td>2023-03-01</td><td>USA</td><td>Uber Eats</td></tr><tr><td>4</td><td>E</td><td>2022-03-01</td><td>USA</td><td>Door Dash</td></tr><tr><td>4</td><td>E</td><td>2023-03-07</td><td>USA</td><td>Door Dash</td></tr><tr><td>1</td><td>A</td><td>2023-05-05</td><td>Canada</td><td>Uber Eats</td></tr><tr><td>2</td><td>A</td><td>2022-05-05</td><td>Canada</td><td>Uber Eats</td></tr><tr><td>2</td><td>A</td><td>2023-05-07</td><td>Canada</td><td>Uber Eats</td></tr><tr><td>3</td><td>A</td><td>2023-05-10</td><td>Canada</td><td>Restaurant</td></tr><tr><td>3</td><td>A</td><td>2022-05-11</td><td>Canada</td><td>Uber Eats</td></tr><tr><td>3</td><td>A</td><td>2023-05-11</td><td>Canada</td><td>Restaurant</td></tr><tr><td>2</td><td>B</td><td>2022-02-05</td><td>Canada</td><td>Uber Eats</td></tr><tr><td>2</td><td>B</td><td>2023-05-02</td><td>Canada</td><td>Uber Eats</td></tr><tr><td>1</td><td>B</td><td>2023-05-04</td><td>Canada</td><td>Restaurant</td></tr><tr><td>1</td><td>B</td><td>2023-02-11</td><td>Canada</td><td>Uber Eats</td></tr><tr><td>3</td><td>B</td><td>2023-05-16</td><td>Canada</td><td>Door Dash</td></tr><tr><td>3</td><td>B</td><td>2022-02-05</td><td>Canada</td><td>Door Dash</td></tr><tr><td>3</td><td>C</td><td>2023-05-05</td><td>Canada</td><td>Door Dash</td></tr><tr><td>1</td><td>C</td><td>2023-05-05</td><td>UK</td><td>Uber Eats</td></tr><tr><td>6</td><td>C</td><td>2022-05-07</td><td>UK</td><td>Door Dash</td></tr><tr><td>3</td><td>D</td><td>2023-02-16</td><td>UK</td><td>Restaurant</td></tr><tr><td>5</td><td>D</td><td>2022-02-05</td><td>UK</td><td>Door Dash</td></tr><tr><td>3</td><td>E</td><td>2023-02-05</td><td>UK</td><td>Restaurant</td></tr><tr><td>4</td><td>E</td><td>2023-02-05</td><td>UK</td><td>Uber Eats</td></tr><tr><td>4</td><td>E</td><td>2023-02-07</td><td>UK</td><td>Restaurant</td></tr><tr><td>2</td><td>A</td><td>2022-05-05</td><td>UK</td><td>Uber Eats</td></tr><tr><td>2</td><td>A</td><td>2023-05-07</td><td>UK</td><td>Uber Eats</td></tr><tr><td>3</td><td>A</td><td>2023-05-10</td><td>UK</td><td>Restaurant</td></tr><tr><td>3</td><td>A</td><td>2022-05-11</td><td>UK</td><td>Uber Eats</td></tr><tr><td>3</td><td>A</td><td>2023-05-11</td><td>UK</td><td>Door Dash</td></tr><tr><td>2</td><td>B</td><td>2022-07-05</td><td>UK</td><td>Door Dash</td></tr><tr><td>2</td><td>B</td><td>2023-05-02</td><td>UK</td><td>Door Dash</td></tr><tr><td>1</td><td>B</td><td>2023-05-04</td><td>UK</td><td>Uber Eats</td></tr><tr><td>1</td><td>B</td><td>2023-07-11</td><td>UK</td><td>Restaurant</td></tr><tr><td>3</td><td>B</td><td>2023-05-16</td><td>UK</td><td>Uber Eats</td></tr><tr><td>3</td><td>B</td><td>2023-07-05</td><td>UK</td><td>Uber Eats</td></tr><tr><td>3</td><td>C</td><td>2023-05-05</td><td>UK</td><td>Restaurant</td></tr><tr><td>1</td><td>C</td><td>2023-05-05</td><td>USA</td><td>Uber Eats</td></tr><tr><td>6</td><td>C</td><td>2023-05-07</td><td>USA</td><td>Door Dash</td></tr><tr><td>3</td><td>D</td><td>2022-07-16</td><td>USA</td><td>Door Dash</td></tr><tr><td>5</td><td>D</td><td>2023-07-05</td><td>USA</td><td>Door Dash</td></tr><tr><td>3</td><td>E</td><td>2023-07-05</td><td>USA</td><td>Uber Eats</td></tr><tr><td>4</td><td>E</td><td>2022-07-05</td><td>USA</td><td>Door Dash</td></tr><tr><td>4</td><td>E</td><td>2023-07-07</td><td>USA</td><td>Door Dash</td></tr><tr><td>1</td><td>A</td><td>2023-06-06</td><td>Canada</td><td>Uber Eats</td></tr><tr><td>2</td><td>A</td><td>2022-06-06</td><td>Canada</td><td>Uber Eats</td></tr><tr><td>2</td><td>A</td><td>2023-06-11</td><td>Canada</td><td>Uber Eats</td></tr><tr><td>3</td><td>A</td><td>2023-06-10</td><td>Canada</td><td>Restaurant</td></tr><tr><td>3</td><td>A</td><td>2022-06-11</td><td>Canada</td><td>Uber Eats</td></tr><tr><td>3</td><td>A</td><td>2023-06-11</td><td>Canada</td><td>Restaurant</td></tr><tr><td>2</td><td>B</td><td>2022-02-06</td><td>Canada</td><td>Uber Eats</td></tr><tr><td>2</td><td>B</td><td>2023-06-02</td><td>Canada</td><td>Uber Eats</td></tr><tr><td>1</td><td>B</td><td>2023-06-04</td><td>Canada</td><td>Restaurant</td></tr><tr><td>1</td><td>B</td><td>2023-02-11</td><td>Canada</td><td>Uber Eats</td></tr><tr><td>3</td><td>B</td><td>2023-06-16</td><td>Canada</td><td>Door Dash</td></tr><tr><td>3</td><td>B</td><td>2022-02-06</td><td>Canada</td><td>Door Dash</td></tr><tr><td>3</td><td>C</td><td>2023-06-06</td><td>Canada</td><td>Door Dash</td></tr><tr><td>1</td><td>C</td><td>2023-06-06</td><td>UK</td><td>Uber Eats</td></tr><tr><td>6</td><td>C</td><td>2022-06-11</td><td>UK</td><td>Door Dash</td></tr><tr><td>3</td><td>D</td><td>2023-02-16</td><td>UK</td><td>Restaurant</td></tr><tr><td>5</td><td>D</td><td>2022-02-06</td><td>UK</td><td>Door Dash</td></tr><tr><td>3</td><td>E</td><td>2023-02-06</td><td>UK</td><td>Restaurant</td></tr><tr><td>4</td><td>E</td><td>2023-02-06</td><td>UK</td><td>Uber Eats</td></tr><tr><td>4</td><td>E</td><td>2023-02-11</td><td>UK</td><td>Restaurant</td></tr><tr><td>2</td><td>A</td><td>2022-06-06</td><td>UK</td><td>Uber Eats</td></tr><tr><td>2</td><td>A</td><td>2023-06-11</td><td>UK</td><td>Uber Eats</td></tr><tr><td>3</td><td>A</td><td>2023-06-10</td><td>UK</td><td>Restaurant</td></tr><tr><td>3</td><td>A</td><td>2022-06-11</td><td>UK</td><td>Uber Eats</td></tr><tr><td>3</td><td>A</td><td>2023-06-11</td><td>UK</td><td>Door Dash</td></tr><tr><td>2</td><td>B</td><td>2022-11-06</td><td>UK</td><td>Door Dash</td></tr><tr><td>2</td><td>B</td><td>2023-06-02</td><td>UK</td><td>Door Dash</td></tr><tr><td>1</td><td>B</td><td>2023-06-04</td><td>UK</td><td>Uber Eats</td></tr><tr><td>1</td><td>B</td><td>2023-11-11</td><td>UK</td><td>Restaurant</td></tr><tr><td>3</td><td>B</td><td>2023-06-16</td><td>UK</td><td>Uber Eats</td></tr><tr><td>3</td><td>B</td><td>2023-11-06</td><td>UK</td><td>Uber Eats</td></tr><tr><td>3</td><td>C</td><td>2023-06-06</td><td>UK</td><td>Restaurant</td></tr><tr><td>1</td><td>C</td><td>2023-06-06</td><td>USA</td><td>Uber Eats</td></tr><tr><td>6</td><td>C</td><td>2023-06-11</td><td>USA</td><td>Door Dash</td></tr><tr><td>3</td><td>D</td><td>2022-11-16</td><td>USA</td><td>Door Dash</td></tr><tr><td>5</td><td>D</td><td>2023-11-06</td><td>USA</td><td>Door Dash</td></tr><tr><td>3</td><td>E</td><td>2023-11-06</td><td>USA</td><td>Uber Eats</td></tr><tr><td>4</td><td>E</td><td>2022-11-06</td><td>USA</td><td>Door Dash</td></tr><tr><td>4</td><td>E</td><td>2023-11-11</td><td>USA</td><td>Door Dash</td></tr><tr><td>null</td><td>null</td><td>null</td><td>null</td><td>null</td></tr></tbody></table></div>"
      ]
     },
     "metadata": {
      "application/vnd.databricks.v1+output": {
       "addedWidgets": {},
       "aggData": [],
       "aggError": "",
       "aggOverflow": false,
       "aggSchema": [],
       "aggSeriesLimitReached": false,
       "aggType": "",
       "arguments": {},
       "columnCustomDisplayInfos": {},
       "data": [
        [
         1,
         "A",
         "2023-01-01",
         "Canada",
         "Uber Eats"
        ],
        [
         2,
         "A",
         "2022-01-01",
         "Canada",
         "Uber Eats"
        ],
        [
         2,
         "A",
         "2023-01-07",
         "Canada",
         "Uber Eats"
        ],
        [
         3,
         "A",
         "2023-01-10",
         "Canada",
         "Restaurant"
        ],
        [
         3,
         "A",
         "2022-01-11",
         "Canada",
         "Uber Eats"
        ],
        [
         3,
         "A",
         "2023-01-11",
         "Canada",
         "Restaurant"
        ],
        [
         2,
         "B",
         "2022-02-01",
         "Canada",
         "Uber Eats"
        ],
        [
         2,
         "B",
         "2023-01-02",
         "Canada",
         "Uber Eats"
        ],
        [
         1,
         "B",
         "2023-01-04",
         "Canada",
         "Restaurant"
        ],
        [
         1,
         "B",
         "2023-02-11",
         "Canada",
         "Uber Eats"
        ],
        [
         3,
         "B",
         "2023-01-16",
         "Canada",
         "Door Dash"
        ],
        [
         3,
         "B",
         "2022-02-01",
         "Canada",
         "Door Dash"
        ],
        [
         3,
         "C",
         "2023-01-01",
         "Canada",
         "Door Dash"
        ],
        [
         1,
         "C",
         "2023-01-01",
         "UK",
         "Uber Eats"
        ],
        [
         6,
         "C",
         "2022-01-07",
         "UK",
         "Door Dash"
        ],
        [
         3,
         "D",
         "2023-02-16",
         "UK",
         "Restaurant"
        ],
        [
         5,
         "D",
         "2022-02-01",
         "UK",
         "Door Dash"
        ],
        [
         3,
         "E",
         "2023-02-01",
         "UK",
         "Restaurant"
        ],
        [
         4,
         "E",
         "2023-02-01",
         "UK",
         "Uber Eats"
        ],
        [
         4,
         "E",
         "2023-02-07",
         "UK",
         "Restaurant"
        ],
        [
         2,
         "A",
         "2022-01-01",
         "UK",
         "Uber Eats"
        ],
        [
         2,
         "A",
         "2023-01-07",
         "UK",
         "Uber Eats"
        ],
        [
         3,
         "A",
         "2023-01-10",
         "UK",
         "Restaurant"
        ],
        [
         3,
         "A",
         "2022-01-11",
         "UK",
         "Uber Eats"
        ],
        [
         3,
         "A",
         "2023-01-11",
         "UK",
         "Door Dash"
        ],
        [
         2,
         "B",
         "2022-03-01",
         "UK",
         "Door Dash"
        ],
        [
         2,
         "B",
         "2023-01-02",
         "UK",
         "Door Dash"
        ],
        [
         1,
         "B",
         "2023-01-04",
         "UK",
         "Uber Eats"
        ],
        [
         1,
         "B",
         "2023-03-11",
         "UK",
         "Restaurant"
        ],
        [
         3,
         "B",
         "2023-01-16",
         "UK",
         "Uber Eats"
        ],
        [
         3,
         "B",
         "2023-03-01",
         "UK",
         "Uber Eats"
        ],
        [
         3,
         "C",
         "2023-01-01",
         "UK",
         "Restaurant"
        ],
        [
         1,
         "C",
         "2023-01-01",
         "USA",
         "Uber Eats"
        ],
        [
         6,
         "C",
         "2023-01-07",
         "USA",
         "Door Dash"
        ],
        [
         3,
         "D",
         "2022-03-16",
         "USA",
         "Door Dash"
        ],
        [
         5,
         "D",
         "2023-03-01",
         "USA",
         "Door Dash"
        ],
        [
         3,
         "E",
         "2023-03-01",
         "USA",
         "Uber Eats"
        ],
        [
         4,
         "E",
         "2022-03-01",
         "USA",
         "Door Dash"
        ],
        [
         4,
         "E",
         "2023-03-07",
         "USA",
         "Door Dash"
        ],
        [
         1,
         "A",
         "2023-05-05",
         "Canada",
         "Uber Eats"
        ],
        [
         2,
         "A",
         "2022-05-05",
         "Canada",
         "Uber Eats"
        ],
        [
         2,
         "A",
         "2023-05-07",
         "Canada",
         "Uber Eats"
        ],
        [
         3,
         "A",
         "2023-05-10",
         "Canada",
         "Restaurant"
        ],
        [
         3,
         "A",
         "2022-05-11",
         "Canada",
         "Uber Eats"
        ],
        [
         3,
         "A",
         "2023-05-11",
         "Canada",
         "Restaurant"
        ],
        [
         2,
         "B",
         "2022-02-05",
         "Canada",
         "Uber Eats"
        ],
        [
         2,
         "B",
         "2023-05-02",
         "Canada",
         "Uber Eats"
        ],
        [
         1,
         "B",
         "2023-05-04",
         "Canada",
         "Restaurant"
        ],
        [
         1,
         "B",
         "2023-02-11",
         "Canada",
         "Uber Eats"
        ],
        [
         3,
         "B",
         "2023-05-16",
         "Canada",
         "Door Dash"
        ],
        [
         3,
         "B",
         "2022-02-05",
         "Canada",
         "Door Dash"
        ],
        [
         3,
         "C",
         "2023-05-05",
         "Canada",
         "Door Dash"
        ],
        [
         1,
         "C",
         "2023-05-05",
         "UK",
         "Uber Eats"
        ],
        [
         6,
         "C",
         "2022-05-07",
         "UK",
         "Door Dash"
        ],
        [
         3,
         "D",
         "2023-02-16",
         "UK",
         "Restaurant"
        ],
        [
         5,
         "D",
         "2022-02-05",
         "UK",
         "Door Dash"
        ],
        [
         3,
         "E",
         "2023-02-05",
         "UK",
         "Restaurant"
        ],
        [
         4,
         "E",
         "2023-02-05",
         "UK",
         "Uber Eats"
        ],
        [
         4,
         "E",
         "2023-02-07",
         "UK",
         "Restaurant"
        ],
        [
         2,
         "A",
         "2022-05-05",
         "UK",
         "Uber Eats"
        ],
        [
         2,
         "A",
         "2023-05-07",
         "UK",
         "Uber Eats"
        ],
        [
         3,
         "A",
         "2023-05-10",
         "UK",
         "Restaurant"
        ],
        [
         3,
         "A",
         "2022-05-11",
         "UK",
         "Uber Eats"
        ],
        [
         3,
         "A",
         "2023-05-11",
         "UK",
         "Door Dash"
        ],
        [
         2,
         "B",
         "2022-07-05",
         "UK",
         "Door Dash"
        ],
        [
         2,
         "B",
         "2023-05-02",
         "UK",
         "Door Dash"
        ],
        [
         1,
         "B",
         "2023-05-04",
         "UK",
         "Uber Eats"
        ],
        [
         1,
         "B",
         "2023-07-11",
         "UK",
         "Restaurant"
        ],
        [
         3,
         "B",
         "2023-05-16",
         "UK",
         "Uber Eats"
        ],
        [
         3,
         "B",
         "2023-07-05",
         "UK",
         "Uber Eats"
        ],
        [
         3,
         "C",
         "2023-05-05",
         "UK",
         "Restaurant"
        ],
        [
         1,
         "C",
         "2023-05-05",
         "USA",
         "Uber Eats"
        ],
        [
         6,
         "C",
         "2023-05-07",
         "USA",
         "Door Dash"
        ],
        [
         3,
         "D",
         "2022-07-16",
         "USA",
         "Door Dash"
        ],
        [
         5,
         "D",
         "2023-07-05",
         "USA",
         "Door Dash"
        ],
        [
         3,
         "E",
         "2023-07-05",
         "USA",
         "Uber Eats"
        ],
        [
         4,
         "E",
         "2022-07-05",
         "USA",
         "Door Dash"
        ],
        [
         4,
         "E",
         "2023-07-07",
         "USA",
         "Door Dash"
        ],
        [
         1,
         "A",
         "2023-06-06",
         "Canada",
         "Uber Eats"
        ],
        [
         2,
         "A",
         "2022-06-06",
         "Canada",
         "Uber Eats"
        ],
        [
         2,
         "A",
         "2023-06-11",
         "Canada",
         "Uber Eats"
        ],
        [
         3,
         "A",
         "2023-06-10",
         "Canada",
         "Restaurant"
        ],
        [
         3,
         "A",
         "2022-06-11",
         "Canada",
         "Uber Eats"
        ],
        [
         3,
         "A",
         "2023-06-11",
         "Canada",
         "Restaurant"
        ],
        [
         2,
         "B",
         "2022-02-06",
         "Canada",
         "Uber Eats"
        ],
        [
         2,
         "B",
         "2023-06-02",
         "Canada",
         "Uber Eats"
        ],
        [
         1,
         "B",
         "2023-06-04",
         "Canada",
         "Restaurant"
        ],
        [
         1,
         "B",
         "2023-02-11",
         "Canada",
         "Uber Eats"
        ],
        [
         3,
         "B",
         "2023-06-16",
         "Canada",
         "Door Dash"
        ],
        [
         3,
         "B",
         "2022-02-06",
         "Canada",
         "Door Dash"
        ],
        [
         3,
         "C",
         "2023-06-06",
         "Canada",
         "Door Dash"
        ],
        [
         1,
         "C",
         "2023-06-06",
         "UK",
         "Uber Eats"
        ],
        [
         6,
         "C",
         "2022-06-11",
         "UK",
         "Door Dash"
        ],
        [
         3,
         "D",
         "2023-02-16",
         "UK",
         "Restaurant"
        ],
        [
         5,
         "D",
         "2022-02-06",
         "UK",
         "Door Dash"
        ],
        [
         3,
         "E",
         "2023-02-06",
         "UK",
         "Restaurant"
        ],
        [
         4,
         "E",
         "2023-02-06",
         "UK",
         "Uber Eats"
        ],
        [
         4,
         "E",
         "2023-02-11",
         "UK",
         "Restaurant"
        ],
        [
         2,
         "A",
         "2022-06-06",
         "UK",
         "Uber Eats"
        ],
        [
         2,
         "A",
         "2023-06-11",
         "UK",
         "Uber Eats"
        ],
        [
         3,
         "A",
         "2023-06-10",
         "UK",
         "Restaurant"
        ],
        [
         3,
         "A",
         "2022-06-11",
         "UK",
         "Uber Eats"
        ],
        [
         3,
         "A",
         "2023-06-11",
         "UK",
         "Door Dash"
        ],
        [
         2,
         "B",
         "2022-11-06",
         "UK",
         "Door Dash"
        ],
        [
         2,
         "B",
         "2023-06-02",
         "UK",
         "Door Dash"
        ],
        [
         1,
         "B",
         "2023-06-04",
         "UK",
         "Uber Eats"
        ],
        [
         1,
         "B",
         "2023-11-11",
         "UK",
         "Restaurant"
        ],
        [
         3,
         "B",
         "2023-06-16",
         "UK",
         "Uber Eats"
        ],
        [
         3,
         "B",
         "2023-11-06",
         "UK",
         "Uber Eats"
        ],
        [
         3,
         "C",
         "2023-06-06",
         "UK",
         "Restaurant"
        ],
        [
         1,
         "C",
         "2023-06-06",
         "USA",
         "Uber Eats"
        ],
        [
         6,
         "C",
         "2023-06-11",
         "USA",
         "Door Dash"
        ],
        [
         3,
         "D",
         "2022-11-16",
         "USA",
         "Door Dash"
        ],
        [
         5,
         "D",
         "2023-11-06",
         "USA",
         "Door Dash"
        ],
        [
         3,
         "E",
         "2023-11-06",
         "USA",
         "Uber Eats"
        ],
        [
         4,
         "E",
         "2022-11-06",
         "USA",
         "Door Dash"
        ],
        [
         4,
         "E",
         "2023-11-11",
         "USA",
         "Door Dash"
        ],
        [
         null,
         null,
         null,
         null,
         null
        ]
       ],
       "datasetInfos": [],
       "dbfsResultPath": null,
       "isJsonSchema": true,
       "metadata": {},
       "overflow": false,
       "plotOptions": {
        "customPlotOptions": {},
        "displayType": "table",
        "pivotAggregation": null,
        "pivotColumns": null,
        "xColumns": null,
        "yColumns": null
       },
       "removedWidgets": [],
       "schema": [
        {
         "metadata": "{}",
         "name": "ID",
         "type": "\"integer\""
        },
        {
         "metadata": "{}",
         "name": "Customer_ID",
         "type": "\"string\""
        },
        {
         "metadata": "{}",
         "name": "Order_Date",
         "type": "\"date\""
        },
        {
         "metadata": "{}",
         "name": "location",
         "type": "\"string\""
        },
        {
         "metadata": "{}",
         "name": "source_order",
         "type": "\"string\""
        }
       ],
       "type": "table"
      }
     },
     "output_type": "display_data"
    },
    {
     "data": {
      "text/plain": [
       "Databricks visualization. Run in Databricks to view."
      ]
     },
     "metadata": {
      "application/vnd.databricks.v1.subcommand+json": {
       "baseErrorDetails": null,
       "bindings": {},
       "collapsed": false,
       "command": "%python\n__backend_agg_display_orig = display\n__backend_agg_dfs = []\ndef __backend_agg_display_new(df):\n    __backend_agg_df_modules = [\"pandas.core.frame\", \"databricks.koalas.frame\", \"pyspark.sql.dataframe\", \"pyspark.pandas.frame\", \"pyspark.sql.connect.dataframe\"]\n    if (type(df).__module__ in __backend_agg_df_modules and type(df).__name__ == 'DataFrame') or isinstance(df, list):\n        __backend_agg_dfs.append(df)\n\ndisplay = __backend_agg_display_new\n\ndef __backend_agg_user_code_fn():\n    import base64\n    exec(base64.standard_b64decode(\"ZnJvbSBweXNwYXJrLnNxbC50eXBlcyBpbXBvcnQgU3RydWN0VHlwZSwgU3RydWN0RmllbGQsIEludGVnZXJUeXBlLCBTdHJpbmdUeXBlLCBEYXRlVHlwZQoKc2NoZW1hPVN0cnVjdFR5cGUoWwogICAgU3RydWN0RmllbGQoIklEIixJbnRlZ2VyVHlwZSgpLFRydWUpLAogICAgU3RydWN0RmllbGQoIkN1c3RvbWVyX0lEIixTdHJpbmdUeXBlKCksVHJ1ZSksCiAgICBTdHJ1Y3RGaWVsZCgiT3JkZXJfRGF0ZSIsRGF0ZVR5cGUoKSxUcnVlKSwKICAgIFN0cnVjdEZpZWxkKCJsb2NhdGlvbiIsU3RyaW5nVHlwZSgpLFRydWUpLAogICAgU3RydWN0RmllbGQoInNvdXJjZV9vcmRlciIsU3RyaW5nVHlwZSgpLFRydWUpCl0pCnNhbGVzX2RmID0gc3BhcmsucmVhZC5mb3JtYXQoImNzdiIpLm9wdGlvbigiaW5mZXJzY2hlbWEiLCAidHJ1ZSIpLnNjaGVtYShzY2hlbWEpLmxvYWQoIi9GaWxlU3RvcmUvdGFibGVzL3NhbGVzLTEuY3N2IikKZGlzcGxheShzYWxlc19kZikKIyBzYWxlc19kZi5zaG93KCk=\").decode())\n\ntry:\n    # run user code\n    __backend_agg_user_code_fn()\n\n    #reset display function\n    display = __backend_agg_display_orig\n\n    if len(__backend_agg_dfs) > 0:\n        # create a temp view\n        if type(__backend_agg_dfs[0]).__module__ == \"databricks.koalas.frame\":\n            # koalas dataframe\n            __backend_agg_dfs[0].to_spark().createOrReplaceTempView(\"DatabricksView354c147\")\n        elif type(__backend_agg_dfs[0]).__module__ == \"pandas.core.frame\" or isinstance(__backend_agg_dfs[0], list):\n            # pandas dataframe\n            spark.createDataFrame(__backend_agg_dfs[0]).createOrReplaceTempView(\"DatabricksView354c147\")\n        else:\n            __backend_agg_dfs[0].createOrReplaceTempView(\"DatabricksView354c147\")\n        #run backend agg\n        display(spark.sql(\"\"\"WITH q AS (select * from DatabricksView354c147) SELECT `location`,COUNT(`source_order`) `column_539fb1648` FROM q GROUP BY `location`\"\"\"))\n    else:\n        displayHTML(\"dataframe no longer exists. If you're using dataframe.display(), use display(dataframe) instead.\")\n\n\nfinally:\n    spark.sql(\"drop view if exists DatabricksView354c147\")\n    display = __backend_agg_display_orig\n    del __backend_agg_display_new\n    del __backend_agg_display_orig\n    del __backend_agg_dfs\n    del __backend_agg_user_code_fn\n\n",
       "commandTitle": "Visualization 1",
       "commandType": "auto",
       "commandVersion": 0,
       "commentThread": [],
       "commentsVisible": false,
       "contentSha256Hex": null,
       "customPlotOptions": {
        "redashChart": [
         {
          "key": "type",
          "value": "CHART"
         },
         {
          "key": "options",
          "value": {
           "alignYAxesAtZero": true,
           "coefficient": 1,
           "columnConfigurationMap": {
            "x": {
             "column": "location",
             "id": "column_539fb1646"
            },
            "y": [
             {
              "column": "source_order",
              "id": "column_539fb1648",
              "transform": "COUNT"
             }
            ]
           },
           "dateTimeFormat": "DD/MM/YYYY HH:mm",
           "direction": {
            "type": "counterclockwise"
           },
           "error_y": {
            "type": "data",
            "visible": true
           },
           "globalSeriesType": "pie",
           "isAggregationOn": true,
           "legend": {
            "traceorder": "normal"
           },
           "missingValuesAsZero": true,
           "numberFormat": "0,0.[00000]",
           "percentFormat": "0[.]00%",
           "series": {
            "error_y": {
             "type": "data",
             "visible": true
            },
            "stacking": null
           },
           "seriesOptions": {
            "column_539fb1648": {
             "type": "pie",
             "yAxis": 0
            },
            "source_order": {
             "type": "pie",
             "yAxis": 0
            }
           },
           "showDataLabels": true,
           "sizemode": "diameter",
           "sortX": true,
           "sortY": true,
           "swappedAxes": false,
           "textFormat": "",
           "useAggregationsUi": true,
           "valuesOptions": {},
           "version": 2,
           "xAxis": {
            "labels": {
             "enabled": true
            },
            "type": "-"
           },
           "yAxis": [
            {
             "type": "-"
            },
            {
             "opposite": true,
             "type": "-"
            }
           ]
          }
         }
        ]
       },
       "datasetPreviewNameToCmdIdMap": {},
       "diffDeletes": [],
       "diffInserts": [],
       "displayType": "redashChart",
       "error": null,
       "errorDetails": null,
       "errorSummary": null,
       "errorTraceType": null,
       "finishTime": 0,
       "globalVars": {},
       "guid": "",
       "height": "auto",
       "hideCommandCode": false,
       "hideCommandResult": false,
       "iPythonMetadata": null,
       "inputWidgets": {},
       "isLockedInExamMode": false,
       "latestUser": "a user",
       "latestUserId": null,
       "listResultMetadata": null,
       "metadata": {},
       "nuid": "d4ca179d-a7a9-4c78-8db5-a911f975ee12",
       "origId": 0,
       "parentHierarchy": [],
       "pivotAggregation": null,
       "pivotColumns": null,
       "position": 3,
       "resultDbfsErrorMessage": null,
       "resultDbfsStatus": "INLINED_IN_TREE",
       "results": null,
       "showCommandTitle": false,
       "startTime": 0,
       "state": "input",
       "streamStates": {},
       "subcommandOptions": {
        "queryPlan": {
         "groups": [
          {
           "column": "location",
           "type": "column"
          }
         ],
         "selects": [
          {
           "column": "location",
           "type": "column"
          },
          {
           "alias": "column_539fb1648",
           "args": [
            {
             "column": "source_order",
             "type": "column"
            }
           ],
           "function": "COUNT",
           "type": "function"
          }
         ]
        }
       },
       "submitTime": 0,
       "subtype": "tableResultSubCmd.visualization",
       "tableResultIndex": 0,
       "useConsistentColors": false,
       "version": "CommandV1",
       "width": "auto",
       "workflows": [],
       "xColumns": null,
       "yColumns": null
      }
     },
     "output_type": "display_data"
    },
    {
     "data": {
      "text/plain": [
       "Databricks visualization. Run in Databricks to view."
      ]
     },
     "metadata": {
      "application/vnd.databricks.v1.subcommand+json": {
       "baseErrorDetails": null,
       "bindings": {},
       "collapsed": false,
       "command": "%python\n__backend_agg_display_orig = display\n__backend_agg_dfs = []\ndef __backend_agg_display_new(df):\n    __backend_agg_df_modules = [\"pandas.core.frame\", \"databricks.koalas.frame\", \"pyspark.sql.dataframe\", \"pyspark.pandas.frame\", \"pyspark.sql.connect.dataframe\"]\n    if (type(df).__module__ in __backend_agg_df_modules and type(df).__name__ == 'DataFrame') or isinstance(df, list):\n        __backend_agg_dfs.append(df)\n\ndisplay = __backend_agg_display_new\n\ndef __backend_agg_user_code_fn():\n    import base64\n    exec(base64.standard_b64decode(\"ZnJvbSBweXNwYXJrLnNxbC50eXBlcyBpbXBvcnQgU3RydWN0VHlwZSwgU3RydWN0RmllbGQsIEludGVnZXJUeXBlLCBTdHJpbmdUeXBlLCBEYXRlVHlwZQoKc2NoZW1hPVN0cnVjdFR5cGUoWwogICAgU3RydWN0RmllbGQoIklEIixJbnRlZ2VyVHlwZSgpLFRydWUpLAogICAgU3RydWN0RmllbGQoIkN1c3RvbWVyX0lEIixTdHJpbmdUeXBlKCksVHJ1ZSksCiAgICBTdHJ1Y3RGaWVsZCgiT3JkZXJfRGF0ZSIsRGF0ZVR5cGUoKSxUcnVlKSwKICAgIFN0cnVjdEZpZWxkKCJsb2NhdGlvbiIsU3RyaW5nVHlwZSgpLFRydWUpLAogICAgU3RydWN0RmllbGQoInNvdXJjZV9vcmRlciIsU3RyaW5nVHlwZSgpLFRydWUpCl0pCnNhbGVzX2RmID0gc3BhcmsucmVhZC5mb3JtYXQoImNzdiIpLm9wdGlvbigiaW5mZXJzY2hlbWEiLCAidHJ1ZSIpLnNjaGVtYShzY2hlbWEpLmxvYWQoIi9GaWxlU3RvcmUvdGFibGVzL3NhbGVzLTEuY3N2IikKZGlzcGxheShzYWxlc19kZikKIyBzYWxlc19kZi5zaG93KCk=\").decode())\n\ntry:\n    # run user code\n    __backend_agg_user_code_fn()\n\n    #reset display function\n    display = __backend_agg_display_orig\n\n    if len(__backend_agg_dfs) > 0:\n        # create a temp view\n        if type(__backend_agg_dfs[0]).__module__ == \"databricks.koalas.frame\":\n            # koalas dataframe\n            __backend_agg_dfs[0].to_spark().createOrReplaceTempView(\"DatabricksView572ca7a\")\n        elif type(__backend_agg_dfs[0]).__module__ == \"pandas.core.frame\" or isinstance(__backend_agg_dfs[0], list):\n            # pandas dataframe\n            spark.createDataFrame(__backend_agg_dfs[0]).createOrReplaceTempView(\"DatabricksView572ca7a\")\n        else:\n            __backend_agg_dfs[0].createOrReplaceTempView(\"DatabricksView572ca7a\")\n        #run backend agg\n        display(spark.sql(\"\"\"WITH q AS (select * from DatabricksView572ca7a) SELECT `Order_Date`,COUNT(`source_order`) `column_539fb16457` FROM q GROUP BY `Order_Date`\"\"\"))\n    else:\n        displayHTML(\"dataframe no longer exists. If you're using dataframe.display(), use display(dataframe) instead.\")\n\n\nfinally:\n    spark.sql(\"drop view if exists DatabricksView572ca7a\")\n    display = __backend_agg_display_orig\n    del __backend_agg_display_new\n    del __backend_agg_display_orig\n    del __backend_agg_dfs\n    del __backend_agg_user_code_fn\n\n",
       "commandTitle": "Visualization 2",
       "commandType": "auto",
       "commandVersion": 0,
       "commentThread": [],
       "commentsVisible": false,
       "contentSha256Hex": null,
       "customPlotOptions": {
        "redashChart": [
         {
          "key": "type",
          "value": "CHART"
         },
         {
          "key": "options",
          "value": {
           "alignYAxesAtZero": true,
           "coefficient": 1,
           "columnConfigurationMap": {
            "x": {
             "column": "Order_Date",
             "id": "column_539fb16455"
            },
            "y": [
             {
              "column": "source_order",
              "id": "column_539fb16457",
              "transform": "COUNT"
             }
            ]
           },
           "dateTimeFormat": "DD/MM/YYYY HH:mm",
           "direction": {
            "type": "counterclockwise"
           },
           "error_y": {
            "type": "data",
            "visible": true
           },
           "globalSeriesType": "column",
           "isAggregationOn": true,
           "legend": {
            "traceorder": "normal"
           },
           "missingValuesAsZero": true,
           "numberFormat": "0,0.[00000]",
           "percentFormat": "0[.]00%",
           "series": {
            "error_y": {
             "type": "data",
             "visible": true
            },
            "stacking": null
           },
           "seriesOptions": {
            "column_539fb16457": {
             "type": "column",
             "yAxis": 0
            },
            "column_539fb16460": {
             "type": "column",
             "yAxis": 0
            }
           },
           "showDataLabels": false,
           "sizemode": "diameter",
           "sortX": true,
           "sortY": true,
           "swappedAxes": false,
           "textFormat": "",
           "useAggregationsUi": true,
           "valuesOptions": {},
           "version": 2,
           "xAxis": {
            "labels": {
             "enabled": true
            },
            "type": "-"
           },
           "yAxis": [
            {
             "type": "-"
            },
            {
             "opposite": true,
             "type": "-"
            }
           ]
          }
         }
        ]
       },
       "datasetPreviewNameToCmdIdMap": {},
       "diffDeletes": [],
       "diffInserts": [],
       "displayType": "redashChart",
       "error": null,
       "errorDetails": null,
       "errorSummary": null,
       "errorTraceType": null,
       "finishTime": 0,
       "globalVars": {},
       "guid": "",
       "height": "auto",
       "hideCommandCode": false,
       "hideCommandResult": false,
       "iPythonMetadata": null,
       "inputWidgets": {},
       "isLockedInExamMode": false,
       "latestUser": "a user",
       "latestUserId": null,
       "listResultMetadata": null,
       "metadata": {},
       "nuid": "ec7b689c-e891-4fa1-8772-2592d28473a0",
       "origId": 0,
       "parentHierarchy": [],
       "pivotAggregation": null,
       "pivotColumns": null,
       "position": 6,
       "resultDbfsErrorMessage": null,
       "resultDbfsStatus": "INLINED_IN_TREE",
       "results": null,
       "showCommandTitle": false,
       "startTime": 0,
       "state": "input",
       "streamStates": {},
       "subcommandOptions": {
        "queryPlan": {
         "groups": [
          {
           "column": "Order_Date",
           "type": "column"
          }
         ],
         "selects": [
          {
           "column": "Order_Date",
           "type": "column"
          },
          {
           "alias": "column_539fb16457",
           "args": [
            {
             "column": "source_order",
             "type": "column"
            }
           ],
           "function": "COUNT",
           "type": "function"
          }
         ]
        }
       },
       "submitTime": 0,
       "subtype": "tableResultSubCmd.visualization",
       "tableResultIndex": 0,
       "useConsistentColors": false,
       "version": "CommandV1",
       "width": "auto",
       "workflows": [],
       "xColumns": null,
       "yColumns": null
      }
     },
     "output_type": "display_data"
    }
   ],
   "source": [
    "from pyspark.sql.types import StructType, StructField, IntegerType, StringType, DateType\n",
    "\n",
    "schema=StructType([\n",
    "    StructField(\"ID\",IntegerType(),True),\n",
    "    StructField(\"Customer_ID\",StringType(),True),\n",
    "    StructField(\"Order_Date\",DateType(),True),\n",
    "    StructField(\"location\",StringType(),True),\n",
    "    StructField(\"source_order\",StringType(),True)\n",
    "])\n",
    "sales_df = spark.read.format(\"csv\").option(\"inferschema\", \"true\").schema(schema).load(\"/FileStore/tables/sales-1.csv\")\n",
    "display(sales_df)\n",
    "# sales_df.show()"
   ]
  },
  {
   "cell_type": "code",
   "execution_count": null,
   "metadata": {
    "application/vnd.databricks.v1+cell": {
     "cellMetadata": {
      "byteLimit": 2048000,
      "rowLimit": 10000
     },
     "inputWidgets": {},
     "nuid": "92fcf013-d14f-4e23-8745-85f9de2b31ac",
     "showTitle": false,
     "title": ""
    }
   },
   "outputs": [
    {
     "data": {
      "text/html": [
       "<style scoped>\n",
       "  .table-result-container {\n",
       "    max-height: 300px;\n",
       "    overflow: auto;\n",
       "  }\n",
       "  table, th, td {\n",
       "    border: 1px solid black;\n",
       "    border-collapse: collapse;\n",
       "  }\n",
       "  th, td {\n",
       "    padding: 5px;\n",
       "  }\n",
       "  th {\n",
       "    text-align: left;\n",
       "  }\n",
       "</style><div class='table-result-container'><table class='table-result'><thead style='background-color: white'><tr><th>ID</th><th>Customer_ID</th><th>Order_Date</th><th>location</th><th>source_order</th><th>order_year</th><th>order_month</th><th>order_quarter</th></tr></thead><tbody><tr><td>1</td><td>A</td><td>2023-01-01</td><td>Canada</td><td>Uber Eats</td><td>2023</td><td>1</td><td>1</td></tr><tr><td>2</td><td>A</td><td>2022-01-01</td><td>Canada</td><td>Uber Eats</td><td>2022</td><td>1</td><td>1</td></tr><tr><td>2</td><td>A</td><td>2023-01-07</td><td>Canada</td><td>Uber Eats</td><td>2023</td><td>1</td><td>1</td></tr><tr><td>3</td><td>A</td><td>2023-01-10</td><td>Canada</td><td>Restaurant</td><td>2023</td><td>1</td><td>1</td></tr><tr><td>3</td><td>A</td><td>2022-01-11</td><td>Canada</td><td>Uber Eats</td><td>2022</td><td>1</td><td>1</td></tr><tr><td>3</td><td>A</td><td>2023-01-11</td><td>Canada</td><td>Restaurant</td><td>2023</td><td>1</td><td>1</td></tr><tr><td>2</td><td>B</td><td>2022-02-01</td><td>Canada</td><td>Uber Eats</td><td>2022</td><td>2</td><td>1</td></tr><tr><td>2</td><td>B</td><td>2023-01-02</td><td>Canada</td><td>Uber Eats</td><td>2023</td><td>1</td><td>1</td></tr><tr><td>1</td><td>B</td><td>2023-01-04</td><td>Canada</td><td>Restaurant</td><td>2023</td><td>1</td><td>1</td></tr><tr><td>1</td><td>B</td><td>2023-02-11</td><td>Canada</td><td>Uber Eats</td><td>2023</td><td>2</td><td>1</td></tr><tr><td>3</td><td>B</td><td>2023-01-16</td><td>Canada</td><td>Door Dash</td><td>2023</td><td>1</td><td>1</td></tr><tr><td>3</td><td>B</td><td>2022-02-01</td><td>Canada</td><td>Door Dash</td><td>2022</td><td>2</td><td>1</td></tr><tr><td>3</td><td>C</td><td>2023-01-01</td><td>Canada</td><td>Door Dash</td><td>2023</td><td>1</td><td>1</td></tr><tr><td>1</td><td>C</td><td>2023-01-01</td><td>UK</td><td>Uber Eats</td><td>2023</td><td>1</td><td>1</td></tr><tr><td>6</td><td>C</td><td>2022-01-07</td><td>UK</td><td>Door Dash</td><td>2022</td><td>1</td><td>1</td></tr><tr><td>3</td><td>D</td><td>2023-02-16</td><td>UK</td><td>Restaurant</td><td>2023</td><td>2</td><td>1</td></tr><tr><td>5</td><td>D</td><td>2022-02-01</td><td>UK</td><td>Door Dash</td><td>2022</td><td>2</td><td>1</td></tr><tr><td>3</td><td>E</td><td>2023-02-01</td><td>UK</td><td>Restaurant</td><td>2023</td><td>2</td><td>1</td></tr><tr><td>4</td><td>E</td><td>2023-02-01</td><td>UK</td><td>Uber Eats</td><td>2023</td><td>2</td><td>1</td></tr><tr><td>4</td><td>E</td><td>2023-02-07</td><td>UK</td><td>Restaurant</td><td>2023</td><td>2</td><td>1</td></tr><tr><td>2</td><td>A</td><td>2022-01-01</td><td>UK</td><td>Uber Eats</td><td>2022</td><td>1</td><td>1</td></tr><tr><td>2</td><td>A</td><td>2023-01-07</td><td>UK</td><td>Uber Eats</td><td>2023</td><td>1</td><td>1</td></tr><tr><td>3</td><td>A</td><td>2023-01-10</td><td>UK</td><td>Restaurant</td><td>2023</td><td>1</td><td>1</td></tr><tr><td>3</td><td>A</td><td>2022-01-11</td><td>UK</td><td>Uber Eats</td><td>2022</td><td>1</td><td>1</td></tr><tr><td>3</td><td>A</td><td>2023-01-11</td><td>UK</td><td>Door Dash</td><td>2023</td><td>1</td><td>1</td></tr><tr><td>2</td><td>B</td><td>2022-03-01</td><td>UK</td><td>Door Dash</td><td>2022</td><td>3</td><td>1</td></tr><tr><td>2</td><td>B</td><td>2023-01-02</td><td>UK</td><td>Door Dash</td><td>2023</td><td>1</td><td>1</td></tr><tr><td>1</td><td>B</td><td>2023-01-04</td><td>UK</td><td>Uber Eats</td><td>2023</td><td>1</td><td>1</td></tr><tr><td>1</td><td>B</td><td>2023-03-11</td><td>UK</td><td>Restaurant</td><td>2023</td><td>3</td><td>1</td></tr><tr><td>3</td><td>B</td><td>2023-01-16</td><td>UK</td><td>Uber Eats</td><td>2023</td><td>1</td><td>1</td></tr><tr><td>3</td><td>B</td><td>2023-03-01</td><td>UK</td><td>Uber Eats</td><td>2023</td><td>3</td><td>1</td></tr><tr><td>3</td><td>C</td><td>2023-01-01</td><td>UK</td><td>Restaurant</td><td>2023</td><td>1</td><td>1</td></tr><tr><td>1</td><td>C</td><td>2023-01-01</td><td>USA</td><td>Uber Eats</td><td>2023</td><td>1</td><td>1</td></tr><tr><td>6</td><td>C</td><td>2023-01-07</td><td>USA</td><td>Door Dash</td><td>2023</td><td>1</td><td>1</td></tr><tr><td>3</td><td>D</td><td>2022-03-16</td><td>USA</td><td>Door Dash</td><td>2022</td><td>3</td><td>1</td></tr><tr><td>5</td><td>D</td><td>2023-03-01</td><td>USA</td><td>Door Dash</td><td>2023</td><td>3</td><td>1</td></tr><tr><td>3</td><td>E</td><td>2023-03-01</td><td>USA</td><td>Uber Eats</td><td>2023</td><td>3</td><td>1</td></tr><tr><td>4</td><td>E</td><td>2022-03-01</td><td>USA</td><td>Door Dash</td><td>2022</td><td>3</td><td>1</td></tr><tr><td>4</td><td>E</td><td>2023-03-07</td><td>USA</td><td>Door Dash</td><td>2023</td><td>3</td><td>1</td></tr><tr><td>1</td><td>A</td><td>2023-05-05</td><td>Canada</td><td>Uber Eats</td><td>2023</td><td>5</td><td>2</td></tr><tr><td>2</td><td>A</td><td>2022-05-05</td><td>Canada</td><td>Uber Eats</td><td>2022</td><td>5</td><td>2</td></tr><tr><td>2</td><td>A</td><td>2023-05-07</td><td>Canada</td><td>Uber Eats</td><td>2023</td><td>5</td><td>2</td></tr><tr><td>3</td><td>A</td><td>2023-05-10</td><td>Canada</td><td>Restaurant</td><td>2023</td><td>5</td><td>2</td></tr><tr><td>3</td><td>A</td><td>2022-05-11</td><td>Canada</td><td>Uber Eats</td><td>2022</td><td>5</td><td>2</td></tr><tr><td>3</td><td>A</td><td>2023-05-11</td><td>Canada</td><td>Restaurant</td><td>2023</td><td>5</td><td>2</td></tr><tr><td>2</td><td>B</td><td>2022-02-05</td><td>Canada</td><td>Uber Eats</td><td>2022</td><td>2</td><td>1</td></tr><tr><td>2</td><td>B</td><td>2023-05-02</td><td>Canada</td><td>Uber Eats</td><td>2023</td><td>5</td><td>2</td></tr><tr><td>1</td><td>B</td><td>2023-05-04</td><td>Canada</td><td>Restaurant</td><td>2023</td><td>5</td><td>2</td></tr><tr><td>1</td><td>B</td><td>2023-02-11</td><td>Canada</td><td>Uber Eats</td><td>2023</td><td>2</td><td>1</td></tr><tr><td>3</td><td>B</td><td>2023-05-16</td><td>Canada</td><td>Door Dash</td><td>2023</td><td>5</td><td>2</td></tr><tr><td>3</td><td>B</td><td>2022-02-05</td><td>Canada</td><td>Door Dash</td><td>2022</td><td>2</td><td>1</td></tr><tr><td>3</td><td>C</td><td>2023-05-05</td><td>Canada</td><td>Door Dash</td><td>2023</td><td>5</td><td>2</td></tr><tr><td>1</td><td>C</td><td>2023-05-05</td><td>UK</td><td>Uber Eats</td><td>2023</td><td>5</td><td>2</td></tr><tr><td>6</td><td>C</td><td>2022-05-07</td><td>UK</td><td>Door Dash</td><td>2022</td><td>5</td><td>2</td></tr><tr><td>3</td><td>D</td><td>2023-02-16</td><td>UK</td><td>Restaurant</td><td>2023</td><td>2</td><td>1</td></tr><tr><td>5</td><td>D</td><td>2022-02-05</td><td>UK</td><td>Door Dash</td><td>2022</td><td>2</td><td>1</td></tr><tr><td>3</td><td>E</td><td>2023-02-05</td><td>UK</td><td>Restaurant</td><td>2023</td><td>2</td><td>1</td></tr><tr><td>4</td><td>E</td><td>2023-02-05</td><td>UK</td><td>Uber Eats</td><td>2023</td><td>2</td><td>1</td></tr><tr><td>4</td><td>E</td><td>2023-02-07</td><td>UK</td><td>Restaurant</td><td>2023</td><td>2</td><td>1</td></tr><tr><td>2</td><td>A</td><td>2022-05-05</td><td>UK</td><td>Uber Eats</td><td>2022</td><td>5</td><td>2</td></tr><tr><td>2</td><td>A</td><td>2023-05-07</td><td>UK</td><td>Uber Eats</td><td>2023</td><td>5</td><td>2</td></tr><tr><td>3</td><td>A</td><td>2023-05-10</td><td>UK</td><td>Restaurant</td><td>2023</td><td>5</td><td>2</td></tr><tr><td>3</td><td>A</td><td>2022-05-11</td><td>UK</td><td>Uber Eats</td><td>2022</td><td>5</td><td>2</td></tr><tr><td>3</td><td>A</td><td>2023-05-11</td><td>UK</td><td>Door Dash</td><td>2023</td><td>5</td><td>2</td></tr><tr><td>2</td><td>B</td><td>2022-07-05</td><td>UK</td><td>Door Dash</td><td>2022</td><td>7</td><td>3</td></tr><tr><td>2</td><td>B</td><td>2023-05-02</td><td>UK</td><td>Door Dash</td><td>2023</td><td>5</td><td>2</td></tr><tr><td>1</td><td>B</td><td>2023-05-04</td><td>UK</td><td>Uber Eats</td><td>2023</td><td>5</td><td>2</td></tr><tr><td>1</td><td>B</td><td>2023-07-11</td><td>UK</td><td>Restaurant</td><td>2023</td><td>7</td><td>3</td></tr><tr><td>3</td><td>B</td><td>2023-05-16</td><td>UK</td><td>Uber Eats</td><td>2023</td><td>5</td><td>2</td></tr><tr><td>3</td><td>B</td><td>2023-07-05</td><td>UK</td><td>Uber Eats</td><td>2023</td><td>7</td><td>3</td></tr><tr><td>3</td><td>C</td><td>2023-05-05</td><td>UK</td><td>Restaurant</td><td>2023</td><td>5</td><td>2</td></tr><tr><td>1</td><td>C</td><td>2023-05-05</td><td>USA</td><td>Uber Eats</td><td>2023</td><td>5</td><td>2</td></tr><tr><td>6</td><td>C</td><td>2023-05-07</td><td>USA</td><td>Door Dash</td><td>2023</td><td>5</td><td>2</td></tr><tr><td>3</td><td>D</td><td>2022-07-16</td><td>USA</td><td>Door Dash</td><td>2022</td><td>7</td><td>3</td></tr><tr><td>5</td><td>D</td><td>2023-07-05</td><td>USA</td><td>Door Dash</td><td>2023</td><td>7</td><td>3</td></tr><tr><td>3</td><td>E</td><td>2023-07-05</td><td>USA</td><td>Uber Eats</td><td>2023</td><td>7</td><td>3</td></tr><tr><td>4</td><td>E</td><td>2022-07-05</td><td>USA</td><td>Door Dash</td><td>2022</td><td>7</td><td>3</td></tr><tr><td>4</td><td>E</td><td>2023-07-07</td><td>USA</td><td>Door Dash</td><td>2023</td><td>7</td><td>3</td></tr><tr><td>1</td><td>A</td><td>2023-06-06</td><td>Canada</td><td>Uber Eats</td><td>2023</td><td>6</td><td>2</td></tr><tr><td>2</td><td>A</td><td>2022-06-06</td><td>Canada</td><td>Uber Eats</td><td>2022</td><td>6</td><td>2</td></tr><tr><td>2</td><td>A</td><td>2023-06-11</td><td>Canada</td><td>Uber Eats</td><td>2023</td><td>6</td><td>2</td></tr><tr><td>3</td><td>A</td><td>2023-06-10</td><td>Canada</td><td>Restaurant</td><td>2023</td><td>6</td><td>2</td></tr><tr><td>3</td><td>A</td><td>2022-06-11</td><td>Canada</td><td>Uber Eats</td><td>2022</td><td>6</td><td>2</td></tr><tr><td>3</td><td>A</td><td>2023-06-11</td><td>Canada</td><td>Restaurant</td><td>2023</td><td>6</td><td>2</td></tr><tr><td>2</td><td>B</td><td>2022-02-06</td><td>Canada</td><td>Uber Eats</td><td>2022</td><td>2</td><td>1</td></tr><tr><td>2</td><td>B</td><td>2023-06-02</td><td>Canada</td><td>Uber Eats</td><td>2023</td><td>6</td><td>2</td></tr><tr><td>1</td><td>B</td><td>2023-06-04</td><td>Canada</td><td>Restaurant</td><td>2023</td><td>6</td><td>2</td></tr><tr><td>1</td><td>B</td><td>2023-02-11</td><td>Canada</td><td>Uber Eats</td><td>2023</td><td>2</td><td>1</td></tr><tr><td>3</td><td>B</td><td>2023-06-16</td><td>Canada</td><td>Door Dash</td><td>2023</td><td>6</td><td>2</td></tr><tr><td>3</td><td>B</td><td>2022-02-06</td><td>Canada</td><td>Door Dash</td><td>2022</td><td>2</td><td>1</td></tr><tr><td>3</td><td>C</td><td>2023-06-06</td><td>Canada</td><td>Door Dash</td><td>2023</td><td>6</td><td>2</td></tr><tr><td>1</td><td>C</td><td>2023-06-06</td><td>UK</td><td>Uber Eats</td><td>2023</td><td>6</td><td>2</td></tr><tr><td>6</td><td>C</td><td>2022-06-11</td><td>UK</td><td>Door Dash</td><td>2022</td><td>6</td><td>2</td></tr><tr><td>3</td><td>D</td><td>2023-02-16</td><td>UK</td><td>Restaurant</td><td>2023</td><td>2</td><td>1</td></tr><tr><td>5</td><td>D</td><td>2022-02-06</td><td>UK</td><td>Door Dash</td><td>2022</td><td>2</td><td>1</td></tr><tr><td>3</td><td>E</td><td>2023-02-06</td><td>UK</td><td>Restaurant</td><td>2023</td><td>2</td><td>1</td></tr><tr><td>4</td><td>E</td><td>2023-02-06</td><td>UK</td><td>Uber Eats</td><td>2023</td><td>2</td><td>1</td></tr><tr><td>4</td><td>E</td><td>2023-02-11</td><td>UK</td><td>Restaurant</td><td>2023</td><td>2</td><td>1</td></tr><tr><td>2</td><td>A</td><td>2022-06-06</td><td>UK</td><td>Uber Eats</td><td>2022</td><td>6</td><td>2</td></tr><tr><td>2</td><td>A</td><td>2023-06-11</td><td>UK</td><td>Uber Eats</td><td>2023</td><td>6</td><td>2</td></tr><tr><td>3</td><td>A</td><td>2023-06-10</td><td>UK</td><td>Restaurant</td><td>2023</td><td>6</td><td>2</td></tr><tr><td>3</td><td>A</td><td>2022-06-11</td><td>UK</td><td>Uber Eats</td><td>2022</td><td>6</td><td>2</td></tr><tr><td>3</td><td>A</td><td>2023-06-11</td><td>UK</td><td>Door Dash</td><td>2023</td><td>6</td><td>2</td></tr><tr><td>2</td><td>B</td><td>2022-11-06</td><td>UK</td><td>Door Dash</td><td>2022</td><td>11</td><td>4</td></tr><tr><td>2</td><td>B</td><td>2023-06-02</td><td>UK</td><td>Door Dash</td><td>2023</td><td>6</td><td>2</td></tr><tr><td>1</td><td>B</td><td>2023-06-04</td><td>UK</td><td>Uber Eats</td><td>2023</td><td>6</td><td>2</td></tr><tr><td>1</td><td>B</td><td>2023-11-11</td><td>UK</td><td>Restaurant</td><td>2023</td><td>11</td><td>4</td></tr><tr><td>3</td><td>B</td><td>2023-06-16</td><td>UK</td><td>Uber Eats</td><td>2023</td><td>6</td><td>2</td></tr><tr><td>3</td><td>B</td><td>2023-11-06</td><td>UK</td><td>Uber Eats</td><td>2023</td><td>11</td><td>4</td></tr><tr><td>3</td><td>C</td><td>2023-06-06</td><td>UK</td><td>Restaurant</td><td>2023</td><td>6</td><td>2</td></tr><tr><td>1</td><td>C</td><td>2023-06-06</td><td>USA</td><td>Uber Eats</td><td>2023</td><td>6</td><td>2</td></tr><tr><td>6</td><td>C</td><td>2023-06-11</td><td>USA</td><td>Door Dash</td><td>2023</td><td>6</td><td>2</td></tr><tr><td>3</td><td>D</td><td>2022-11-16</td><td>USA</td><td>Door Dash</td><td>2022</td><td>11</td><td>4</td></tr><tr><td>5</td><td>D</td><td>2023-11-06</td><td>USA</td><td>Door Dash</td><td>2023</td><td>11</td><td>4</td></tr><tr><td>3</td><td>E</td><td>2023-11-06</td><td>USA</td><td>Uber Eats</td><td>2023</td><td>11</td><td>4</td></tr><tr><td>4</td><td>E</td><td>2022-11-06</td><td>USA</td><td>Door Dash</td><td>2022</td><td>11</td><td>4</td></tr><tr><td>4</td><td>E</td><td>2023-11-11</td><td>USA</td><td>Door Dash</td><td>2023</td><td>11</td><td>4</td></tr><tr><td>null</td><td>null</td><td>null</td><td>null</td><td>null</td><td>null</td><td>null</td><td>null</td></tr></tbody></table></div>"
      ]
     },
     "metadata": {
      "application/vnd.databricks.v1+output": {
       "addedWidgets": {},
       "aggData": [],
       "aggError": "",
       "aggOverflow": false,
       "aggSchema": [],
       "aggSeriesLimitReached": false,
       "aggType": "",
       "arguments": {},
       "columnCustomDisplayInfos": {},
       "data": [
        [
         1,
         "A",
         "2023-01-01",
         "Canada",
         "Uber Eats",
         2023,
         1,
         1
        ],
        [
         2,
         "A",
         "2022-01-01",
         "Canada",
         "Uber Eats",
         2022,
         1,
         1
        ],
        [
         2,
         "A",
         "2023-01-07",
         "Canada",
         "Uber Eats",
         2023,
         1,
         1
        ],
        [
         3,
         "A",
         "2023-01-10",
         "Canada",
         "Restaurant",
         2023,
         1,
         1
        ],
        [
         3,
         "A",
         "2022-01-11",
         "Canada",
         "Uber Eats",
         2022,
         1,
         1
        ],
        [
         3,
         "A",
         "2023-01-11",
         "Canada",
         "Restaurant",
         2023,
         1,
         1
        ],
        [
         2,
         "B",
         "2022-02-01",
         "Canada",
         "Uber Eats",
         2022,
         2,
         1
        ],
        [
         2,
         "B",
         "2023-01-02",
         "Canada",
         "Uber Eats",
         2023,
         1,
         1
        ],
        [
         1,
         "B",
         "2023-01-04",
         "Canada",
         "Restaurant",
         2023,
         1,
         1
        ],
        [
         1,
         "B",
         "2023-02-11",
         "Canada",
         "Uber Eats",
         2023,
         2,
         1
        ],
        [
         3,
         "B",
         "2023-01-16",
         "Canada",
         "Door Dash",
         2023,
         1,
         1
        ],
        [
         3,
         "B",
         "2022-02-01",
         "Canada",
         "Door Dash",
         2022,
         2,
         1
        ],
        [
         3,
         "C",
         "2023-01-01",
         "Canada",
         "Door Dash",
         2023,
         1,
         1
        ],
        [
         1,
         "C",
         "2023-01-01",
         "UK",
         "Uber Eats",
         2023,
         1,
         1
        ],
        [
         6,
         "C",
         "2022-01-07",
         "UK",
         "Door Dash",
         2022,
         1,
         1
        ],
        [
         3,
         "D",
         "2023-02-16",
         "UK",
         "Restaurant",
         2023,
         2,
         1
        ],
        [
         5,
         "D",
         "2022-02-01",
         "UK",
         "Door Dash",
         2022,
         2,
         1
        ],
        [
         3,
         "E",
         "2023-02-01",
         "UK",
         "Restaurant",
         2023,
         2,
         1
        ],
        [
         4,
         "E",
         "2023-02-01",
         "UK",
         "Uber Eats",
         2023,
         2,
         1
        ],
        [
         4,
         "E",
         "2023-02-07",
         "UK",
         "Restaurant",
         2023,
         2,
         1
        ],
        [
         2,
         "A",
         "2022-01-01",
         "UK",
         "Uber Eats",
         2022,
         1,
         1
        ],
        [
         2,
         "A",
         "2023-01-07",
         "UK",
         "Uber Eats",
         2023,
         1,
         1
        ],
        [
         3,
         "A",
         "2023-01-10",
         "UK",
         "Restaurant",
         2023,
         1,
         1
        ],
        [
         3,
         "A",
         "2022-01-11",
         "UK",
         "Uber Eats",
         2022,
         1,
         1
        ],
        [
         3,
         "A",
         "2023-01-11",
         "UK",
         "Door Dash",
         2023,
         1,
         1
        ],
        [
         2,
         "B",
         "2022-03-01",
         "UK",
         "Door Dash",
         2022,
         3,
         1
        ],
        [
         2,
         "B",
         "2023-01-02",
         "UK",
         "Door Dash",
         2023,
         1,
         1
        ],
        [
         1,
         "B",
         "2023-01-04",
         "UK",
         "Uber Eats",
         2023,
         1,
         1
        ],
        [
         1,
         "B",
         "2023-03-11",
         "UK",
         "Restaurant",
         2023,
         3,
         1
        ],
        [
         3,
         "B",
         "2023-01-16",
         "UK",
         "Uber Eats",
         2023,
         1,
         1
        ],
        [
         3,
         "B",
         "2023-03-01",
         "UK",
         "Uber Eats",
         2023,
         3,
         1
        ],
        [
         3,
         "C",
         "2023-01-01",
         "UK",
         "Restaurant",
         2023,
         1,
         1
        ],
        [
         1,
         "C",
         "2023-01-01",
         "USA",
         "Uber Eats",
         2023,
         1,
         1
        ],
        [
         6,
         "C",
         "2023-01-07",
         "USA",
         "Door Dash",
         2023,
         1,
         1
        ],
        [
         3,
         "D",
         "2022-03-16",
         "USA",
         "Door Dash",
         2022,
         3,
         1
        ],
        [
         5,
         "D",
         "2023-03-01",
         "USA",
         "Door Dash",
         2023,
         3,
         1
        ],
        [
         3,
         "E",
         "2023-03-01",
         "USA",
         "Uber Eats",
         2023,
         3,
         1
        ],
        [
         4,
         "E",
         "2022-03-01",
         "USA",
         "Door Dash",
         2022,
         3,
         1
        ],
        [
         4,
         "E",
         "2023-03-07",
         "USA",
         "Door Dash",
         2023,
         3,
         1
        ],
        [
         1,
         "A",
         "2023-05-05",
         "Canada",
         "Uber Eats",
         2023,
         5,
         2
        ],
        [
         2,
         "A",
         "2022-05-05",
         "Canada",
         "Uber Eats",
         2022,
         5,
         2
        ],
        [
         2,
         "A",
         "2023-05-07",
         "Canada",
         "Uber Eats",
         2023,
         5,
         2
        ],
        [
         3,
         "A",
         "2023-05-10",
         "Canada",
         "Restaurant",
         2023,
         5,
         2
        ],
        [
         3,
         "A",
         "2022-05-11",
         "Canada",
         "Uber Eats",
         2022,
         5,
         2
        ],
        [
         3,
         "A",
         "2023-05-11",
         "Canada",
         "Restaurant",
         2023,
         5,
         2
        ],
        [
         2,
         "B",
         "2022-02-05",
         "Canada",
         "Uber Eats",
         2022,
         2,
         1
        ],
        [
         2,
         "B",
         "2023-05-02",
         "Canada",
         "Uber Eats",
         2023,
         5,
         2
        ],
        [
         1,
         "B",
         "2023-05-04",
         "Canada",
         "Restaurant",
         2023,
         5,
         2
        ],
        [
         1,
         "B",
         "2023-02-11",
         "Canada",
         "Uber Eats",
         2023,
         2,
         1
        ],
        [
         3,
         "B",
         "2023-05-16",
         "Canada",
         "Door Dash",
         2023,
         5,
         2
        ],
        [
         3,
         "B",
         "2022-02-05",
         "Canada",
         "Door Dash",
         2022,
         2,
         1
        ],
        [
         3,
         "C",
         "2023-05-05",
         "Canada",
         "Door Dash",
         2023,
         5,
         2
        ],
        [
         1,
         "C",
         "2023-05-05",
         "UK",
         "Uber Eats",
         2023,
         5,
         2
        ],
        [
         6,
         "C",
         "2022-05-07",
         "UK",
         "Door Dash",
         2022,
         5,
         2
        ],
        [
         3,
         "D",
         "2023-02-16",
         "UK",
         "Restaurant",
         2023,
         2,
         1
        ],
        [
         5,
         "D",
         "2022-02-05",
         "UK",
         "Door Dash",
         2022,
         2,
         1
        ],
        [
         3,
         "E",
         "2023-02-05",
         "UK",
         "Restaurant",
         2023,
         2,
         1
        ],
        [
         4,
         "E",
         "2023-02-05",
         "UK",
         "Uber Eats",
         2023,
         2,
         1
        ],
        [
         4,
         "E",
         "2023-02-07",
         "UK",
         "Restaurant",
         2023,
         2,
         1
        ],
        [
         2,
         "A",
         "2022-05-05",
         "UK",
         "Uber Eats",
         2022,
         5,
         2
        ],
        [
         2,
         "A",
         "2023-05-07",
         "UK",
         "Uber Eats",
         2023,
         5,
         2
        ],
        [
         3,
         "A",
         "2023-05-10",
         "UK",
         "Restaurant",
         2023,
         5,
         2
        ],
        [
         3,
         "A",
         "2022-05-11",
         "UK",
         "Uber Eats",
         2022,
         5,
         2
        ],
        [
         3,
         "A",
         "2023-05-11",
         "UK",
         "Door Dash",
         2023,
         5,
         2
        ],
        [
         2,
         "B",
         "2022-07-05",
         "UK",
         "Door Dash",
         2022,
         7,
         3
        ],
        [
         2,
         "B",
         "2023-05-02",
         "UK",
         "Door Dash",
         2023,
         5,
         2
        ],
        [
         1,
         "B",
         "2023-05-04",
         "UK",
         "Uber Eats",
         2023,
         5,
         2
        ],
        [
         1,
         "B",
         "2023-07-11",
         "UK",
         "Restaurant",
         2023,
         7,
         3
        ],
        [
         3,
         "B",
         "2023-05-16",
         "UK",
         "Uber Eats",
         2023,
         5,
         2
        ],
        [
         3,
         "B",
         "2023-07-05",
         "UK",
         "Uber Eats",
         2023,
         7,
         3
        ],
        [
         3,
         "C",
         "2023-05-05",
         "UK",
         "Restaurant",
         2023,
         5,
         2
        ],
        [
         1,
         "C",
         "2023-05-05",
         "USA",
         "Uber Eats",
         2023,
         5,
         2
        ],
        [
         6,
         "C",
         "2023-05-07",
         "USA",
         "Door Dash",
         2023,
         5,
         2
        ],
        [
         3,
         "D",
         "2022-07-16",
         "USA",
         "Door Dash",
         2022,
         7,
         3
        ],
        [
         5,
         "D",
         "2023-07-05",
         "USA",
         "Door Dash",
         2023,
         7,
         3
        ],
        [
         3,
         "E",
         "2023-07-05",
         "USA",
         "Uber Eats",
         2023,
         7,
         3
        ],
        [
         4,
         "E",
         "2022-07-05",
         "USA",
         "Door Dash",
         2022,
         7,
         3
        ],
        [
         4,
         "E",
         "2023-07-07",
         "USA",
         "Door Dash",
         2023,
         7,
         3
        ],
        [
         1,
         "A",
         "2023-06-06",
         "Canada",
         "Uber Eats",
         2023,
         6,
         2
        ],
        [
         2,
         "A",
         "2022-06-06",
         "Canada",
         "Uber Eats",
         2022,
         6,
         2
        ],
        [
         2,
         "A",
         "2023-06-11",
         "Canada",
         "Uber Eats",
         2023,
         6,
         2
        ],
        [
         3,
         "A",
         "2023-06-10",
         "Canada",
         "Restaurant",
         2023,
         6,
         2
        ],
        [
         3,
         "A",
         "2022-06-11",
         "Canada",
         "Uber Eats",
         2022,
         6,
         2
        ],
        [
         3,
         "A",
         "2023-06-11",
         "Canada",
         "Restaurant",
         2023,
         6,
         2
        ],
        [
         2,
         "B",
         "2022-02-06",
         "Canada",
         "Uber Eats",
         2022,
         2,
         1
        ],
        [
         2,
         "B",
         "2023-06-02",
         "Canada",
         "Uber Eats",
         2023,
         6,
         2
        ],
        [
         1,
         "B",
         "2023-06-04",
         "Canada",
         "Restaurant",
         2023,
         6,
         2
        ],
        [
         1,
         "B",
         "2023-02-11",
         "Canada",
         "Uber Eats",
         2023,
         2,
         1
        ],
        [
         3,
         "B",
         "2023-06-16",
         "Canada",
         "Door Dash",
         2023,
         6,
         2
        ],
        [
         3,
         "B",
         "2022-02-06",
         "Canada",
         "Door Dash",
         2022,
         2,
         1
        ],
        [
         3,
         "C",
         "2023-06-06",
         "Canada",
         "Door Dash",
         2023,
         6,
         2
        ],
        [
         1,
         "C",
         "2023-06-06",
         "UK",
         "Uber Eats",
         2023,
         6,
         2
        ],
        [
         6,
         "C",
         "2022-06-11",
         "UK",
         "Door Dash",
         2022,
         6,
         2
        ],
        [
         3,
         "D",
         "2023-02-16",
         "UK",
         "Restaurant",
         2023,
         2,
         1
        ],
        [
         5,
         "D",
         "2022-02-06",
         "UK",
         "Door Dash",
         2022,
         2,
         1
        ],
        [
         3,
         "E",
         "2023-02-06",
         "UK",
         "Restaurant",
         2023,
         2,
         1
        ],
        [
         4,
         "E",
         "2023-02-06",
         "UK",
         "Uber Eats",
         2023,
         2,
         1
        ],
        [
         4,
         "E",
         "2023-02-11",
         "UK",
         "Restaurant",
         2023,
         2,
         1
        ],
        [
         2,
         "A",
         "2022-06-06",
         "UK",
         "Uber Eats",
         2022,
         6,
         2
        ],
        [
         2,
         "A",
         "2023-06-11",
         "UK",
         "Uber Eats",
         2023,
         6,
         2
        ],
        [
         3,
         "A",
         "2023-06-10",
         "UK",
         "Restaurant",
         2023,
         6,
         2
        ],
        [
         3,
         "A",
         "2022-06-11",
         "UK",
         "Uber Eats",
         2022,
         6,
         2
        ],
        [
         3,
         "A",
         "2023-06-11",
         "UK",
         "Door Dash",
         2023,
         6,
         2
        ],
        [
         2,
         "B",
         "2022-11-06",
         "UK",
         "Door Dash",
         2022,
         11,
         4
        ],
        [
         2,
         "B",
         "2023-06-02",
         "UK",
         "Door Dash",
         2023,
         6,
         2
        ],
        [
         1,
         "B",
         "2023-06-04",
         "UK",
         "Uber Eats",
         2023,
         6,
         2
        ],
        [
         1,
         "B",
         "2023-11-11",
         "UK",
         "Restaurant",
         2023,
         11,
         4
        ],
        [
         3,
         "B",
         "2023-06-16",
         "UK",
         "Uber Eats",
         2023,
         6,
         2
        ],
        [
         3,
         "B",
         "2023-11-06",
         "UK",
         "Uber Eats",
         2023,
         11,
         4
        ],
        [
         3,
         "C",
         "2023-06-06",
         "UK",
         "Restaurant",
         2023,
         6,
         2
        ],
        [
         1,
         "C",
         "2023-06-06",
         "USA",
         "Uber Eats",
         2023,
         6,
         2
        ],
        [
         6,
         "C",
         "2023-06-11",
         "USA",
         "Door Dash",
         2023,
         6,
         2
        ],
        [
         3,
         "D",
         "2022-11-16",
         "USA",
         "Door Dash",
         2022,
         11,
         4
        ],
        [
         5,
         "D",
         "2023-11-06",
         "USA",
         "Door Dash",
         2023,
         11,
         4
        ],
        [
         3,
         "E",
         "2023-11-06",
         "USA",
         "Uber Eats",
         2023,
         11,
         4
        ],
        [
         4,
         "E",
         "2022-11-06",
         "USA",
         "Door Dash",
         2022,
         11,
         4
        ],
        [
         4,
         "E",
         "2023-11-11",
         "USA",
         "Door Dash",
         2023,
         11,
         4
        ],
        [
         null,
         null,
         null,
         null,
         null,
         null,
         null,
         null
        ]
       ],
       "datasetInfos": [],
       "dbfsResultPath": null,
       "isJsonSchema": true,
       "metadata": {},
       "overflow": false,
       "plotOptions": {
        "customPlotOptions": {},
        "displayType": "table",
        "pivotAggregation": null,
        "pivotColumns": null,
        "xColumns": null,
        "yColumns": null
       },
       "removedWidgets": [],
       "schema": [
        {
         "metadata": "{}",
         "name": "ID",
         "type": "\"integer\""
        },
        {
         "metadata": "{}",
         "name": "Customer_ID",
         "type": "\"string\""
        },
        {
         "metadata": "{}",
         "name": "Order_Date",
         "type": "\"date\""
        },
        {
         "metadata": "{}",
         "name": "location",
         "type": "\"string\""
        },
        {
         "metadata": "{}",
         "name": "source_order",
         "type": "\"string\""
        },
        {
         "metadata": "{}",
         "name": "order_year",
         "type": "\"integer\""
        },
        {
         "metadata": "{}",
         "name": "order_month",
         "type": "\"integer\""
        },
        {
         "metadata": "{}",
         "name": "order_quarter",
         "type": "\"integer\""
        }
       ],
       "type": "table"
      }
     },
     "output_type": "display_data"
    }
   ],
   "source": [
    "from pyspark.sql.types import StructType, StructField, IntegerType, StringType, DateType\n",
    "\n",
    "schema=StructType([\n",
    "    StructField(\"ID\",IntegerType(),True),\n",
    "    StructField(\"Customer_ID\",StringType(),True),\n",
    "    StructField(\"Order_Date\",DateType(),True),\n",
    "    StructField(\"location\",StringType(),True),\n",
    "    StructField(\"source_order\",StringType(),True)\n",
    "])\n",
    "sales_df = spark.read.format(\"csv\").option(\"inferschema\", \"true\").schema(schema).load(\"/FileStore/tables/sales-1.csv\")\n",
    "from pyspark.sql.functions import month, year, quarter\n",
    "sales_df=sales_df.withColumn(\"order_year\", year(sales_df.Order_Date))\n",
    "sales_df=sales_df.withColumn(\"order_month\", month(sales_df.Order_Date))\n",
    "sales_df=sales_df.withColumn(\"order_quarter\", quarter(sales_df.Order_Date))\n",
    "display(sales_df)\n",
    "#sales_df.show()"
   ]
  }
 ],
 "metadata": {
  "application/vnd.databricks.v1+notebook": {
   "dashboards": [],
   "language": "python",
   "notebookMetadata": {
    "pythonIndentUnit": 4
   },
   "notebookName": "Assign2-Sales",
   "widgets": {}
  },
  "kernelspec": {
   "display_name": "Python 3.12.0 64-bit",
   "language": "python",
   "name": "python3"
  },
  "language_info": {
   "name": "python",
   "version": "3.12.0"
  },
  "vscode": {
   "interpreter": {
    "hash": "17187e84d2f29b9b0e9f46493ad3e90b246ffdf6e68db8da04ab831858059874"
   }
  }
 },
 "nbformat": 4,
 "nbformat_minor": 0
}
