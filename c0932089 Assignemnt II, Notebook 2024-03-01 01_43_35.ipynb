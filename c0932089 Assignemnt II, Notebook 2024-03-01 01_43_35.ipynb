{
 "cells": [
  {
   "cell_type": "code",
   "execution_count": 0,
   "metadata": {
    "application/vnd.databricks.v1+cell": {
     "cellMetadata": {},
     "inputWidgets": {},
     "nuid": "ceb37037-903d-4653-aef0-fef0ae4c8025",
     "showTitle": false,
     "title": ""
    }
   },
   "outputs": [],
   "source": [
    "/FileStore/tables/menu-1.csv\n",
    "/FileStore/tables/sales-3.csv"
   ]
  },
  {
   "cell_type": "code",
   "execution_count": 0,
   "metadata": {
    "application/vnd.databricks.v1+cell": {
     "cellMetadata": {
      "byteLimit": 2048000,
      "rowLimit": 10000
     },
     "inputWidgets": {},
     "nuid": "cf90b56a-f320-48bf-96e3-489067bf2f06",
     "showTitle": false,
     "title": ""
    }
   },
   "outputs": [],
   "source": [
    "from pyspark.sql.types import StructType, StructField, IntegerType, StringType, DateType"
   ]
  },
  {
   "cell_type": "code",
   "execution_count": 0,
   "metadata": {
    "application/vnd.databricks.v1+cell": {
     "cellMetadata": {
      "byteLimit": 2048000,
      "rowLimit": 10000
     },
     "inputWidgets": {},
     "nuid": "a732d1d5-1717-478b-b1a5-a135f18c7fc2",
     "showTitle": false,
     "title": ""
    }
   },
   "outputs": [
    {
     "output_type": "display_data",
     "data": {
      "text/html": [
       "<style scoped>\n",
       "  .table-result-container {\n",
       "    max-height: 300px;\n",
       "    overflow: auto;\n",
       "  }\n",
       "  table, th, td {\n",
       "    border: 1px solid black;\n",
       "    border-collapse: collapse;\n",
       "  }\n",
       "  th, td {\n",
       "    padding: 5px;\n",
       "  }\n",
       "  th {\n",
       "    text-align: left;\n",
       "  }\n",
       "</style><div class='table-result-container'><table class='table-result'><thead style='background-color: white'><tr><th>Id</th><th>Item Name</th><th>Price in $</th></tr></thead><tbody><tr><td>1</td><td> PIZZA</td><td> 100</td></tr><tr><td>2</td><td> Chowmin</td><td> 150</td></tr><tr><td>3</td><td> sandwich</td><td> 120</td></tr><tr><td>4</td><td> Dosa</td><td> 110</td></tr><tr><td>5</td><td> Biryani</td><td> 80</td></tr><tr><td>6</td><td> Pasta</td><td> 180</td></tr></tbody></table></div>"
      ]
     },
     "metadata": {
      "application/vnd.databricks.v1+output": {
       "addedWidgets": {},
       "aggData": [],
       "aggError": "",
       "aggOverflow": false,
       "aggSchema": [],
       "aggSeriesLimitReached": false,
       "aggType": "",
       "arguments": {},
       "columnCustomDisplayInfos": {},
       "data": [
        [
         1,
         " PIZZA",
         " 100"
        ],
        [
         2,
         " Chowmin",
         " 150"
        ],
        [
         3,
         " sandwich",
         " 120"
        ],
        [
         4,
         " Dosa",
         " 110"
        ],
        [
         5,
         " Biryani",
         " 80"
        ],
        [
         6,
         " Pasta",
         " 180"
        ]
       ],
       "datasetInfos": [],
       "dbfsResultPath": null,
       "isJsonSchema": true,
       "metadata": {},
       "overflow": false,
       "plotOptions": {
        "customPlotOptions": {},
        "displayType": "table",
        "pivotAggregation": null,
        "pivotColumns": null,
        "xColumns": null,
        "yColumns": null
       },
       "removedWidgets": [],
       "schema": [
        {
         "metadata": "{}",
         "name": "Id",
         "type": "\"integer\""
        },
        {
         "metadata": "{}",
         "name": "Item Name",
         "type": "\"string\""
        },
        {
         "metadata": "{}",
         "name": "Price in $",
         "type": "\"string\""
        }
       ],
       "type": "table"
      }
     },
     "output_type": "display_data"
    }
   ],
   "source": [
    "# Menu Data Schema\n",
    "\n",
    "schema = StructType([\n",
    "    StructField(\"Id\", IntegerType(), True),\n",
    "    StructField(\"Item Name\", StringType(), True),\n",
    "    StructField(\"Price in $\", StringType(), True)\n",
    "])\n",
    "menu_df = spark.read.format(\"csv\").option(\"inferschema\", \"true\").schema(schema).load(\"/FileStore/tables/menu-1.csv\")\n",
    "display(menu_df)\n",
    "#menu_df.show()"
   ]
  },
  {
   "cell_type": "code",
   "execution_count": 0,
   "metadata": {
    "application/vnd.databricks.v1+cell": {
     "cellMetadata": {
      "byteLimit": 2048000,
      "rowLimit": 10000
     },
     "inputWidgets": {},
     "nuid": "4cba38b9-c592-4d34-bd6e-38341be46386",
     "showTitle": false,
     "title": ""
    }
   },
   "outputs": [
    {
     "output_type": "display_data",
     "data": {
      "text/html": [
       "<style scoped>\n",
       "  .table-result-container {\n",
       "    max-height: 300px;\n",
       "    overflow: auto;\n",
       "  }\n",
       "  table, th, td {\n",
       "    border: 1px solid black;\n",
       "    border-collapse: collapse;\n",
       "  }\n",
       "  th, td {\n",
       "    padding: 5px;\n",
       "  }\n",
       "  th {\n",
       "    text-align: left;\n",
       "  }\n",
       "</style><div class='table-result-container'><table class='table-result'><thead style='background-color: white'><tr><th>Id</th><th>Customer Name</th><th>Order Date</th><th>Location</th><th>Source Order</th></tr></thead><tbody><tr><td>1</td><td>A</td><td>2023-01-01</td><td>Canada</td><td>Uber Eats</td></tr><tr><td>2</td><td>A</td><td>2022-01-01</td><td>Canada</td><td>Uber Eats</td></tr><tr><td>2</td><td>A</td><td>2023-01-07</td><td>Canada</td><td>Uber Eats</td></tr><tr><td>3</td><td>A</td><td>2023-01-10</td><td>Canada</td><td>Restaurant</td></tr><tr><td>3</td><td>A</td><td>2022-01-11</td><td>Canada</td><td>Uber Eats</td></tr><tr><td>3</td><td>A</td><td>2023-01-11</td><td>Canada</td><td>Restaurant</td></tr><tr><td>2</td><td>B</td><td>2022-02-01</td><td>Canada</td><td>Uber Eats</td></tr><tr><td>2</td><td>B</td><td>2023-01-02</td><td>Canada</td><td>Uber Eats</td></tr><tr><td>1</td><td>B</td><td>2023-01-04</td><td>Canada</td><td>Restaurant</td></tr><tr><td>1</td><td>B</td><td>2023-02-11</td><td>Canada</td><td>Uber Eats</td></tr><tr><td>3</td><td>B</td><td>2023-01-16</td><td>Canada</td><td>Door Dash</td></tr><tr><td>3</td><td>B</td><td>2022-02-01</td><td>Canada</td><td>Door Dash</td></tr><tr><td>3</td><td>C</td><td>2023-01-01</td><td>Canada</td><td>Door Dash</td></tr><tr><td>1</td><td>C</td><td>2023-01-01</td><td>UK</td><td>Uber Eats</td></tr><tr><td>6</td><td>C</td><td>2022-01-07</td><td>UK</td><td>Door Dash</td></tr><tr><td>3</td><td>D</td><td>2023-02-16</td><td>UK</td><td>Restaurant</td></tr><tr><td>5</td><td>D</td><td>2022-02-01</td><td>UK</td><td>Door Dash</td></tr><tr><td>3</td><td>E</td><td>2023-02-01</td><td>UK</td><td>Restaurant</td></tr><tr><td>4</td><td>E</td><td>2023-02-01</td><td>UK</td><td>Uber Eats</td></tr><tr><td>4</td><td>E</td><td>2023-02-07</td><td>UK</td><td>Restaurant</td></tr><tr><td>2</td><td>A</td><td>2022-01-01</td><td>UK</td><td>Uber Eats</td></tr><tr><td>2</td><td>A</td><td>2023-01-07</td><td>UK</td><td>Uber Eats</td></tr><tr><td>3</td><td>A</td><td>2023-01-10</td><td>UK</td><td>Restaurant</td></tr><tr><td>3</td><td>A</td><td>2022-01-11</td><td>UK</td><td>Uber Eats</td></tr><tr><td>3</td><td>A</td><td>2023-01-11</td><td>UK</td><td>Door Dash</td></tr><tr><td>2</td><td>B</td><td>2022-03-01</td><td>UK</td><td>Door Dash</td></tr><tr><td>2</td><td>B</td><td>2023-01-02</td><td>UK</td><td>Door Dash</td></tr><tr><td>1</td><td>B</td><td>2023-01-04</td><td>UK</td><td>Uber Eats</td></tr><tr><td>1</td><td>B</td><td>2023-03-11</td><td>UK</td><td>Restaurant</td></tr><tr><td>3</td><td>B</td><td>2023-01-16</td><td>UK</td><td>Uber Eats</td></tr><tr><td>3</td><td>B</td><td>2023-03-01</td><td>UK</td><td>Uber Eats</td></tr><tr><td>3</td><td>C</td><td>2023-01-01</td><td>UK</td><td>Restaurant</td></tr><tr><td>1</td><td>C</td><td>2023-01-01</td><td>USA</td><td>Uber Eats</td></tr><tr><td>6</td><td>C</td><td>2023-01-07</td><td>USA</td><td>Door Dash</td></tr><tr><td>3</td><td>D</td><td>2022-03-16</td><td>USA</td><td>Door Dash</td></tr><tr><td>5</td><td>D</td><td>2023-03-01</td><td>USA</td><td>Door Dash</td></tr><tr><td>3</td><td>E</td><td>2023-03-01</td><td>USA</td><td>Uber Eats</td></tr><tr><td>4</td><td>E</td><td>2022-03-01</td><td>USA</td><td>Door Dash</td></tr><tr><td>4</td><td>E</td><td>2023-03-07</td><td>USA</td><td>Door Dash</td></tr><tr><td>1</td><td>A</td><td>2023-05-05</td><td>Canada</td><td>Uber Eats</td></tr><tr><td>2</td><td>A</td><td>2022-05-05</td><td>Canada</td><td>Uber Eats</td></tr><tr><td>2</td><td>A</td><td>2023-05-07</td><td>Canada</td><td>Uber Eats</td></tr><tr><td>3</td><td>A</td><td>2023-05-10</td><td>Canada</td><td>Restaurant</td></tr><tr><td>3</td><td>A</td><td>2022-05-11</td><td>Canada</td><td>Uber Eats</td></tr><tr><td>3</td><td>A</td><td>2023-05-11</td><td>Canada</td><td>Restaurant</td></tr><tr><td>2</td><td>B</td><td>2022-02-05</td><td>Canada</td><td>Uber Eats</td></tr><tr><td>2</td><td>B</td><td>2023-05-02</td><td>Canada</td><td>Uber Eats</td></tr><tr><td>1</td><td>B</td><td>2023-05-04</td><td>Canada</td><td>Restaurant</td></tr><tr><td>1</td><td>B</td><td>2023-02-11</td><td>Canada</td><td>Uber Eats</td></tr><tr><td>3</td><td>B</td><td>2023-05-16</td><td>Canada</td><td>Door Dash</td></tr><tr><td>3</td><td>B</td><td>2022-02-05</td><td>Canada</td><td>Door Dash</td></tr><tr><td>3</td><td>C</td><td>2023-05-05</td><td>Canada</td><td>Door Dash</td></tr><tr><td>1</td><td>C</td><td>2023-05-05</td><td>UK</td><td>Uber Eats</td></tr><tr><td>6</td><td>C</td><td>2022-05-07</td><td>UK</td><td>Door Dash</td></tr><tr><td>3</td><td>D</td><td>2023-02-16</td><td>UK</td><td>Restaurant</td></tr><tr><td>5</td><td>D</td><td>2022-02-05</td><td>UK</td><td>Door Dash</td></tr><tr><td>3</td><td>E</td><td>2023-02-05</td><td>UK</td><td>Restaurant</td></tr><tr><td>4</td><td>E</td><td>2023-02-05</td><td>UK</td><td>Uber Eats</td></tr><tr><td>4</td><td>E</td><td>2023-02-07</td><td>UK</td><td>Restaurant</td></tr><tr><td>2</td><td>A</td><td>2022-05-05</td><td>UK</td><td>Uber Eats</td></tr><tr><td>2</td><td>A</td><td>2023-05-07</td><td>UK</td><td>Uber Eats</td></tr><tr><td>3</td><td>A</td><td>2023-05-10</td><td>UK</td><td>Restaurant</td></tr><tr><td>3</td><td>A</td><td>2022-05-11</td><td>UK</td><td>Uber Eats</td></tr><tr><td>3</td><td>A</td><td>2023-05-11</td><td>UK</td><td>Door Dash</td></tr><tr><td>2</td><td>B</td><td>2022-07-05</td><td>UK</td><td>Door Dash</td></tr><tr><td>2</td><td>B</td><td>2023-05-02</td><td>UK</td><td>Door Dash</td></tr><tr><td>1</td><td>B</td><td>2023-05-04</td><td>UK</td><td>Uber Eats</td></tr><tr><td>1</td><td>B</td><td>2023-07-11</td><td>UK</td><td>Restaurant</td></tr><tr><td>3</td><td>B</td><td>2023-05-16</td><td>UK</td><td>Uber Eats</td></tr><tr><td>3</td><td>B</td><td>2023-07-05</td><td>UK</td><td>Uber Eats</td></tr><tr><td>3</td><td>C</td><td>2023-05-05</td><td>UK</td><td>Restaurant</td></tr><tr><td>1</td><td>C</td><td>2023-05-05</td><td>USA</td><td>Uber Eats</td></tr><tr><td>6</td><td>C</td><td>2023-05-07</td><td>USA</td><td>Door Dash</td></tr><tr><td>3</td><td>D</td><td>2022-07-16</td><td>USA</td><td>Door Dash</td></tr><tr><td>5</td><td>D</td><td>2023-07-05</td><td>USA</td><td>Door Dash</td></tr><tr><td>3</td><td>E</td><td>2023-07-05</td><td>USA</td><td>Uber Eats</td></tr><tr><td>4</td><td>E</td><td>2022-07-05</td><td>USA</td><td>Door Dash</td></tr><tr><td>4</td><td>E</td><td>2023-07-07</td><td>USA</td><td>Door Dash</td></tr><tr><td>1</td><td>A</td><td>2023-06-06</td><td>Canada</td><td>Uber Eats</td></tr><tr><td>2</td><td>A</td><td>2022-06-06</td><td>Canada</td><td>Uber Eats</td></tr><tr><td>2</td><td>A</td><td>2023-06-11</td><td>Canada</td><td>Uber Eats</td></tr><tr><td>3</td><td>A</td><td>2023-06-10</td><td>Canada</td><td>Restaurant</td></tr><tr><td>3</td><td>A</td><td>2022-06-11</td><td>Canada</td><td>Uber Eats</td></tr><tr><td>3</td><td>A</td><td>2023-06-11</td><td>Canada</td><td>Restaurant</td></tr><tr><td>2</td><td>B</td><td>2022-02-06</td><td>Canada</td><td>Uber Eats</td></tr><tr><td>2</td><td>B</td><td>2023-06-02</td><td>Canada</td><td>Uber Eats</td></tr><tr><td>1</td><td>B</td><td>2023-06-04</td><td>Canada</td><td>Restaurant</td></tr><tr><td>1</td><td>B</td><td>2023-02-11</td><td>Canada</td><td>Uber Eats</td></tr><tr><td>3</td><td>B</td><td>2023-06-16</td><td>Canada</td><td>Door Dash</td></tr><tr><td>3</td><td>B</td><td>2022-02-06</td><td>Canada</td><td>Door Dash</td></tr><tr><td>3</td><td>C</td><td>2023-06-06</td><td>Canada</td><td>Door Dash</td></tr><tr><td>1</td><td>C</td><td>2023-06-06</td><td>UK</td><td>Uber Eats</td></tr><tr><td>6</td><td>C</td><td>2022-06-11</td><td>UK</td><td>Door Dash</td></tr><tr><td>3</td><td>D</td><td>2023-02-16</td><td>UK</td><td>Restaurant</td></tr><tr><td>5</td><td>D</td><td>2022-02-06</td><td>UK</td><td>Door Dash</td></tr><tr><td>3</td><td>E</td><td>2023-02-06</td><td>UK</td><td>Restaurant</td></tr><tr><td>4</td><td>E</td><td>2023-02-06</td><td>UK</td><td>Uber Eats</td></tr><tr><td>4</td><td>E</td><td>2023-02-11</td><td>UK</td><td>Restaurant</td></tr><tr><td>2</td><td>A</td><td>2022-06-06</td><td>UK</td><td>Uber Eats</td></tr><tr><td>2</td><td>A</td><td>2023-06-11</td><td>UK</td><td>Uber Eats</td></tr><tr><td>3</td><td>A</td><td>2023-06-10</td><td>UK</td><td>Restaurant</td></tr><tr><td>3</td><td>A</td><td>2022-06-11</td><td>UK</td><td>Uber Eats</td></tr><tr><td>3</td><td>A</td><td>2023-06-11</td><td>UK</td><td>Door Dash</td></tr><tr><td>2</td><td>B</td><td>2022-11-06</td><td>UK</td><td>Door Dash</td></tr><tr><td>2</td><td>B</td><td>2023-06-02</td><td>UK</td><td>Door Dash</td></tr><tr><td>1</td><td>B</td><td>2023-06-04</td><td>UK</td><td>Uber Eats</td></tr><tr><td>1</td><td>B</td><td>2023-11-11</td><td>UK</td><td>Restaurant</td></tr><tr><td>3</td><td>B</td><td>2023-06-16</td><td>UK</td><td>Uber Eats</td></tr><tr><td>3</td><td>B</td><td>2023-11-06</td><td>UK</td><td>Uber Eats</td></tr><tr><td>3</td><td>C</td><td>2023-06-06</td><td>UK</td><td>Restaurant</td></tr><tr><td>1</td><td>C</td><td>2023-06-06</td><td>USA</td><td>Uber Eats</td></tr><tr><td>6</td><td>C</td><td>2023-06-11</td><td>USA</td><td>Door Dash</td></tr><tr><td>3</td><td>D</td><td>2022-11-16</td><td>USA</td><td>Door Dash</td></tr><tr><td>5</td><td>D</td><td>2023-11-06</td><td>USA</td><td>Door Dash</td></tr><tr><td>3</td><td>E</td><td>2023-11-06</td><td>USA</td><td>Uber Eats</td></tr><tr><td>4</td><td>E</td><td>2022-11-06</td><td>USA</td><td>Door Dash</td></tr><tr><td>4</td><td>E</td><td>2023-11-11</td><td>USA</td><td>Door Dash</td></tr><tr><td>null</td><td>null</td><td>null</td><td>null</td><td>null</td></tr></tbody></table></div>"
      ]
     },
     "metadata": {
      "application/vnd.databricks.v1+output": {
       "addedWidgets": {},
       "aggData": [],
       "aggError": "",
       "aggOverflow": false,
       "aggSchema": [],
       "aggSeriesLimitReached": false,
       "aggType": "",
       "arguments": {},
       "columnCustomDisplayInfos": {},
       "data": [
        [
         1,
         "A",
         "2023-01-01",
         "Canada",
         "Uber Eats"
        ],
        [
         2,
         "A",
         "2022-01-01",
         "Canada",
         "Uber Eats"
        ],
        [
         2,
         "A",
         "2023-01-07",
         "Canada",
         "Uber Eats"
        ],
        [
         3,
         "A",
         "2023-01-10",
         "Canada",
         "Restaurant"
        ],
        [
         3,
         "A",
         "2022-01-11",
         "Canada",
         "Uber Eats"
        ],
        [
         3,
         "A",
         "2023-01-11",
         "Canada",
         "Restaurant"
        ],
        [
         2,
         "B",
         "2022-02-01",
         "Canada",
         "Uber Eats"
        ],
        [
         2,
         "B",
         "2023-01-02",
         "Canada",
         "Uber Eats"
        ],
        [
         1,
         "B",
         "2023-01-04",
         "Canada",
         "Restaurant"
        ],
        [
         1,
         "B",
         "2023-02-11",
         "Canada",
         "Uber Eats"
        ],
        [
         3,
         "B",
         "2023-01-16",
         "Canada",
         "Door Dash"
        ],
        [
         3,
         "B",
         "2022-02-01",
         "Canada",
         "Door Dash"
        ],
        [
         3,
         "C",
         "2023-01-01",
         "Canada",
         "Door Dash"
        ],
        [
         1,
         "C",
         "2023-01-01",
         "UK",
         "Uber Eats"
        ],
        [
         6,
         "C",
         "2022-01-07",
         "UK",
         "Door Dash"
        ],
        [
         3,
         "D",
         "2023-02-16",
         "UK",
         "Restaurant"
        ],
        [
         5,
         "D",
         "2022-02-01",
         "UK",
         "Door Dash"
        ],
        [
         3,
         "E",
         "2023-02-01",
         "UK",
         "Restaurant"
        ],
        [
         4,
         "E",
         "2023-02-01",
         "UK",
         "Uber Eats"
        ],
        [
         4,
         "E",
         "2023-02-07",
         "UK",
         "Restaurant"
        ],
        [
         2,
         "A",
         "2022-01-01",
         "UK",
         "Uber Eats"
        ],
        [
         2,
         "A",
         "2023-01-07",
         "UK",
         "Uber Eats"
        ],
        [
         3,
         "A",
         "2023-01-10",
         "UK",
         "Restaurant"
        ],
        [
         3,
         "A",
         "2022-01-11",
         "UK",
         "Uber Eats"
        ],
        [
         3,
         "A",
         "2023-01-11",
         "UK",
         "Door Dash"
        ],
        [
         2,
         "B",
         "2022-03-01",
         "UK",
         "Door Dash"
        ],
        [
         2,
         "B",
         "2023-01-02",
         "UK",
         "Door Dash"
        ],
        [
         1,
         "B",
         "2023-01-04",
         "UK",
         "Uber Eats"
        ],
        [
         1,
         "B",
         "2023-03-11",
         "UK",
         "Restaurant"
        ],
        [
         3,
         "B",
         "2023-01-16",
         "UK",
         "Uber Eats"
        ],
        [
         3,
         "B",
         "2023-03-01",
         "UK",
         "Uber Eats"
        ],
        [
         3,
         "C",
         "2023-01-01",
         "UK",
         "Restaurant"
        ],
        [
         1,
         "C",
         "2023-01-01",
         "USA",
         "Uber Eats"
        ],
        [
         6,
         "C",
         "2023-01-07",
         "USA",
         "Door Dash"
        ],
        [
         3,
         "D",
         "2022-03-16",
         "USA",
         "Door Dash"
        ],
        [
         5,
         "D",
         "2023-03-01",
         "USA",
         "Door Dash"
        ],
        [
         3,
         "E",
         "2023-03-01",
         "USA",
         "Uber Eats"
        ],
        [
         4,
         "E",
         "2022-03-01",
         "USA",
         "Door Dash"
        ],
        [
         4,
         "E",
         "2023-03-07",
         "USA",
         "Door Dash"
        ],
        [
         1,
         "A",
         "2023-05-05",
         "Canada",
         "Uber Eats"
        ],
        [
         2,
         "A",
         "2022-05-05",
         "Canada",
         "Uber Eats"
        ],
        [
         2,
         "A",
         "2023-05-07",
         "Canada",
         "Uber Eats"
        ],
        [
         3,
         "A",
         "2023-05-10",
         "Canada",
         "Restaurant"
        ],
        [
         3,
         "A",
         "2022-05-11",
         "Canada",
         "Uber Eats"
        ],
        [
         3,
         "A",
         "2023-05-11",
         "Canada",
         "Restaurant"
        ],
        [
         2,
         "B",
         "2022-02-05",
         "Canada",
         "Uber Eats"
        ],
        [
         2,
         "B",
         "2023-05-02",
         "Canada",
         "Uber Eats"
        ],
        [
         1,
         "B",
         "2023-05-04",
         "Canada",
         "Restaurant"
        ],
        [
         1,
         "B",
         "2023-02-11",
         "Canada",
         "Uber Eats"
        ],
        [
         3,
         "B",
         "2023-05-16",
         "Canada",
         "Door Dash"
        ],
        [
         3,
         "B",
         "2022-02-05",
         "Canada",
         "Door Dash"
        ],
        [
         3,
         "C",
         "2023-05-05",
         "Canada",
         "Door Dash"
        ],
        [
         1,
         "C",
         "2023-05-05",
         "UK",
         "Uber Eats"
        ],
        [
         6,
         "C",
         "2022-05-07",
         "UK",
         "Door Dash"
        ],
        [
         3,
         "D",
         "2023-02-16",
         "UK",
         "Restaurant"
        ],
        [
         5,
         "D",
         "2022-02-05",
         "UK",
         "Door Dash"
        ],
        [
         3,
         "E",
         "2023-02-05",
         "UK",
         "Restaurant"
        ],
        [
         4,
         "E",
         "2023-02-05",
         "UK",
         "Uber Eats"
        ],
        [
         4,
         "E",
         "2023-02-07",
         "UK",
         "Restaurant"
        ],
        [
         2,
         "A",
         "2022-05-05",
         "UK",
         "Uber Eats"
        ],
        [
         2,
         "A",
         "2023-05-07",
         "UK",
         "Uber Eats"
        ],
        [
         3,
         "A",
         "2023-05-10",
         "UK",
         "Restaurant"
        ],
        [
         3,
         "A",
         "2022-05-11",
         "UK",
         "Uber Eats"
        ],
        [
         3,
         "A",
         "2023-05-11",
         "UK",
         "Door Dash"
        ],
        [
         2,
         "B",
         "2022-07-05",
         "UK",
         "Door Dash"
        ],
        [
         2,
         "B",
         "2023-05-02",
         "UK",
         "Door Dash"
        ],
        [
         1,
         "B",
         "2023-05-04",
         "UK",
         "Uber Eats"
        ],
        [
         1,
         "B",
         "2023-07-11",
         "UK",
         "Restaurant"
        ],
        [
         3,
         "B",
         "2023-05-16",
         "UK",
         "Uber Eats"
        ],
        [
         3,
         "B",
         "2023-07-05",
         "UK",
         "Uber Eats"
        ],
        [
         3,
         "C",
         "2023-05-05",
         "UK",
         "Restaurant"
        ],
        [
         1,
         "C",
         "2023-05-05",
         "USA",
         "Uber Eats"
        ],
        [
         6,
         "C",
         "2023-05-07",
         "USA",
         "Door Dash"
        ],
        [
         3,
         "D",
         "2022-07-16",
         "USA",
         "Door Dash"
        ],
        [
         5,
         "D",
         "2023-07-05",
         "USA",
         "Door Dash"
        ],
        [
         3,
         "E",
         "2023-07-05",
         "USA",
         "Uber Eats"
        ],
        [
         4,
         "E",
         "2022-07-05",
         "USA",
         "Door Dash"
        ],
        [
         4,
         "E",
         "2023-07-07",
         "USA",
         "Door Dash"
        ],
        [
         1,
         "A",
         "2023-06-06",
         "Canada",
         "Uber Eats"
        ],
        [
         2,
         "A",
         "2022-06-06",
         "Canada",
         "Uber Eats"
        ],
        [
         2,
         "A",
         "2023-06-11",
         "Canada",
         "Uber Eats"
        ],
        [
         3,
         "A",
         "2023-06-10",
         "Canada",
         "Restaurant"
        ],
        [
         3,
         "A",
         "2022-06-11",
         "Canada",
         "Uber Eats"
        ],
        [
         3,
         "A",
         "2023-06-11",
         "Canada",
         "Restaurant"
        ],
        [
         2,
         "B",
         "2022-02-06",
         "Canada",
         "Uber Eats"
        ],
        [
         2,
         "B",
         "2023-06-02",
         "Canada",
         "Uber Eats"
        ],
        [
         1,
         "B",
         "2023-06-04",
         "Canada",
         "Restaurant"
        ],
        [
         1,
         "B",
         "2023-02-11",
         "Canada",
         "Uber Eats"
        ],
        [
         3,
         "B",
         "2023-06-16",
         "Canada",
         "Door Dash"
        ],
        [
         3,
         "B",
         "2022-02-06",
         "Canada",
         "Door Dash"
        ],
        [
         3,
         "C",
         "2023-06-06",
         "Canada",
         "Door Dash"
        ],
        [
         1,
         "C",
         "2023-06-06",
         "UK",
         "Uber Eats"
        ],
        [
         6,
         "C",
         "2022-06-11",
         "UK",
         "Door Dash"
        ],
        [
         3,
         "D",
         "2023-02-16",
         "UK",
         "Restaurant"
        ],
        [
         5,
         "D",
         "2022-02-06",
         "UK",
         "Door Dash"
        ],
        [
         3,
         "E",
         "2023-02-06",
         "UK",
         "Restaurant"
        ],
        [
         4,
         "E",
         "2023-02-06",
         "UK",
         "Uber Eats"
        ],
        [
         4,
         "E",
         "2023-02-11",
         "UK",
         "Restaurant"
        ],
        [
         2,
         "A",
         "2022-06-06",
         "UK",
         "Uber Eats"
        ],
        [
         2,
         "A",
         "2023-06-11",
         "UK",
         "Uber Eats"
        ],
        [
         3,
         "A",
         "2023-06-10",
         "UK",
         "Restaurant"
        ],
        [
         3,
         "A",
         "2022-06-11",
         "UK",
         "Uber Eats"
        ],
        [
         3,
         "A",
         "2023-06-11",
         "UK",
         "Door Dash"
        ],
        [
         2,
         "B",
         "2022-11-06",
         "UK",
         "Door Dash"
        ],
        [
         2,
         "B",
         "2023-06-02",
         "UK",
         "Door Dash"
        ],
        [
         1,
         "B",
         "2023-06-04",
         "UK",
         "Uber Eats"
        ],
        [
         1,
         "B",
         "2023-11-11",
         "UK",
         "Restaurant"
        ],
        [
         3,
         "B",
         "2023-06-16",
         "UK",
         "Uber Eats"
        ],
        [
         3,
         "B",
         "2023-11-06",
         "UK",
         "Uber Eats"
        ],
        [
         3,
         "C",
         "2023-06-06",
         "UK",
         "Restaurant"
        ],
        [
         1,
         "C",
         "2023-06-06",
         "USA",
         "Uber Eats"
        ],
        [
         6,
         "C",
         "2023-06-11",
         "USA",
         "Door Dash"
        ],
        [
         3,
         "D",
         "2022-11-16",
         "USA",
         "Door Dash"
        ],
        [
         5,
         "D",
         "2023-11-06",
         "USA",
         "Door Dash"
        ],
        [
         3,
         "E",
         "2023-11-06",
         "USA",
         "Uber Eats"
        ],
        [
         4,
         "E",
         "2022-11-06",
         "USA",
         "Door Dash"
        ],
        [
         4,
         "E",
         "2023-11-11",
         "USA",
         "Door Dash"
        ],
        [
         null,
         null,
         null,
         null,
         null
        ]
       ],
       "datasetInfos": [],
       "dbfsResultPath": null,
       "isJsonSchema": true,
       "metadata": {},
       "overflow": false,
       "plotOptions": {
        "customPlotOptions": {},
        "displayType": "table",
        "pivotAggregation": null,
        "pivotColumns": null,
        "xColumns": null,
        "yColumns": null
       },
       "removedWidgets": [],
       "schema": [
        {
         "metadata": "{}",
         "name": "Id",
         "type": "\"integer\""
        },
        {
         "metadata": "{}",
         "name": "Customer Name",
         "type": "\"string\""
        },
        {
         "metadata": "{}",
         "name": "Order Date",
         "type": "\"date\""
        },
        {
         "metadata": "{}",
         "name": "Location",
         "type": "\"string\""
        },
        {
         "metadata": "{}",
         "name": "Source Order",
         "type": "\"string\""
        }
       ],
       "type": "table"
      }
     },
     "output_type": "display_data"
    }
   ],
   "source": [
    "# Sales Data Schema\n",
    "schema= StructType([\n",
    "    StructField(\"Id\", IntegerType(), True),\n",
    "    StructField(\"Customer Name\", StringType(), True),\n",
    "    StructField(\"Order Date\", DateType(), True),\n",
    "    StructField(\"Location\", StringType(), True),\n",
    "    StructField(\"Source Order\", StringType(), True),\n",
    "])\n",
    "sales_df = spark.read.format(\"csv\").option(\"inferschema\", \"true\").schema(schema).load(\"/FileStore/tables/sales-3.csv\")\n",
    "display(sales_df)\n",
    "#sales_df.show()\n"
   ]
  },
  {
   "cell_type": "markdown",
   "metadata": {
    "application/vnd.databricks.v1+cell": {
     "cellMetadata": {},
     "inputWidgets": {},
     "nuid": "3f764498-e107-41e3-892a-405e8c0ae099",
     "showTitle": false,
     "title": ""
    }
   },
   "source": [
    "Join Sales Data and Menu Data"
   ]
  },
  {
   "cell_type": "code",
   "execution_count": 0,
   "metadata": {
    "application/vnd.databricks.v1+cell": {
     "cellMetadata": {
      "byteLimit": 2048000,
      "rowLimit": 10000
     },
     "inputWidgets": {},
     "nuid": "1fcb229f-cbc5-40a6-8d61-d239f919eb67",
     "showTitle": false,
     "title": ""
    }
   },
   "outputs": [
    {
     "output_type": "display_data",
     "data": {
      "text/html": [
       "<style scoped>\n",
       "  .table-result-container {\n",
       "    max-height: 300px;\n",
       "    overflow: auto;\n",
       "  }\n",
       "  table, th, td {\n",
       "    border: 1px solid black;\n",
       "    border-collapse: collapse;\n",
       "  }\n",
       "  th, td {\n",
       "    padding: 5px;\n",
       "  }\n",
       "  th {\n",
       "    text-align: left;\n",
       "  }\n",
       "</style><div class='table-result-container'><table class='table-result'><thead style='background-color: white'><tr><th>Id</th><th>Customer Name</th><th>Order Date</th><th>Location</th><th>Source Order</th><th>Id</th><th>Item Name</th><th>Price in $</th></tr></thead><tbody><tr><td>1</td><td>A</td><td>2023-01-01</td><td>Canada</td><td>Uber Eats</td><td>1</td><td> PIZZA</td><td> 100</td></tr><tr><td>2</td><td>A</td><td>2022-01-01</td><td>Canada</td><td>Uber Eats</td><td>2</td><td> Chowmin</td><td> 150</td></tr><tr><td>2</td><td>A</td><td>2023-01-07</td><td>Canada</td><td>Uber Eats</td><td>2</td><td> Chowmin</td><td> 150</td></tr><tr><td>3</td><td>A</td><td>2023-01-10</td><td>Canada</td><td>Restaurant</td><td>3</td><td> sandwich</td><td> 120</td></tr><tr><td>3</td><td>A</td><td>2022-01-11</td><td>Canada</td><td>Uber Eats</td><td>3</td><td> sandwich</td><td> 120</td></tr><tr><td>3</td><td>A</td><td>2023-01-11</td><td>Canada</td><td>Restaurant</td><td>3</td><td> sandwich</td><td> 120</td></tr><tr><td>2</td><td>B</td><td>2022-02-01</td><td>Canada</td><td>Uber Eats</td><td>2</td><td> Chowmin</td><td> 150</td></tr><tr><td>2</td><td>B</td><td>2023-01-02</td><td>Canada</td><td>Uber Eats</td><td>2</td><td> Chowmin</td><td> 150</td></tr><tr><td>1</td><td>B</td><td>2023-01-04</td><td>Canada</td><td>Restaurant</td><td>1</td><td> PIZZA</td><td> 100</td></tr><tr><td>1</td><td>B</td><td>2023-02-11</td><td>Canada</td><td>Uber Eats</td><td>1</td><td> PIZZA</td><td> 100</td></tr><tr><td>3</td><td>B</td><td>2023-01-16</td><td>Canada</td><td>Door Dash</td><td>3</td><td> sandwich</td><td> 120</td></tr><tr><td>3</td><td>B</td><td>2022-02-01</td><td>Canada</td><td>Door Dash</td><td>3</td><td> sandwich</td><td> 120</td></tr><tr><td>3</td><td>C</td><td>2023-01-01</td><td>Canada</td><td>Door Dash</td><td>3</td><td> sandwich</td><td> 120</td></tr><tr><td>1</td><td>C</td><td>2023-01-01</td><td>UK</td><td>Uber Eats</td><td>1</td><td> PIZZA</td><td> 100</td></tr><tr><td>6</td><td>C</td><td>2022-01-07</td><td>UK</td><td>Door Dash</td><td>6</td><td> Pasta</td><td> 180</td></tr><tr><td>3</td><td>D</td><td>2023-02-16</td><td>UK</td><td>Restaurant</td><td>3</td><td> sandwich</td><td> 120</td></tr><tr><td>5</td><td>D</td><td>2022-02-01</td><td>UK</td><td>Door Dash</td><td>5</td><td> Biryani</td><td> 80</td></tr><tr><td>3</td><td>E</td><td>2023-02-01</td><td>UK</td><td>Restaurant</td><td>3</td><td> sandwich</td><td> 120</td></tr><tr><td>4</td><td>E</td><td>2023-02-01</td><td>UK</td><td>Uber Eats</td><td>4</td><td> Dosa</td><td> 110</td></tr><tr><td>4</td><td>E</td><td>2023-02-07</td><td>UK</td><td>Restaurant</td><td>4</td><td> Dosa</td><td> 110</td></tr><tr><td>2</td><td>A</td><td>2022-01-01</td><td>UK</td><td>Uber Eats</td><td>2</td><td> Chowmin</td><td> 150</td></tr><tr><td>2</td><td>A</td><td>2023-01-07</td><td>UK</td><td>Uber Eats</td><td>2</td><td> Chowmin</td><td> 150</td></tr><tr><td>3</td><td>A</td><td>2023-01-10</td><td>UK</td><td>Restaurant</td><td>3</td><td> sandwich</td><td> 120</td></tr><tr><td>3</td><td>A</td><td>2022-01-11</td><td>UK</td><td>Uber Eats</td><td>3</td><td> sandwich</td><td> 120</td></tr><tr><td>3</td><td>A</td><td>2023-01-11</td><td>UK</td><td>Door Dash</td><td>3</td><td> sandwich</td><td> 120</td></tr><tr><td>2</td><td>B</td><td>2022-03-01</td><td>UK</td><td>Door Dash</td><td>2</td><td> Chowmin</td><td> 150</td></tr><tr><td>2</td><td>B</td><td>2023-01-02</td><td>UK</td><td>Door Dash</td><td>2</td><td> Chowmin</td><td> 150</td></tr><tr><td>1</td><td>B</td><td>2023-01-04</td><td>UK</td><td>Uber Eats</td><td>1</td><td> PIZZA</td><td> 100</td></tr><tr><td>1</td><td>B</td><td>2023-03-11</td><td>UK</td><td>Restaurant</td><td>1</td><td> PIZZA</td><td> 100</td></tr><tr><td>3</td><td>B</td><td>2023-01-16</td><td>UK</td><td>Uber Eats</td><td>3</td><td> sandwich</td><td> 120</td></tr><tr><td>3</td><td>B</td><td>2023-03-01</td><td>UK</td><td>Uber Eats</td><td>3</td><td> sandwich</td><td> 120</td></tr><tr><td>3</td><td>C</td><td>2023-01-01</td><td>UK</td><td>Restaurant</td><td>3</td><td> sandwich</td><td> 120</td></tr><tr><td>1</td><td>C</td><td>2023-01-01</td><td>USA</td><td>Uber Eats</td><td>1</td><td> PIZZA</td><td> 100</td></tr><tr><td>6</td><td>C</td><td>2023-01-07</td><td>USA</td><td>Door Dash</td><td>6</td><td> Pasta</td><td> 180</td></tr><tr><td>3</td><td>D</td><td>2022-03-16</td><td>USA</td><td>Door Dash</td><td>3</td><td> sandwich</td><td> 120</td></tr><tr><td>5</td><td>D</td><td>2023-03-01</td><td>USA</td><td>Door Dash</td><td>5</td><td> Biryani</td><td> 80</td></tr><tr><td>3</td><td>E</td><td>2023-03-01</td><td>USA</td><td>Uber Eats</td><td>3</td><td> sandwich</td><td> 120</td></tr><tr><td>4</td><td>E</td><td>2022-03-01</td><td>USA</td><td>Door Dash</td><td>4</td><td> Dosa</td><td> 110</td></tr><tr><td>4</td><td>E</td><td>2023-03-07</td><td>USA</td><td>Door Dash</td><td>4</td><td> Dosa</td><td> 110</td></tr><tr><td>1</td><td>A</td><td>2023-05-05</td><td>Canada</td><td>Uber Eats</td><td>1</td><td> PIZZA</td><td> 100</td></tr><tr><td>2</td><td>A</td><td>2022-05-05</td><td>Canada</td><td>Uber Eats</td><td>2</td><td> Chowmin</td><td> 150</td></tr><tr><td>2</td><td>A</td><td>2023-05-07</td><td>Canada</td><td>Uber Eats</td><td>2</td><td> Chowmin</td><td> 150</td></tr><tr><td>3</td><td>A</td><td>2023-05-10</td><td>Canada</td><td>Restaurant</td><td>3</td><td> sandwich</td><td> 120</td></tr><tr><td>3</td><td>A</td><td>2022-05-11</td><td>Canada</td><td>Uber Eats</td><td>3</td><td> sandwich</td><td> 120</td></tr><tr><td>3</td><td>A</td><td>2023-05-11</td><td>Canada</td><td>Restaurant</td><td>3</td><td> sandwich</td><td> 120</td></tr><tr><td>2</td><td>B</td><td>2022-02-05</td><td>Canada</td><td>Uber Eats</td><td>2</td><td> Chowmin</td><td> 150</td></tr><tr><td>2</td><td>B</td><td>2023-05-02</td><td>Canada</td><td>Uber Eats</td><td>2</td><td> Chowmin</td><td> 150</td></tr><tr><td>1</td><td>B</td><td>2023-05-04</td><td>Canada</td><td>Restaurant</td><td>1</td><td> PIZZA</td><td> 100</td></tr><tr><td>1</td><td>B</td><td>2023-02-11</td><td>Canada</td><td>Uber Eats</td><td>1</td><td> PIZZA</td><td> 100</td></tr><tr><td>3</td><td>B</td><td>2023-05-16</td><td>Canada</td><td>Door Dash</td><td>3</td><td> sandwich</td><td> 120</td></tr><tr><td>3</td><td>B</td><td>2022-02-05</td><td>Canada</td><td>Door Dash</td><td>3</td><td> sandwich</td><td> 120</td></tr><tr><td>3</td><td>C</td><td>2023-05-05</td><td>Canada</td><td>Door Dash</td><td>3</td><td> sandwich</td><td> 120</td></tr><tr><td>1</td><td>C</td><td>2023-05-05</td><td>UK</td><td>Uber Eats</td><td>1</td><td> PIZZA</td><td> 100</td></tr><tr><td>6</td><td>C</td><td>2022-05-07</td><td>UK</td><td>Door Dash</td><td>6</td><td> Pasta</td><td> 180</td></tr><tr><td>3</td><td>D</td><td>2023-02-16</td><td>UK</td><td>Restaurant</td><td>3</td><td> sandwich</td><td> 120</td></tr><tr><td>5</td><td>D</td><td>2022-02-05</td><td>UK</td><td>Door Dash</td><td>5</td><td> Biryani</td><td> 80</td></tr><tr><td>3</td><td>E</td><td>2023-02-05</td><td>UK</td><td>Restaurant</td><td>3</td><td> sandwich</td><td> 120</td></tr><tr><td>4</td><td>E</td><td>2023-02-05</td><td>UK</td><td>Uber Eats</td><td>4</td><td> Dosa</td><td> 110</td></tr><tr><td>4</td><td>E</td><td>2023-02-07</td><td>UK</td><td>Restaurant</td><td>4</td><td> Dosa</td><td> 110</td></tr><tr><td>2</td><td>A</td><td>2022-05-05</td><td>UK</td><td>Uber Eats</td><td>2</td><td> Chowmin</td><td> 150</td></tr><tr><td>2</td><td>A</td><td>2023-05-07</td><td>UK</td><td>Uber Eats</td><td>2</td><td> Chowmin</td><td> 150</td></tr><tr><td>3</td><td>A</td><td>2023-05-10</td><td>UK</td><td>Restaurant</td><td>3</td><td> sandwich</td><td> 120</td></tr><tr><td>3</td><td>A</td><td>2022-05-11</td><td>UK</td><td>Uber Eats</td><td>3</td><td> sandwich</td><td> 120</td></tr><tr><td>3</td><td>A</td><td>2023-05-11</td><td>UK</td><td>Door Dash</td><td>3</td><td> sandwich</td><td> 120</td></tr><tr><td>2</td><td>B</td><td>2022-07-05</td><td>UK</td><td>Door Dash</td><td>2</td><td> Chowmin</td><td> 150</td></tr><tr><td>2</td><td>B</td><td>2023-05-02</td><td>UK</td><td>Door Dash</td><td>2</td><td> Chowmin</td><td> 150</td></tr><tr><td>1</td><td>B</td><td>2023-05-04</td><td>UK</td><td>Uber Eats</td><td>1</td><td> PIZZA</td><td> 100</td></tr><tr><td>1</td><td>B</td><td>2023-07-11</td><td>UK</td><td>Restaurant</td><td>1</td><td> PIZZA</td><td> 100</td></tr><tr><td>3</td><td>B</td><td>2023-05-16</td><td>UK</td><td>Uber Eats</td><td>3</td><td> sandwich</td><td> 120</td></tr><tr><td>3</td><td>B</td><td>2023-07-05</td><td>UK</td><td>Uber Eats</td><td>3</td><td> sandwich</td><td> 120</td></tr><tr><td>3</td><td>C</td><td>2023-05-05</td><td>UK</td><td>Restaurant</td><td>3</td><td> sandwich</td><td> 120</td></tr><tr><td>1</td><td>C</td><td>2023-05-05</td><td>USA</td><td>Uber Eats</td><td>1</td><td> PIZZA</td><td> 100</td></tr><tr><td>6</td><td>C</td><td>2023-05-07</td><td>USA</td><td>Door Dash</td><td>6</td><td> Pasta</td><td> 180</td></tr><tr><td>3</td><td>D</td><td>2022-07-16</td><td>USA</td><td>Door Dash</td><td>3</td><td> sandwich</td><td> 120</td></tr><tr><td>5</td><td>D</td><td>2023-07-05</td><td>USA</td><td>Door Dash</td><td>5</td><td> Biryani</td><td> 80</td></tr><tr><td>3</td><td>E</td><td>2023-07-05</td><td>USA</td><td>Uber Eats</td><td>3</td><td> sandwich</td><td> 120</td></tr><tr><td>4</td><td>E</td><td>2022-07-05</td><td>USA</td><td>Door Dash</td><td>4</td><td> Dosa</td><td> 110</td></tr><tr><td>4</td><td>E</td><td>2023-07-07</td><td>USA</td><td>Door Dash</td><td>4</td><td> Dosa</td><td> 110</td></tr><tr><td>1</td><td>A</td><td>2023-06-06</td><td>Canada</td><td>Uber Eats</td><td>1</td><td> PIZZA</td><td> 100</td></tr><tr><td>2</td><td>A</td><td>2022-06-06</td><td>Canada</td><td>Uber Eats</td><td>2</td><td> Chowmin</td><td> 150</td></tr><tr><td>2</td><td>A</td><td>2023-06-11</td><td>Canada</td><td>Uber Eats</td><td>2</td><td> Chowmin</td><td> 150</td></tr><tr><td>3</td><td>A</td><td>2023-06-10</td><td>Canada</td><td>Restaurant</td><td>3</td><td> sandwich</td><td> 120</td></tr><tr><td>3</td><td>A</td><td>2022-06-11</td><td>Canada</td><td>Uber Eats</td><td>3</td><td> sandwich</td><td> 120</td></tr><tr><td>3</td><td>A</td><td>2023-06-11</td><td>Canada</td><td>Restaurant</td><td>3</td><td> sandwich</td><td> 120</td></tr><tr><td>2</td><td>B</td><td>2022-02-06</td><td>Canada</td><td>Uber Eats</td><td>2</td><td> Chowmin</td><td> 150</td></tr><tr><td>2</td><td>B</td><td>2023-06-02</td><td>Canada</td><td>Uber Eats</td><td>2</td><td> Chowmin</td><td> 150</td></tr><tr><td>1</td><td>B</td><td>2023-06-04</td><td>Canada</td><td>Restaurant</td><td>1</td><td> PIZZA</td><td> 100</td></tr><tr><td>1</td><td>B</td><td>2023-02-11</td><td>Canada</td><td>Uber Eats</td><td>1</td><td> PIZZA</td><td> 100</td></tr><tr><td>3</td><td>B</td><td>2023-06-16</td><td>Canada</td><td>Door Dash</td><td>3</td><td> sandwich</td><td> 120</td></tr><tr><td>3</td><td>B</td><td>2022-02-06</td><td>Canada</td><td>Door Dash</td><td>3</td><td> sandwich</td><td> 120</td></tr><tr><td>3</td><td>C</td><td>2023-06-06</td><td>Canada</td><td>Door Dash</td><td>3</td><td> sandwich</td><td> 120</td></tr><tr><td>1</td><td>C</td><td>2023-06-06</td><td>UK</td><td>Uber Eats</td><td>1</td><td> PIZZA</td><td> 100</td></tr><tr><td>6</td><td>C</td><td>2022-06-11</td><td>UK</td><td>Door Dash</td><td>6</td><td> Pasta</td><td> 180</td></tr><tr><td>3</td><td>D</td><td>2023-02-16</td><td>UK</td><td>Restaurant</td><td>3</td><td> sandwich</td><td> 120</td></tr><tr><td>5</td><td>D</td><td>2022-02-06</td><td>UK</td><td>Door Dash</td><td>5</td><td> Biryani</td><td> 80</td></tr><tr><td>3</td><td>E</td><td>2023-02-06</td><td>UK</td><td>Restaurant</td><td>3</td><td> sandwich</td><td> 120</td></tr><tr><td>4</td><td>E</td><td>2023-02-06</td><td>UK</td><td>Uber Eats</td><td>4</td><td> Dosa</td><td> 110</td></tr><tr><td>4</td><td>E</td><td>2023-02-11</td><td>UK</td><td>Restaurant</td><td>4</td><td> Dosa</td><td> 110</td></tr><tr><td>2</td><td>A</td><td>2022-06-06</td><td>UK</td><td>Uber Eats</td><td>2</td><td> Chowmin</td><td> 150</td></tr><tr><td>2</td><td>A</td><td>2023-06-11</td><td>UK</td><td>Uber Eats</td><td>2</td><td> Chowmin</td><td> 150</td></tr><tr><td>3</td><td>A</td><td>2023-06-10</td><td>UK</td><td>Restaurant</td><td>3</td><td> sandwich</td><td> 120</td></tr><tr><td>3</td><td>A</td><td>2022-06-11</td><td>UK</td><td>Uber Eats</td><td>3</td><td> sandwich</td><td> 120</td></tr><tr><td>3</td><td>A</td><td>2023-06-11</td><td>UK</td><td>Door Dash</td><td>3</td><td> sandwich</td><td> 120</td></tr><tr><td>2</td><td>B</td><td>2022-11-06</td><td>UK</td><td>Door Dash</td><td>2</td><td> Chowmin</td><td> 150</td></tr><tr><td>2</td><td>B</td><td>2023-06-02</td><td>UK</td><td>Door Dash</td><td>2</td><td> Chowmin</td><td> 150</td></tr><tr><td>1</td><td>B</td><td>2023-06-04</td><td>UK</td><td>Uber Eats</td><td>1</td><td> PIZZA</td><td> 100</td></tr><tr><td>1</td><td>B</td><td>2023-11-11</td><td>UK</td><td>Restaurant</td><td>1</td><td> PIZZA</td><td> 100</td></tr><tr><td>3</td><td>B</td><td>2023-06-16</td><td>UK</td><td>Uber Eats</td><td>3</td><td> sandwich</td><td> 120</td></tr><tr><td>3</td><td>B</td><td>2023-11-06</td><td>UK</td><td>Uber Eats</td><td>3</td><td> sandwich</td><td> 120</td></tr><tr><td>3</td><td>C</td><td>2023-06-06</td><td>UK</td><td>Restaurant</td><td>3</td><td> sandwich</td><td> 120</td></tr><tr><td>1</td><td>C</td><td>2023-06-06</td><td>USA</td><td>Uber Eats</td><td>1</td><td> PIZZA</td><td> 100</td></tr><tr><td>6</td><td>C</td><td>2023-06-11</td><td>USA</td><td>Door Dash</td><td>6</td><td> Pasta</td><td> 180</td></tr><tr><td>3</td><td>D</td><td>2022-11-16</td><td>USA</td><td>Door Dash</td><td>3</td><td> sandwich</td><td> 120</td></tr><tr><td>5</td><td>D</td><td>2023-11-06</td><td>USA</td><td>Door Dash</td><td>5</td><td> Biryani</td><td> 80</td></tr><tr><td>3</td><td>E</td><td>2023-11-06</td><td>USA</td><td>Uber Eats</td><td>3</td><td> sandwich</td><td> 120</td></tr><tr><td>4</td><td>E</td><td>2022-11-06</td><td>USA</td><td>Door Dash</td><td>4</td><td> Dosa</td><td> 110</td></tr><tr><td>4</td><td>E</td><td>2023-11-11</td><td>USA</td><td>Door Dash</td><td>4</td><td> Dosa</td><td> 110</td></tr></tbody></table></div>"
      ]
     },
     "metadata": {
      "application/vnd.databricks.v1+output": {
       "addedWidgets": {},
       "aggData": [],
       "aggError": "",
       "aggOverflow": false,
       "aggSchema": [],
       "aggSeriesLimitReached": false,
       "aggType": "",
       "arguments": {},
       "columnCustomDisplayInfos": {},
       "data": [
        [
         1,
         "A",
         "2023-01-01",
         "Canada",
         "Uber Eats",
         1,
         " PIZZA",
         " 100"
        ],
        [
         2,
         "A",
         "2022-01-01",
         "Canada",
         "Uber Eats",
         2,
         " Chowmin",
         " 150"
        ],
        [
         2,
         "A",
         "2023-01-07",
         "Canada",
         "Uber Eats",
         2,
         " Chowmin",
         " 150"
        ],
        [
         3,
         "A",
         "2023-01-10",
         "Canada",
         "Restaurant",
         3,
         " sandwich",
         " 120"
        ],
        [
         3,
         "A",
         "2022-01-11",
         "Canada",
         "Uber Eats",
         3,
         " sandwich",
         " 120"
        ],
        [
         3,
         "A",
         "2023-01-11",
         "Canada",
         "Restaurant",
         3,
         " sandwich",
         " 120"
        ],
        [
         2,
         "B",
         "2022-02-01",
         "Canada",
         "Uber Eats",
         2,
         " Chowmin",
         " 150"
        ],
        [
         2,
         "B",
         "2023-01-02",
         "Canada",
         "Uber Eats",
         2,
         " Chowmin",
         " 150"
        ],
        [
         1,
         "B",
         "2023-01-04",
         "Canada",
         "Restaurant",
         1,
         " PIZZA",
         " 100"
        ],
        [
         1,
         "B",
         "2023-02-11",
         "Canada",
         "Uber Eats",
         1,
         " PIZZA",
         " 100"
        ],
        [
         3,
         "B",
         "2023-01-16",
         "Canada",
         "Door Dash",
         3,
         " sandwich",
         " 120"
        ],
        [
         3,
         "B",
         "2022-02-01",
         "Canada",
         "Door Dash",
         3,
         " sandwich",
         " 120"
        ],
        [
         3,
         "C",
         "2023-01-01",
         "Canada",
         "Door Dash",
         3,
         " sandwich",
         " 120"
        ],
        [
         1,
         "C",
         "2023-01-01",
         "UK",
         "Uber Eats",
         1,
         " PIZZA",
         " 100"
        ],
        [
         6,
         "C",
         "2022-01-07",
         "UK",
         "Door Dash",
         6,
         " Pasta",
         " 180"
        ],
        [
         3,
         "D",
         "2023-02-16",
         "UK",
         "Restaurant",
         3,
         " sandwich",
         " 120"
        ],
        [
         5,
         "D",
         "2022-02-01",
         "UK",
         "Door Dash",
         5,
         " Biryani",
         " 80"
        ],
        [
         3,
         "E",
         "2023-02-01",
         "UK",
         "Restaurant",
         3,
         " sandwich",
         " 120"
        ],
        [
         4,
         "E",
         "2023-02-01",
         "UK",
         "Uber Eats",
         4,
         " Dosa",
         " 110"
        ],
        [
         4,
         "E",
         "2023-02-07",
         "UK",
         "Restaurant",
         4,
         " Dosa",
         " 110"
        ],
        [
         2,
         "A",
         "2022-01-01",
         "UK",
         "Uber Eats",
         2,
         " Chowmin",
         " 150"
        ],
        [
         2,
         "A",
         "2023-01-07",
         "UK",
         "Uber Eats",
         2,
         " Chowmin",
         " 150"
        ],
        [
         3,
         "A",
         "2023-01-10",
         "UK",
         "Restaurant",
         3,
         " sandwich",
         " 120"
        ],
        [
         3,
         "A",
         "2022-01-11",
         "UK",
         "Uber Eats",
         3,
         " sandwich",
         " 120"
        ],
        [
         3,
         "A",
         "2023-01-11",
         "UK",
         "Door Dash",
         3,
         " sandwich",
         " 120"
        ],
        [
         2,
         "B",
         "2022-03-01",
         "UK",
         "Door Dash",
         2,
         " Chowmin",
         " 150"
        ],
        [
         2,
         "B",
         "2023-01-02",
         "UK",
         "Door Dash",
         2,
         " Chowmin",
         " 150"
        ],
        [
         1,
         "B",
         "2023-01-04",
         "UK",
         "Uber Eats",
         1,
         " PIZZA",
         " 100"
        ],
        [
         1,
         "B",
         "2023-03-11",
         "UK",
         "Restaurant",
         1,
         " PIZZA",
         " 100"
        ],
        [
         3,
         "B",
         "2023-01-16",
         "UK",
         "Uber Eats",
         3,
         " sandwich",
         " 120"
        ],
        [
         3,
         "B",
         "2023-03-01",
         "UK",
         "Uber Eats",
         3,
         " sandwich",
         " 120"
        ],
        [
         3,
         "C",
         "2023-01-01",
         "UK",
         "Restaurant",
         3,
         " sandwich",
         " 120"
        ],
        [
         1,
         "C",
         "2023-01-01",
         "USA",
         "Uber Eats",
         1,
         " PIZZA",
         " 100"
        ],
        [
         6,
         "C",
         "2023-01-07",
         "USA",
         "Door Dash",
         6,
         " Pasta",
         " 180"
        ],
        [
         3,
         "D",
         "2022-03-16",
         "USA",
         "Door Dash",
         3,
         " sandwich",
         " 120"
        ],
        [
         5,
         "D",
         "2023-03-01",
         "USA",
         "Door Dash",
         5,
         " Biryani",
         " 80"
        ],
        [
         3,
         "E",
         "2023-03-01",
         "USA",
         "Uber Eats",
         3,
         " sandwich",
         " 120"
        ],
        [
         4,
         "E",
         "2022-03-01",
         "USA",
         "Door Dash",
         4,
         " Dosa",
         " 110"
        ],
        [
         4,
         "E",
         "2023-03-07",
         "USA",
         "Door Dash",
         4,
         " Dosa",
         " 110"
        ],
        [
         1,
         "A",
         "2023-05-05",
         "Canada",
         "Uber Eats",
         1,
         " PIZZA",
         " 100"
        ],
        [
         2,
         "A",
         "2022-05-05",
         "Canada",
         "Uber Eats",
         2,
         " Chowmin",
         " 150"
        ],
        [
         2,
         "A",
         "2023-05-07",
         "Canada",
         "Uber Eats",
         2,
         " Chowmin",
         " 150"
        ],
        [
         3,
         "A",
         "2023-05-10",
         "Canada",
         "Restaurant",
         3,
         " sandwich",
         " 120"
        ],
        [
         3,
         "A",
         "2022-05-11",
         "Canada",
         "Uber Eats",
         3,
         " sandwich",
         " 120"
        ],
        [
         3,
         "A",
         "2023-05-11",
         "Canada",
         "Restaurant",
         3,
         " sandwich",
         " 120"
        ],
        [
         2,
         "B",
         "2022-02-05",
         "Canada",
         "Uber Eats",
         2,
         " Chowmin",
         " 150"
        ],
        [
         2,
         "B",
         "2023-05-02",
         "Canada",
         "Uber Eats",
         2,
         " Chowmin",
         " 150"
        ],
        [
         1,
         "B",
         "2023-05-04",
         "Canada",
         "Restaurant",
         1,
         " PIZZA",
         " 100"
        ],
        [
         1,
         "B",
         "2023-02-11",
         "Canada",
         "Uber Eats",
         1,
         " PIZZA",
         " 100"
        ],
        [
         3,
         "B",
         "2023-05-16",
         "Canada",
         "Door Dash",
         3,
         " sandwich",
         " 120"
        ],
        [
         3,
         "B",
         "2022-02-05",
         "Canada",
         "Door Dash",
         3,
         " sandwich",
         " 120"
        ],
        [
         3,
         "C",
         "2023-05-05",
         "Canada",
         "Door Dash",
         3,
         " sandwich",
         " 120"
        ],
        [
         1,
         "C",
         "2023-05-05",
         "UK",
         "Uber Eats",
         1,
         " PIZZA",
         " 100"
        ],
        [
         6,
         "C",
         "2022-05-07",
         "UK",
         "Door Dash",
         6,
         " Pasta",
         " 180"
        ],
        [
         3,
         "D",
         "2023-02-16",
         "UK",
         "Restaurant",
         3,
         " sandwich",
         " 120"
        ],
        [
         5,
         "D",
         "2022-02-05",
         "UK",
         "Door Dash",
         5,
         " Biryani",
         " 80"
        ],
        [
         3,
         "E",
         "2023-02-05",
         "UK",
         "Restaurant",
         3,
         " sandwich",
         " 120"
        ],
        [
         4,
         "E",
         "2023-02-05",
         "UK",
         "Uber Eats",
         4,
         " Dosa",
         " 110"
        ],
        [
         4,
         "E",
         "2023-02-07",
         "UK",
         "Restaurant",
         4,
         " Dosa",
         " 110"
        ],
        [
         2,
         "A",
         "2022-05-05",
         "UK",
         "Uber Eats",
         2,
         " Chowmin",
         " 150"
        ],
        [
         2,
         "A",
         "2023-05-07",
         "UK",
         "Uber Eats",
         2,
         " Chowmin",
         " 150"
        ],
        [
         3,
         "A",
         "2023-05-10",
         "UK",
         "Restaurant",
         3,
         " sandwich",
         " 120"
        ],
        [
         3,
         "A",
         "2022-05-11",
         "UK",
         "Uber Eats",
         3,
         " sandwich",
         " 120"
        ],
        [
         3,
         "A",
         "2023-05-11",
         "UK",
         "Door Dash",
         3,
         " sandwich",
         " 120"
        ],
        [
         2,
         "B",
         "2022-07-05",
         "UK",
         "Door Dash",
         2,
         " Chowmin",
         " 150"
        ],
        [
         2,
         "B",
         "2023-05-02",
         "UK",
         "Door Dash",
         2,
         " Chowmin",
         " 150"
        ],
        [
         1,
         "B",
         "2023-05-04",
         "UK",
         "Uber Eats",
         1,
         " PIZZA",
         " 100"
        ],
        [
         1,
         "B",
         "2023-07-11",
         "UK",
         "Restaurant",
         1,
         " PIZZA",
         " 100"
        ],
        [
         3,
         "B",
         "2023-05-16",
         "UK",
         "Uber Eats",
         3,
         " sandwich",
         " 120"
        ],
        [
         3,
         "B",
         "2023-07-05",
         "UK",
         "Uber Eats",
         3,
         " sandwich",
         " 120"
        ],
        [
         3,
         "C",
         "2023-05-05",
         "UK",
         "Restaurant",
         3,
         " sandwich",
         " 120"
        ],
        [
         1,
         "C",
         "2023-05-05",
         "USA",
         "Uber Eats",
         1,
         " PIZZA",
         " 100"
        ],
        [
         6,
         "C",
         "2023-05-07",
         "USA",
         "Door Dash",
         6,
         " Pasta",
         " 180"
        ],
        [
         3,
         "D",
         "2022-07-16",
         "USA",
         "Door Dash",
         3,
         " sandwich",
         " 120"
        ],
        [
         5,
         "D",
         "2023-07-05",
         "USA",
         "Door Dash",
         5,
         " Biryani",
         " 80"
        ],
        [
         3,
         "E",
         "2023-07-05",
         "USA",
         "Uber Eats",
         3,
         " sandwich",
         " 120"
        ],
        [
         4,
         "E",
         "2022-07-05",
         "USA",
         "Door Dash",
         4,
         " Dosa",
         " 110"
        ],
        [
         4,
         "E",
         "2023-07-07",
         "USA",
         "Door Dash",
         4,
         " Dosa",
         " 110"
        ],
        [
         1,
         "A",
         "2023-06-06",
         "Canada",
         "Uber Eats",
         1,
         " PIZZA",
         " 100"
        ],
        [
         2,
         "A",
         "2022-06-06",
         "Canada",
         "Uber Eats",
         2,
         " Chowmin",
         " 150"
        ],
        [
         2,
         "A",
         "2023-06-11",
         "Canada",
         "Uber Eats",
         2,
         " Chowmin",
         " 150"
        ],
        [
         3,
         "A",
         "2023-06-10",
         "Canada",
         "Restaurant",
         3,
         " sandwich",
         " 120"
        ],
        [
         3,
         "A",
         "2022-06-11",
         "Canada",
         "Uber Eats",
         3,
         " sandwich",
         " 120"
        ],
        [
         3,
         "A",
         "2023-06-11",
         "Canada",
         "Restaurant",
         3,
         " sandwich",
         " 120"
        ],
        [
         2,
         "B",
         "2022-02-06",
         "Canada",
         "Uber Eats",
         2,
         " Chowmin",
         " 150"
        ],
        [
         2,
         "B",
         "2023-06-02",
         "Canada",
         "Uber Eats",
         2,
         " Chowmin",
         " 150"
        ],
        [
         1,
         "B",
         "2023-06-04",
         "Canada",
         "Restaurant",
         1,
         " PIZZA",
         " 100"
        ],
        [
         1,
         "B",
         "2023-02-11",
         "Canada",
         "Uber Eats",
         1,
         " PIZZA",
         " 100"
        ],
        [
         3,
         "B",
         "2023-06-16",
         "Canada",
         "Door Dash",
         3,
         " sandwich",
         " 120"
        ],
        [
         3,
         "B",
         "2022-02-06",
         "Canada",
         "Door Dash",
         3,
         " sandwich",
         " 120"
        ],
        [
         3,
         "C",
         "2023-06-06",
         "Canada",
         "Door Dash",
         3,
         " sandwich",
         " 120"
        ],
        [
         1,
         "C",
         "2023-06-06",
         "UK",
         "Uber Eats",
         1,
         " PIZZA",
         " 100"
        ],
        [
         6,
         "C",
         "2022-06-11",
         "UK",
         "Door Dash",
         6,
         " Pasta",
         " 180"
        ],
        [
         3,
         "D",
         "2023-02-16",
         "UK",
         "Restaurant",
         3,
         " sandwich",
         " 120"
        ],
        [
         5,
         "D",
         "2022-02-06",
         "UK",
         "Door Dash",
         5,
         " Biryani",
         " 80"
        ],
        [
         3,
         "E",
         "2023-02-06",
         "UK",
         "Restaurant",
         3,
         " sandwich",
         " 120"
        ],
        [
         4,
         "E",
         "2023-02-06",
         "UK",
         "Uber Eats",
         4,
         " Dosa",
         " 110"
        ],
        [
         4,
         "E",
         "2023-02-11",
         "UK",
         "Restaurant",
         4,
         " Dosa",
         " 110"
        ],
        [
         2,
         "A",
         "2022-06-06",
         "UK",
         "Uber Eats",
         2,
         " Chowmin",
         " 150"
        ],
        [
         2,
         "A",
         "2023-06-11",
         "UK",
         "Uber Eats",
         2,
         " Chowmin",
         " 150"
        ],
        [
         3,
         "A",
         "2023-06-10",
         "UK",
         "Restaurant",
         3,
         " sandwich",
         " 120"
        ],
        [
         3,
         "A",
         "2022-06-11",
         "UK",
         "Uber Eats",
         3,
         " sandwich",
         " 120"
        ],
        [
         3,
         "A",
         "2023-06-11",
         "UK",
         "Door Dash",
         3,
         " sandwich",
         " 120"
        ],
        [
         2,
         "B",
         "2022-11-06",
         "UK",
         "Door Dash",
         2,
         " Chowmin",
         " 150"
        ],
        [
         2,
         "B",
         "2023-06-02",
         "UK",
         "Door Dash",
         2,
         " Chowmin",
         " 150"
        ],
        [
         1,
         "B",
         "2023-06-04",
         "UK",
         "Uber Eats",
         1,
         " PIZZA",
         " 100"
        ],
        [
         1,
         "B",
         "2023-11-11",
         "UK",
         "Restaurant",
         1,
         " PIZZA",
         " 100"
        ],
        [
         3,
         "B",
         "2023-06-16",
         "UK",
         "Uber Eats",
         3,
         " sandwich",
         " 120"
        ],
        [
         3,
         "B",
         "2023-11-06",
         "UK",
         "Uber Eats",
         3,
         " sandwich",
         " 120"
        ],
        [
         3,
         "C",
         "2023-06-06",
         "UK",
         "Restaurant",
         3,
         " sandwich",
         " 120"
        ],
        [
         1,
         "C",
         "2023-06-06",
         "USA",
         "Uber Eats",
         1,
         " PIZZA",
         " 100"
        ],
        [
         6,
         "C",
         "2023-06-11",
         "USA",
         "Door Dash",
         6,
         " Pasta",
         " 180"
        ],
        [
         3,
         "D",
         "2022-11-16",
         "USA",
         "Door Dash",
         3,
         " sandwich",
         " 120"
        ],
        [
         5,
         "D",
         "2023-11-06",
         "USA",
         "Door Dash",
         5,
         " Biryani",
         " 80"
        ],
        [
         3,
         "E",
         "2023-11-06",
         "USA",
         "Uber Eats",
         3,
         " sandwich",
         " 120"
        ],
        [
         4,
         "E",
         "2022-11-06",
         "USA",
         "Door Dash",
         4,
         " Dosa",
         " 110"
        ],
        [
         4,
         "E",
         "2023-11-11",
         "USA",
         "Door Dash",
         4,
         " Dosa",
         " 110"
        ]
       ],
       "datasetInfos": [],
       "dbfsResultPath": null,
       "isJsonSchema": true,
       "metadata": {},
       "overflow": false,
       "plotOptions": {
        "customPlotOptions": {},
        "displayType": "table",
        "pivotAggregation": null,
        "pivotColumns": null,
        "xColumns": null,
        "yColumns": null
       },
       "removedWidgets": [],
       "schema": [
        {
         "metadata": "{}",
         "name": "Id",
         "type": "\"integer\""
        },
        {
         "metadata": "{}",
         "name": "Customer Name",
         "type": "\"string\""
        },
        {
         "metadata": "{}",
         "name": "Order Date",
         "type": "\"date\""
        },
        {
         "metadata": "{}",
         "name": "Location",
         "type": "\"string\""
        },
        {
         "metadata": "{}",
         "name": "Source Order",
         "type": "\"string\""
        },
        {
         "metadata": "{}",
         "name": "Id",
         "type": "\"integer\""
        },
        {
         "metadata": "{}",
         "name": "Item Name",
         "type": "\"string\""
        },
        {
         "metadata": "{}",
         "name": "Price in $",
         "type": "\"string\""
        }
       ],
       "type": "table"
      }
     },
     "output_type": "display_data"
    }
   ],
   "source": [
    "joined_data = sales_df.join(menu_df, sales_df.Id == menu_df.Id, \"left\")\n",
    "cleaned_data = joined_data.na.drop(subset=[\"Customer Name\", \"Order Date\", \"location\", \"Source Order\",\"Item Name\",\"Price in $\"])\n",
    "display(cleaned_data)"
   ]
  },
  {
   "cell_type": "markdown",
   "metadata": {
    "application/vnd.databricks.v1+cell": {
     "cellMetadata": {},
     "inputWidgets": {},
     "nuid": "2cce0ab4-cb95-4245-a1f5-4b5ef12de07a",
     "showTitle": false,
     "title": ""
    }
   },
   "source": [
    "Total Amount spent by each food category"
   ]
  },
  {
   "cell_type": "code",
   "execution_count": 0,
   "metadata": {
    "application/vnd.databricks.v1+cell": {
     "cellMetadata": {
      "byteLimit": 2048000,
      "rowLimit": 10000
     },
     "inputWidgets": {},
     "nuid": "948217c6-3818-4b8e-964f-748682aa5340",
     "showTitle": false,
     "title": ""
    }
   },
   "outputs": [
    {
     "output_type": "display_data",
     "data": {
      "text/html": [
       "<style scoped>\n",
       "  .table-result-container {\n",
       "    max-height: 300px;\n",
       "    overflow: auto;\n",
       "  }\n",
       "  table, th, td {\n",
       "    border: 1px solid black;\n",
       "    border-collapse: collapse;\n",
       "  }\n",
       "  th, td {\n",
       "    padding: 5px;\n",
       "  }\n",
       "  th {\n",
       "    text-align: left;\n",
       "  }\n",
       "</style><div class='table-result-container'><table class='table-result'><thead style='background-color: white'><tr><th>Item Name</th><th>Total Amount</th></tr></thead><tbody><tr><td> PASTA</td><td>1080.0</td></tr><tr><td> PIZZA</td><td>2100.0</td></tr><tr><td> DOSA</td><td>1320.0</td></tr><tr><td> SANDWICH</td><td>5760.0</td></tr><tr><td> BIRYANI</td><td>480.0</td></tr><tr><td> CHOWMIN</td><td>3600.0</td></tr></tbody></table></div>"
      ]
     },
     "metadata": {
      "application/vnd.databricks.v1+output": {
       "addedWidgets": {},
       "aggData": [],
       "aggError": "",
       "aggOverflow": false,
       "aggSchema": [],
       "aggSeriesLimitReached": false,
       "aggType": "",
       "arguments": {},
       "columnCustomDisplayInfos": {},
       "data": [
        [
         " PASTA",
         1080.0
        ],
        [
         " PIZZA",
         2100.0
        ],
        [
         " DOSA",
         1320.0
        ],
        [
         " SANDWICH",
         5760.0
        ],
        [
         " BIRYANI",
         480.0
        ],
        [
         " CHOWMIN",
         3600.0
        ]
       ],
       "datasetInfos": [],
       "dbfsResultPath": null,
       "isJsonSchema": true,
       "metadata": {},
       "overflow": false,
       "plotOptions": {
        "customPlotOptions": {},
        "displayType": "table",
        "pivotAggregation": null,
        "pivotColumns": null,
        "xColumns": null,
        "yColumns": null
       },
       "removedWidgets": [],
       "schema": [
        {
         "metadata": "{}",
         "name": "Item Name",
         "type": "\"string\""
        },
        {
         "metadata": "{}",
         "name": "Total Amount",
         "type": "\"double\""
        }
       ],
       "type": "table"
      }
     },
     "output_type": "display_data"
    },
    {
     "output_type": "display_data",
     "data": {
      "text/plain": [
       "Databricks visualization. Run in Databricks to view."
      ]
     },
     "metadata": {
      "application/vnd.databricks.v1.subcommand+json": {
       "baseErrorDetails": null,
       "bindings": {},
       "collapsed": false,
       "command": "%python\n__backend_agg_display_orig = display\n__backend_agg_dfs = []\ndef __backend_agg_display_new(df):\n    __backend_agg_df_modules = [\"pandas.core.frame\", \"databricks.koalas.frame\", \"pyspark.sql.dataframe\", \"pyspark.pandas.frame\", \"pyspark.sql.connect.dataframe\"]\n    if (type(df).__module__ in __backend_agg_df_modules and type(df).__name__ == 'DataFrame') or isinstance(df, list):\n        __backend_agg_dfs.append(df)\n\ndisplay = __backend_agg_display_new\n\ndef __backend_agg_user_code_fn():\n    import base64\n    exec(base64.standard_b64decode(\"ZnJvbSBweXNwYXJrLnNxbC5mdW5jdGlvbnMgaW1wb3J0IHN1bQpjYXRlZ29yeV90b3RhbHMgPSBjbGVhbmVkX2RhdGEuZ3JvdXBCeSgiSXRlbSBOYW1lIikuYWdnKHN1bSgiUHJpY2UgaW4gJCIpLmFsaWFzKCJUb3RhbCBBbW91bnQiKSkKIyBUbyByZW1vdmUgbnVsbCB2YWx1ZQpkaXNwbGF5KGNhdGVnb3J5X3RvdGFscyk=\").decode())\n\ntry:\n    # run user code\n    __backend_agg_user_code_fn()\n\n    #reset display function\n    display = __backend_agg_display_orig\n\n    if len(__backend_agg_dfs) > 0:\n        # create a temp view\n        if type(__backend_agg_dfs[0]).__module__ == \"databricks.koalas.frame\":\n            # koalas dataframe\n            __backend_agg_dfs[0].to_spark().createOrReplaceTempView(\"DatabricksView4279987\")\n        elif type(__backend_agg_dfs[0]).__module__ == \"pandas.core.frame\" or isinstance(__backend_agg_dfs[0], list):\n            # pandas dataframe\n            spark.createDataFrame(__backend_agg_dfs[0]).createOrReplaceTempView(\"DatabricksView4279987\")\n        else:\n            __backend_agg_dfs[0].createOrReplaceTempView(\"DatabricksView4279987\")\n        #run backend agg\n        display(spark.sql(\"\"\"WITH q AS (select * from DatabricksView4279987) SELECT `Item Name`,SUM(`Total Amount`) `column_367af61b27` FROM q GROUP BY `Item Name`\"\"\"))\n    else:\n        displayHTML(\"dataframe no longer exists. If you're using dataframe.display(), use display(dataframe) instead.\")\n\n\nfinally:\n    spark.sql(\"drop view if exists DatabricksView4279987\")\n    display = __backend_agg_display_orig\n    del __backend_agg_display_new\n    del __backend_agg_display_orig\n    del __backend_agg_dfs\n    del __backend_agg_user_code_fn\n\n",
       "commandTitle": "Visualization 1",
       "commandType": "auto",
       "commandVersion": 0,
       "commentThread": [],
       "commentsVisible": false,
       "contentSha256Hex": null,
       "customPlotOptions": {
        "redashChart": [
         {
          "key": "type",
          "value": "CHART"
         },
         {
          "key": "options",
          "value": {
           "alignYAxesAtZero": true,
           "coefficient": 1,
           "columnConfigurationMap": {
            "x": {
             "column": "Item Name",
             "id": "column_367af61b26"
            },
            "y": [
             {
              "column": "Total Amount",
              "id": "column_367af61b27",
              "transform": "SUM"
             }
            ]
           },
           "dateTimeFormat": "DD/MM/YYYY HH:mm",
           "direction": {
            "type": "counterclockwise"
           },
           "error_y": {
            "type": "data",
            "visible": true
           },
           "globalSeriesType": "column",
           "isAggregationOn": true,
           "legend": {
            "traceorder": "normal"
           },
           "missingValuesAsZero": true,
           "numberFormat": "0,0.[00000]",
           "percentFormat": "0[.]00%",
           "series": {
            "error_y": {
             "type": "data",
             "visible": true
            },
            "stacking": null
           },
           "seriesOptions": {
            "column_367af61b27": {
             "color": "#A58AFF",
             "name": "Total Amount",
             "yAxis": 0
            }
           },
           "showDataLabels": false,
           "sizemode": "diameter",
           "sortX": true,
           "sortY": true,
           "swappedAxes": false,
           "textFormat": "",
           "useAggregationsUi": true,
           "valuesOptions": {},
           "version": 2,
           "xAxis": {
            "labels": {
             "enabled": true
            },
            "type": "-"
           },
           "yAxis": [
            {
             "type": "-"
            },
            {
             "opposite": true,
             "type": "-"
            }
           ]
          }
         }
        ]
       },
       "datasetPreviewNameToCmdIdMap": {},
       "diffDeletes": [],
       "diffInserts": [],
       "displayType": "redashChart",
       "error": null,
       "errorDetails": null,
       "errorSummary": null,
       "errorTraceType": null,
       "finishTime": 0,
       "globalVars": {},
       "guid": "",
       "height": "auto",
       "hideCommandCode": false,
       "hideCommandResult": false,
       "iPythonMetadata": null,
       "inputWidgets": {},
       "isLockedInExamMode": false,
       "latestUser": "a user",
       "latestUserId": null,
       "listResultMetadata": null,
       "metadata": {},
       "nuid": "2547ffb2-0201-4a72-9071-e163cc2f1072",
       "origId": 0,
       "parentHierarchy": [],
       "pivotAggregation": null,
       "pivotColumns": null,
       "position": 8.0,
       "resultDbfsErrorMessage": null,
       "resultDbfsStatus": "INLINED_IN_TREE",
       "results": null,
       "showCommandTitle": false,
       "startTime": 0,
       "state": "input",
       "streamStates": {},
       "subcommandOptions": {
        "queryPlan": {
         "groups": [
          {
           "column": "Item Name",
           "type": "column"
          }
         ],
         "selects": [
          {
           "column": "Item Name",
           "type": "column"
          },
          {
           "alias": "column_367af61b27",
           "args": [
            {
             "column": "Total Amount",
             "type": "column"
            }
           ],
           "function": "SUM",
           "type": "function"
          }
         ]
        }
       },
       "submitTime": 0,
       "subtype": "tableResultSubCmd.visualization",
       "tableResultIndex": 0,
       "useConsistentColors": false,
       "version": "CommandV1",
       "width": "auto",
       "workflows": [],
       "xColumns": null,
       "yColumns": null
      }
     },
     "output_type": "display_data"
    }
   ],
   "source": [
    "from pyspark.sql.functions import sum, upper\n",
    "# Group by the capitalized \"Item Name\" and calculate the total sales amount for each category\n",
    "category_totals = (cleaned_data\n",
    "                   .withColumn(\"Item Name\", upper(cleaned_data[\"Item Name\"]))\n",
    "                   .groupBy(\"Item Name\")\n",
    "                   .agg(sum(\"Price in $\").alias(\"Total Amount\")))\n",
    "# To remove null value\n",
    "display(category_totals)"
   ]
  },
  {
   "cell_type": "markdown",
   "metadata": {
    "application/vnd.databricks.v1+cell": {
     "cellMetadata": {},
     "inputWidgets": {},
     "nuid": "cffdae95-f5a7-4d92-9084-66bda7be53c2",
     "showTitle": false,
     "title": ""
    }
   },
   "source": [
    "%md Total Amount spent by each customer"
   ]
  },
  {
   "cell_type": "code",
   "execution_count": 0,
   "metadata": {
    "application/vnd.databricks.v1+cell": {
     "cellMetadata": {
      "byteLimit": 2048000,
      "rowLimit": 10000
     },
     "inputWidgets": {},
     "nuid": "4aef417c-4a9a-4d25-9ca7-82569e2acf18",
     "showTitle": false,
     "title": ""
    }
   },
   "outputs": [
    {
     "output_type": "display_data",
     "data": {
      "text/html": [
       "<style scoped>\n",
       "  .table-result-container {\n",
       "    max-height: 300px;\n",
       "    overflow: auto;\n",
       "  }\n",
       "  table, th, td {\n",
       "    border: 1px solid black;\n",
       "    border-collapse: collapse;\n",
       "  }\n",
       "  th, td {\n",
       "    padding: 5px;\n",
       "  }\n",
       "  th {\n",
       "    text-align: left;\n",
       "  }\n",
       "</style><div class='table-result-container'><table class='table-result'><thead style='background-color: white'><tr><th>Customer Name</th><th>Total Amount</th></tr></thead><tbody><tr><td>E</td><td>2040.0</td></tr><tr><td>B</td><td>4440.0</td></tr><tr><td>D</td><td>1200.0</td></tr><tr><td>C</td><td>2400.0</td></tr><tr><td>A</td><td>4260.0</td></tr></tbody></table></div>"
      ]
     },
     "metadata": {
      "application/vnd.databricks.v1+output": {
       "addedWidgets": {},
       "aggData": [],
       "aggError": "",
       "aggOverflow": false,
       "aggSchema": [],
       "aggSeriesLimitReached": false,
       "aggType": "",
       "arguments": {},
       "columnCustomDisplayInfos": {},
       "data": [
        [
         "E",
         2040.0
        ],
        [
         "B",
         4440.0
        ],
        [
         "D",
         1200.0
        ],
        [
         "C",
         2400.0
        ],
        [
         "A",
         4260.0
        ]
       ],
       "datasetInfos": [],
       "dbfsResultPath": null,
       "isJsonSchema": true,
       "metadata": {},
       "overflow": false,
       "plotOptions": {
        "customPlotOptions": {},
        "displayType": "table",
        "pivotAggregation": null,
        "pivotColumns": null,
        "xColumns": null,
        "yColumns": null
       },
       "removedWidgets": [],
       "schema": [
        {
         "metadata": "{}",
         "name": "Customer Name",
         "type": "\"string\""
        },
        {
         "metadata": "{}",
         "name": "Total Amount",
         "type": "\"double\""
        }
       ],
       "type": "table"
      }
     },
     "output_type": "display_data"
    },
    {
     "output_type": "display_data",
     "data": {
      "text/plain": [
       "Databricks visualization. Run in Databricks to view."
      ]
     },
     "metadata": {
      "application/vnd.databricks.v1.subcommand+json": {
       "baseErrorDetails": null,
       "bindings": {},
       "collapsed": false,
       "command": "%python\n__backend_agg_display_orig = display\n__backend_agg_dfs = []\ndef __backend_agg_display_new(df):\n    __backend_agg_df_modules = [\"pandas.core.frame\", \"databricks.koalas.frame\", \"pyspark.sql.dataframe\", \"pyspark.pandas.frame\", \"pyspark.sql.connect.dataframe\"]\n    if (type(df).__module__ in __backend_agg_df_modules and type(df).__name__ == 'DataFrame') or isinstance(df, list):\n        __backend_agg_dfs.append(df)\n\ndisplay = __backend_agg_display_new\n\ndef __backend_agg_user_code_fn():\n    import base64\n    exec(base64.standard_b64decode(\"Y3VzdG9tZXJfdG90YWxzID0gY2xlYW5lZF9kYXRhLmdyb3VwQnkoIkN1c3RvbWVyIE5hbWUiKS5hZ2coc3VtKCJQcmljZSBpbiAkIikuYWxpYXMoIlRvdGFsIEFtb3VudCIpKQpkaXNwbGF5KGN1c3RvbWVyX3RvdGFscyk=\").decode())\n\ntry:\n    # run user code\n    __backend_agg_user_code_fn()\n\n    #reset display function\n    display = __backend_agg_display_orig\n\n    if len(__backend_agg_dfs) > 0:\n        # create a temp view\n        if type(__backend_agg_dfs[0]).__module__ == \"databricks.koalas.frame\":\n            # koalas dataframe\n            __backend_agg_dfs[0].to_spark().createOrReplaceTempView(\"DatabricksViewdb4b81d\")\n        elif type(__backend_agg_dfs[0]).__module__ == \"pandas.core.frame\" or isinstance(__backend_agg_dfs[0], list):\n            # pandas dataframe\n            spark.createDataFrame(__backend_agg_dfs[0]).createOrReplaceTempView(\"DatabricksViewdb4b81d\")\n        else:\n            __backend_agg_dfs[0].createOrReplaceTempView(\"DatabricksViewdb4b81d\")\n        #run backend agg\n        display(spark.sql(\"\"\"WITH q AS (select * from DatabricksViewdb4b81d) SELECT `Customer Name`,SUM(`Total Amount`) `column_367af61b34` FROM q GROUP BY `Customer Name`\"\"\"))\n    else:\n        displayHTML(\"dataframe no longer exists. If you're using dataframe.display(), use display(dataframe) instead.\")\n\n\nfinally:\n    spark.sql(\"drop view if exists DatabricksViewdb4b81d\")\n    display = __backend_agg_display_orig\n    del __backend_agg_display_new\n    del __backend_agg_display_orig\n    del __backend_agg_dfs\n    del __backend_agg_user_code_fn\n\n",
       "commandTitle": "Visualization 1",
       "commandType": "auto",
       "commandVersion": 0,
       "commentThread": [],
       "commentsVisible": false,
       "contentSha256Hex": null,
       "customPlotOptions": {
        "redashChart": [
         {
          "key": "type",
          "value": "CHART"
         },
         {
          "key": "options",
          "value": {
           "alignYAxesAtZero": true,
           "coefficient": 1,
           "columnConfigurationMap": {
            "x": {
             "column": "Customer Name",
             "id": "column_367af61b33"
            },
            "y": [
             {
              "column": "Total Amount",
              "id": "column_367af61b34",
              "transform": "SUM"
             }
            ]
           },
           "dateTimeFormat": "DD/MM/YYYY HH:mm",
           "direction": {
            "type": "counterclockwise"
           },
           "error_y": {
            "type": "data",
            "visible": true
           },
           "globalSeriesType": "column",
           "isAggregationOn": true,
           "legend": {
            "traceorder": "normal"
           },
           "missingValuesAsZero": true,
           "numberFormat": "0,0.[00000]",
           "percentFormat": "0[.]00%",
           "series": {
            "error_y": {
             "type": "data",
             "visible": true
            },
            "stacking": null
           },
           "seriesOptions": {
            "column_367af61b34": {
             "color": "#799CFF",
             "name": "Total Amount",
             "type": "column",
             "yAxis": 0
            }
           },
           "showDataLabels": false,
           "sizemode": "diameter",
           "sortX": true,
           "sortY": true,
           "swappedAxes": false,
           "textFormat": "",
           "useAggregationsUi": true,
           "valuesOptions": {},
           "version": 2,
           "xAxis": {
            "labels": {
             "enabled": true
            },
            "type": "-"
           },
           "yAxis": [
            {
             "type": "-"
            },
            {
             "opposite": true,
             "type": "-"
            }
           ]
          }
         }
        ]
       },
       "datasetPreviewNameToCmdIdMap": {},
       "diffDeletes": [],
       "diffInserts": [],
       "displayType": "redashChart",
       "error": null,
       "errorDetails": null,
       "errorSummary": null,
       "errorTraceType": null,
       "finishTime": 0,
       "globalVars": {},
       "guid": "",
       "height": "auto",
       "hideCommandCode": false,
       "hideCommandResult": false,
       "iPythonMetadata": null,
       "inputWidgets": {},
       "isLockedInExamMode": false,
       "latestUser": "a user",
       "latestUserId": null,
       "listResultMetadata": null,
       "metadata": {},
       "nuid": "865ad004-20d3-42f7-8ebf-4679fce31c93",
       "origId": 0,
       "parentHierarchy": [],
       "pivotAggregation": null,
       "pivotColumns": null,
       "position": 8.1875,
       "resultDbfsErrorMessage": null,
       "resultDbfsStatus": "INLINED_IN_TREE",
       "results": null,
       "showCommandTitle": false,
       "startTime": 0,
       "state": "input",
       "streamStates": {},
       "subcommandOptions": {
        "queryPlan": {
         "groups": [
          {
           "column": "Customer Name",
           "type": "column"
          }
         ],
         "selects": [
          {
           "column": "Customer Name",
           "type": "column"
          },
          {
           "alias": "column_367af61b34",
           "args": [
            {
             "column": "Total Amount",
             "type": "column"
            }
           ],
           "function": "SUM",
           "type": "function"
          }
         ]
        }
       },
       "submitTime": 0,
       "subtype": "tableResultSubCmd.visualization",
       "tableResultIndex": 0,
       "useConsistentColors": false,
       "version": "CommandV1",
       "width": "auto",
       "workflows": [],
       "xColumns": null,
       "yColumns": null
      }
     },
     "output_type": "display_data"
    }
   ],
   "source": [
    "customer_totals = cleaned_data.groupBy(\"Customer Name\").agg(sum(\"Price in $\").alias(\"Total Amount\"))\n",
    "display(customer_totals)"
   ]
  },
  {
   "cell_type": "markdown",
   "metadata": {
    "application/vnd.databricks.v1+cell": {
     "cellMetadata": {},
     "inputWidgets": {},
     "nuid": "10562a83-3862-446d-af66-f6deef7a3e21",
     "showTitle": false,
     "title": ""
    }
   },
   "source": [
    "Total Amount of sales for each month"
   ]
  },
  {
   "cell_type": "code",
   "execution_count": 0,
   "metadata": {
    "application/vnd.databricks.v1+cell": {
     "cellMetadata": {
      "byteLimit": 2048000,
      "rowLimit": 10000
     },
     "inputWidgets": {},
     "nuid": "6853cb4a-955a-42c7-b457-1b59b704d83b",
     "showTitle": false,
     "title": ""
    }
   },
   "outputs": [
    {
     "output_type": "display_data",
     "data": {
      "text/html": [
       "<style scoped>\n",
       "  .table-result-container {\n",
       "    max-height: 300px;\n",
       "    overflow: auto;\n",
       "  }\n",
       "  table, th, td {\n",
       "    border: 1px solid black;\n",
       "    border-collapse: collapse;\n",
       "  }\n",
       "  th, td {\n",
       "    padding: 5px;\n",
       "  }\n",
       "  th {\n",
       "    text-align: left;\n",
       "  }\n",
       "</style><div class='table-result-container'><table class='table-result'><thead style='background-color: white'><tr><th>Each Month</th><th>Total Sales</th></tr></thead><tbody><tr><td>Feb</td><td>2730.0</td></tr><tr><td>Jan</td><td>2960.0</td></tr><tr><td>Jul</td><td>910.0</td></tr><tr><td>Jun</td><td>2960.0</td></tr><tr><td>Mar</td><td>910.0</td></tr><tr><td>May</td><td>2960.0</td></tr><tr><td>Nov</td><td>910.0</td></tr></tbody></table></div>"
      ]
     },
     "metadata": {
      "application/vnd.databricks.v1+output": {
       "addedWidgets": {},
       "aggData": [],
       "aggError": "",
       "aggOverflow": false,
       "aggSchema": [],
       "aggSeriesLimitReached": false,
       "aggType": "",
       "arguments": {},
       "columnCustomDisplayInfos": {},
       "data": [
        [
         "Feb",
         2730.0
        ],
        [
         "Jan",
         2960.0
        ],
        [
         "Jul",
         910.0
        ],
        [
         "Jun",
         2960.0
        ],
        [
         "Mar",
         910.0
        ],
        [
         "May",
         2960.0
        ],
        [
         "Nov",
         910.0
        ]
       ],
       "datasetInfos": [],
       "dbfsResultPath": null,
       "isJsonSchema": true,
       "metadata": {},
       "overflow": false,
       "plotOptions": {
        "customPlotOptions": {},
        "displayType": "table",
        "pivotAggregation": null,
        "pivotColumns": null,
        "xColumns": null,
        "yColumns": null
       },
       "removedWidgets": [],
       "schema": [
        {
         "metadata": "{}",
         "name": "Each Month",
         "type": "\"string\""
        },
        {
         "metadata": "{}",
         "name": "Total Sales",
         "type": "\"double\""
        }
       ],
       "type": "table"
      }
     },
     "output_type": "display_data"
    },
    {
     "output_type": "display_data",
     "data": {
      "text/plain": [
       "Databricks visualization. Run in Databricks to view."
      ]
     },
     "metadata": {
      "application/vnd.databricks.v1.subcommand+json": {
       "baseErrorDetails": null,
       "bindings": {},
       "collapsed": false,
       "command": "%python\n__backend_agg_display_orig = display\n__backend_agg_dfs = []\ndef __backend_agg_display_new(df):\n    __backend_agg_df_modules = [\"pandas.core.frame\", \"databricks.koalas.frame\", \"pyspark.sql.dataframe\", \"pyspark.pandas.frame\", \"pyspark.sql.connect.dataframe\"]\n    if (type(df).__module__ in __backend_agg_df_modules and type(df).__name__ == 'DataFrame') or isinstance(df, list):\n        __backend_agg_dfs.append(df)\n\ndisplay = __backend_agg_display_new\n\ndef __backend_agg_user_code_fn():\n    import base64\n    exec(base64.standard_b64decode(\"aW1wb3J0IHB5c3Bhcmsuc3FsLmZ1bmN0aW9ucyBhcyBGCgojIERlZmluZSBhIERhdGFGcmFtZSBjb250YWluaW5nIHRoZSBtYXBwaW5nIG9mIG1vbnRoIG51bWJlcnMgdG8gbW9udGggbmFtZXMKbW9udGhfbWFwcGluZyA9IHNwYXJrLmNyZWF0ZURhdGFGcmFtZShbKDEsICJKYW4iKSwgKDIsICJGZWIiKSwgKDMsICJNYXIiKSwgKDQsICJBcHIiKSwgKDUsICJNYXkiKSwgKDYsICJKdW4iKSwgKDcsICJKdWwiKSwgKDgsICJBdWciKSwgKDksICJTZXAiKSwgKDEwLCAiT2N0IiksICgxMSwgIk5vdiIpLCAoMTIsICJEZWMiKV0sIFsibW9udGgiLCAiTW9udGhzIl0pCgojIEZpcnN0LCBleHRyYWN0IHRoZSBtb250aCBmcm9tIHRoZSBvcmRlcl9kYXRlIGNvbHVtbgojIEFzc3VtaW5nIG9yZGVyX2RhdGUgaXMgYSB0aW1lc3RhbXAgY29sdW1uCmNsZWFuZWRfZGF0YSA9IGNsZWFuZWRfZGF0YS53aXRoQ29sdW1uKCJPcmRlciBNb250aCIsIEYubW9udGgoIk9yZGVyIERhdGUiKSkKCiMgVGhlbiwgam9pbiB3aXRoIHRoZSBtb250aF9tYXBwaW5nIERhdGFGcmFtZSB0byByZXBsYWNlIG1vbnRoIG51bWJlcnMgd2l0aCBtb250aCBuYW1lcwpjbGVhbmVkX2RhdGEgPSBjbGVhbmVkX2RhdGEuam9pbihtb250aF9tYXBwaW5nLCBjbGVhbmVkX2RhdGFbIk9yZGVyIE1vbnRoIl0gPT0gbW9udGhfbWFwcGluZ1sibW9udGgiXSwgImxlZnQiKS5kcm9wKCJtb250aCIpCgojIEdyb3VwIGJ5IHRoZSBNb250aHMgYW5kIGNhbGN1bGF0ZSB0aGUgdG90YWwgc2FsZXMgYW1vdW50IGZvciBlYWNoIG1vbnRoCm1vbnRobHlfc2FsZXMgPSBjbGVhbmVkX2RhdGEuZ3JvdXBCeSgiTW9udGhzIikuYWdnKEYuc3VtKCJQcmljZSBpbiAkIikuYWxpYXMoIlRvdGFsIFNhbGVzIikpCgojIFNvcnQgdGhlIHJlc3VsdHMgYnkgbW9udGgKbW9udGhseV9zYWxlcyA9IG1vbnRobHlfc2FsZXMuc29ydCgiTW9udGhzIikKCiMgRmluYWxseSwgZGlzcGxheSBvciBjb2xsZWN0IHRoZSByZXN1bHRzCmRpc3BsYXkobW9udGhseV9zYWxlcyk=\").decode())\n\ntry:\n    # run user code\n    __backend_agg_user_code_fn()\n\n    #reset display function\n    display = __backend_agg_display_orig\n\n    if len(__backend_agg_dfs) > 0:\n        # create a temp view\n        if type(__backend_agg_dfs[0]).__module__ == \"databricks.koalas.frame\":\n            # koalas dataframe\n            __backend_agg_dfs[0].to_spark().createOrReplaceTempView(\"DatabricksView5f397eb\")\n        elif type(__backend_agg_dfs[0]).__module__ == \"pandas.core.frame\" or isinstance(__backend_agg_dfs[0], list):\n            # pandas dataframe\n            spark.createDataFrame(__backend_agg_dfs[0]).createOrReplaceTempView(\"DatabricksView5f397eb\")\n        else:\n            __backend_agg_dfs[0].createOrReplaceTempView(\"DatabricksView5f397eb\")\n        #run backend agg\n        display(spark.sql(\"\"\"WITH q AS (select * from DatabricksView5f397eb) SELECT `Months`,SUM(`Total Sales`) `column_367af61b47` FROM q GROUP BY `Months`\"\"\"))\n    else:\n        displayHTML(\"dataframe no longer exists. If you're using dataframe.display(), use display(dataframe) instead.\")\n\n\nfinally:\n    spark.sql(\"drop view if exists DatabricksView5f397eb\")\n    display = __backend_agg_display_orig\n    del __backend_agg_display_new\n    del __backend_agg_display_orig\n    del __backend_agg_dfs\n    del __backend_agg_user_code_fn\n\n",
       "commandTitle": "Visualization 1",
       "commandType": "auto",
       "commandVersion": 0,
       "commentThread": [],
       "commentsVisible": false,
       "contentSha256Hex": null,
       "customPlotOptions": {
        "redashChart": [
         {
          "key": "type",
          "value": "CHART"
         },
         {
          "key": "options",
          "value": {
           "alignYAxesAtZero": true,
           "coefficient": 1,
           "columnConfigurationMap": {
            "x": {
             "column": "Each Month",
             "id": "column_367af61b99"
            },
            "y": [
             {
              "column": "Total Sales",
              "id": "column_367af61b47",
              "transform": "SUM"
             }
            ]
           },
           "dateTimeFormat": "DD/MM/YYYY HH:mm",
           "direction": {
            "type": "counterclockwise"
           },
           "error_y": {
            "type": "data",
            "visible": true
           },
           "globalSeriesType": "column",
           "isAggregationOn": true,
           "legend": {
            "traceorder": "normal"
           },
           "missingValuesAsZero": true,
           "numberFormat": "0,0.[00000]",
           "percentFormat": "0[.]00%",
           "series": {
            "error_y": {
             "type": "data",
             "visible": true
            },
            "stacking": null
           },
           "seriesOptions": {
            "column_367af61b47": {
             "color": "#799CFF",
             "name": "Total Sales",
             "yAxis": 0
            }
           },
           "showDataLabels": false,
           "sizemode": "diameter",
           "sortX": true,
           "sortY": true,
           "swappedAxes": false,
           "textFormat": "",
           "useAggregationsUi": true,
           "valuesOptions": {},
           "version": 2,
           "xAxis": {
            "labels": {
             "enabled": true
            },
            "type": "-"
           },
           "yAxis": [
            {
             "type": "-"
            },
            {
             "opposite": true,
             "type": "-"
            }
           ]
          }
         }
        ]
       },
       "datasetPreviewNameToCmdIdMap": {},
       "diffDeletes": [],
       "diffInserts": [],
       "displayType": "redashChart",
       "error": null,
       "errorDetails": null,
       "errorSummary": null,
       "errorTraceType": null,
       "finishTime": 0,
       "globalVars": {},
       "guid": "",
       "height": "auto",
       "hideCommandCode": false,
       "hideCommandResult": false,
       "iPythonMetadata": null,
       "inputWidgets": {},
       "isLockedInExamMode": false,
       "latestUser": "a user",
       "latestUserId": null,
       "listResultMetadata": null,
       "metadata": {},
       "nuid": "c47cf07a-09b7-4628-8f58-27f7d2e69a96",
       "origId": 0,
       "parentHierarchy": [],
       "pivotAggregation": null,
       "pivotColumns": null,
       "position": 8.5,
       "resultDbfsErrorMessage": null,
       "resultDbfsStatus": "INLINED_IN_TREE",
       "results": null,
       "showCommandTitle": false,
       "startTime": 0,
       "state": "input",
       "streamStates": {},
       "subcommandOptions": {
        "queryPlan": {
         "groups": [
          {
           "column": "Each Month",
           "type": "column"
          }
         ],
         "selects": [
          {
           "column": "Each Month",
           "type": "column"
          },
          {
           "alias": "column_367af61b47",
           "args": [
            {
             "column": "Total Sales",
             "type": "column"
            }
           ],
           "function": "SUM",
           "type": "function"
          }
         ]
        }
       },
       "submitTime": 0,
       "subtype": "tableResultSubCmd.visualization",
       "tableResultIndex": 0,
       "useConsistentColors": false,
       "version": "CommandV1",
       "width": "auto",
       "workflows": [],
       "xColumns": null,
       "yColumns": null
      }
     },
     "output_type": "display_data"
    }
   ],
   "source": [
    "import pyspark.sql.functions as F\n",
    "\n",
    "# Define a DataFrame containing the mapping of month numbers to month names\n",
    "month_mapping = spark.createDataFrame([(1, \"Jan\"), (2, \"Feb\"), (3, \"Mar\"), (4, \"Apr\"), (5, \"May\"), (6, \"Jun\"), (7, \"Jul\"), (8, \"Aug\"), (9, \"Sep\"), (10, \"Oct\"), (11, \"Nov\"), (12, \"Dec\")], [\"month\", \"Each Month\"])\n",
    "\n",
    "# First, extract the month from the order_date column\n",
    "# Assuming order_date is a timestamp column\n",
    "cleaned_data = cleaned_data.withColumn(\"Order Month\", F.month(\"Order Date\"))\n",
    "\n",
    "# Then, join with the month_mapping DataFrame to replace month numbers with month names\n",
    "cleaned_data = cleaned_data.join(month_mapping, cleaned_data[\"Order Month\"] == month_mapping[\"month\"], \"left\").drop(\"month\")\n",
    "\n",
    "# Group by the Months and calculate the total sales amount for each month\n",
    "monthly_sales = cleaned_data.groupBy(cleaned_data[\"Each Month\"]).agg(F.sum(\"Price in $\").alias(\"Total Sales\"))\n",
    "\n",
    "# Sort the results by month\n",
    "monthly_sales = monthly_sales.sort(\"Each Month\")\n",
    "\n",
    "# Finally, display or collect the results\n",
    "display(monthly_sales)"
   ]
  },
  {
   "cell_type": "markdown",
   "metadata": {
    "application/vnd.databricks.v1+cell": {
     "cellMetadata": {},
     "inputWidgets": {},
     "nuid": "f7f90cc2-e6e9-40d6-9285-07846be6230d",
     "showTitle": false,
     "title": ""
    }
   },
   "source": [
    "What are the yearly and quarterly sales?"
   ]
  },
  {
   "cell_type": "markdown",
   "metadata": {
    "application/vnd.databricks.v1+cell": {
     "cellMetadata": {},
     "inputWidgets": {},
     "nuid": "2dbf6eda-612d-4a91-bfc0-c15c090d9ec7",
     "showTitle": false,
     "title": ""
    }
   },
   "source": [
    "For yearly sales:"
   ]
  },
  {
   "cell_type": "code",
   "execution_count": 0,
   "metadata": {
    "application/vnd.databricks.v1+cell": {
     "cellMetadata": {
      "byteLimit": 2048000,
      "rowLimit": 10000
     },
     "inputWidgets": {},
     "nuid": "6b9c6e73-8fd0-409a-8279-7798fa620228",
     "showTitle": false,
     "title": ""
    }
   },
   "outputs": [
    {
     "output_type": "display_data",
     "data": {
      "text/html": [
       "<style scoped>\n",
       "  .table-result-container {\n",
       "    max-height: 300px;\n",
       "    overflow: auto;\n",
       "  }\n",
       "  table, th, td {\n",
       "    border: 1px solid black;\n",
       "    border-collapse: collapse;\n",
       "  }\n",
       "  th, td {\n",
       "    padding: 5px;\n",
       "  }\n",
       "  th {\n",
       "    text-align: left;\n",
       "  }\n",
       "</style><div class='table-result-container'><table class='table-result'><thead style='background-color: white'><tr><th>Order Year</th><th>Total Sales</th></tr></thead><tbody><tr><td>2022</td><td>4350.0</td></tr><tr><td>2023</td><td>9990.0</td></tr></tbody></table></div>"
      ]
     },
     "metadata": {
      "application/vnd.databricks.v1+output": {
       "addedWidgets": {},
       "aggData": [],
       "aggError": "",
       "aggOverflow": false,
       "aggSchema": [],
       "aggSeriesLimitReached": false,
       "aggType": "",
       "arguments": {},
       "columnCustomDisplayInfos": {},
       "data": [
        [
         2022,
         4350.0
        ],
        [
         2023,
         9990.0
        ]
       ],
       "datasetInfos": [],
       "dbfsResultPath": null,
       "isJsonSchema": true,
       "metadata": {},
       "overflow": false,
       "plotOptions": {
        "customPlotOptions": {},
        "displayType": "table",
        "pivotAggregation": null,
        "pivotColumns": null,
        "xColumns": null,
        "yColumns": null
       },
       "removedWidgets": [],
       "schema": [
        {
         "metadata": "{}",
         "name": "Order Year",
         "type": "\"integer\""
        },
        {
         "metadata": "{}",
         "name": "Total Sales",
         "type": "\"double\""
        }
       ],
       "type": "table"
      }
     },
     "output_type": "display_data"
    },
    {
     "output_type": "display_data",
     "data": {
      "text/plain": [
       "Databricks visualization. Run in Databricks to view."
      ]
     },
     "metadata": {
      "application/vnd.databricks.v1.subcommand+json": {
       "baseErrorDetails": null,
       "bindings": {},
       "collapsed": false,
       "command": "%python\n__backend_agg_display_orig = display\n__backend_agg_dfs = []\ndef __backend_agg_display_new(df):\n    __backend_agg_df_modules = [\"pandas.core.frame\", \"databricks.koalas.frame\", \"pyspark.sql.dataframe\", \"pyspark.pandas.frame\", \"pyspark.sql.connect.dataframe\"]\n    if (type(df).__module__ in __backend_agg_df_modules and type(df).__name__ == 'DataFrame') or isinstance(df, list):\n        __backend_agg_dfs.append(df)\n\ndisplay = __backend_agg_display_new\n\ndef __backend_agg_user_code_fn():\n    import base64\n    exec(base64.standard_b64decode(\"IyBDYWxjdWxhdGUgdGhlIHllYXIgZnJvbSB0aGUgT3JkZXIgRGF0ZSBjb2x1bW4KY2xlYW5lZF9kYXRhID0gY2xlYW5lZF9kYXRhLndpdGhDb2x1bW4oIk9yZGVyIFllYXIiLCBGLnllYXIoIk9yZGVyIERhdGUiKSkKCiMgR3JvdXAgYnkgdGhlIE9yZGVyIFllYXIgYW5kIGNhbGN1bGF0ZSB0aGUgdG90YWwgc2FsZXMgYW1vdW50IGZvciBlYWNoIHllYXIKeWVhcmx5X3NhbGVzID0gY2xlYW5lZF9kYXRhLmdyb3VwQnkoIk9yZGVyIFllYXIiKS5hZ2coRi5zdW0oIlByaWNlIGluICQiKS5hbGlhcygiVG90YWwgU2FsZXMiKSkKCiMgU29ydCB0aGUgcmVzdWx0cyBieSBPcmRlciBZZWFyCnllYXJseV9zYWxlcyA9IHllYXJseV9zYWxlcy5zb3J0KCJPcmRlciBZZWFyIikKCiMgRGlzcGxheSBvciBjb2xsZWN0IHRoZSByZXN1bHRzCmRpc3BsYXkoeWVhcmx5X3NhbGVzKQ==\").decode())\n\ntry:\n    # run user code\n    __backend_agg_user_code_fn()\n\n    #reset display function\n    display = __backend_agg_display_orig\n\n    if len(__backend_agg_dfs) > 0:\n        # create a temp view\n        if type(__backend_agg_dfs[0]).__module__ == \"databricks.koalas.frame\":\n            # koalas dataframe\n            __backend_agg_dfs[0].to_spark().createOrReplaceTempView(\"DatabricksView87bff51\")\n        elif type(__backend_agg_dfs[0]).__module__ == \"pandas.core.frame\" or isinstance(__backend_agg_dfs[0], list):\n            # pandas dataframe\n            spark.createDataFrame(__backend_agg_dfs[0]).createOrReplaceTempView(\"DatabricksView87bff51\")\n        else:\n            __backend_agg_dfs[0].createOrReplaceTempView(\"DatabricksView87bff51\")\n        #run backend agg\n        display(spark.sql(\"\"\"WITH q AS (select * from DatabricksView87bff51) SELECT `Order Year`,SUM(`Total Sales`) `column_367af61b50` FROM q GROUP BY `Order Year`\"\"\"))\n    else:\n        displayHTML(\"dataframe no longer exists. If you're using dataframe.display(), use display(dataframe) instead.\")\n\n\nfinally:\n    spark.sql(\"drop view if exists DatabricksView87bff51\")\n    display = __backend_agg_display_orig\n    del __backend_agg_display_new\n    del __backend_agg_display_orig\n    del __backend_agg_dfs\n    del __backend_agg_user_code_fn\n\n",
       "commandTitle": "Visualization 1",
       "commandType": "auto",
       "commandVersion": 0,
       "commentThread": [],
       "commentsVisible": false,
       "contentSha256Hex": null,
       "customPlotOptions": {
        "redashChart": [
         {
          "key": "type",
          "value": "CHART"
         },
         {
          "key": "options",
          "value": {
           "alignYAxesAtZero": true,
           "coefficient": 1,
           "columnConfigurationMap": {
            "x": {
             "column": "Order Year",
             "id": "column_367af61b49"
            },
            "y": [
             {
              "column": "Total Sales",
              "id": "column_367af61b50",
              "transform": "SUM"
             }
            ]
           },
           "dateTimeFormat": "DD/MM/YYYY HH:mm",
           "direction": {
            "type": "counterclockwise"
           },
           "error_y": {
            "type": "data",
            "visible": true
           },
           "globalSeriesType": "pie",
           "isAggregationOn": true,
           "legend": {
            "traceorder": "normal"
           },
           "missingValuesAsZero": true,
           "numberFormat": "0,0.[00000]",
           "percentFormat": "0[.]00%",
           "series": {
            "error_y": {
             "type": "data",
             "visible": true
            },
            "stacking": null
           },
           "seriesOptions": {
            "column_367af61b50": {
             "name": "Total Sales",
             "type": "pie",
             "yAxis": 0
            }
           },
           "showDataLabels": true,
           "sizemode": "diameter",
           "sortX": true,
           "sortY": true,
           "swappedAxes": false,
           "textFormat": "",
           "useAggregationsUi": true,
           "valuesOptions": {
            "2022": {
             "color": "#002FB4"
            },
            "2023": {
             "color": "#799CFF"
            }
           },
           "version": 2,
           "xAxis": {
            "labels": {
             "enabled": true
            },
            "type": "-"
           },
           "yAxis": [
            {
             "type": "-"
            },
            {
             "opposite": true,
             "type": "-"
            }
           ]
          }
         }
        ]
       },
       "datasetPreviewNameToCmdIdMap": {},
       "diffDeletes": [],
       "diffInserts": [],
       "displayType": "redashChart",
       "error": null,
       "errorDetails": null,
       "errorSummary": null,
       "errorTraceType": null,
       "finishTime": 0,
       "globalVars": {},
       "guid": "",
       "height": "auto",
       "hideCommandCode": false,
       "hideCommandResult": false,
       "iPythonMetadata": null,
       "inputWidgets": {},
       "isLockedInExamMode": false,
       "latestUser": "a user",
       "latestUserId": null,
       "listResultMetadata": null,
       "metadata": {},
       "nuid": "5c934466-9454-45a9-8842-ef95731183c4",
       "origId": 0,
       "parentHierarchy": [],
       "pivotAggregation": null,
       "pivotColumns": null,
       "position": 8.9375,
       "resultDbfsErrorMessage": null,
       "resultDbfsStatus": "INLINED_IN_TREE",
       "results": null,
       "showCommandTitle": false,
       "startTime": 0,
       "state": "input",
       "streamStates": {},
       "subcommandOptions": {
        "queryPlan": {
         "groups": [
          {
           "column": "Order Year",
           "type": "column"
          }
         ],
         "selects": [
          {
           "column": "Order Year",
           "type": "column"
          },
          {
           "alias": "column_367af61b50",
           "args": [
            {
             "column": "Total Sales",
             "type": "column"
            }
           ],
           "function": "SUM",
           "type": "function"
          }
         ]
        }
       },
       "submitTime": 0,
       "subtype": "tableResultSubCmd.visualization",
       "tableResultIndex": 0,
       "useConsistentColors": false,
       "version": "CommandV1",
       "width": "auto",
       "workflows": [],
       "xColumns": null,
       "yColumns": null
      }
     },
     "output_type": "display_data"
    }
   ],
   "source": [
    "# Calculate the year from the Order Date column\n",
    "cleaned_data = cleaned_data.withColumn(\"Order Year\", F.year(\"Order Date\"))\n",
    "\n",
    "# Group by the Order Year and calculate the total sales amount for each year\n",
    "yearly_sales = cleaned_data.groupBy(\"Order Year\").agg(F.sum(\"Price in $\").alias(\"Total Sales\"))\n",
    "\n",
    "# Sort the results by Order Year\n",
    "yearly_sales = yearly_sales.sort(\"Order Year\")\n",
    "\n",
    "# Display or collect the results\n",
    "display(yearly_sales)"
   ]
  },
  {
   "cell_type": "markdown",
   "metadata": {
    "application/vnd.databricks.v1+cell": {
     "cellMetadata": {},
     "inputWidgets": {},
     "nuid": "bc83920a-f078-4b49-87a0-c8df079f49a2",
     "showTitle": false,
     "title": ""
    }
   },
   "source": [
    "For quarterly sales:"
   ]
  },
  {
   "cell_type": "code",
   "execution_count": 0,
   "metadata": {
    "application/vnd.databricks.v1+cell": {
     "cellMetadata": {
      "byteLimit": 2048000,
      "rowLimit": 10000
     },
     "inputWidgets": {},
     "nuid": "54b89b94-c109-47c7-9a7c-e9bc4ada755d",
     "showTitle": false,
     "title": ""
    }
   },
   "outputs": [
    {
     "output_type": "display_data",
     "data": {
      "text/html": [
       "<style scoped>\n",
       "  .table-result-container {\n",
       "    max-height: 300px;\n",
       "    overflow: auto;\n",
       "  }\n",
       "  table, th, td {\n",
       "    border: 1px solid black;\n",
       "    border-collapse: collapse;\n",
       "  }\n",
       "  th, td {\n",
       "    padding: 5px;\n",
       "  }\n",
       "  th {\n",
       "    text-align: left;\n",
       "  }\n",
       "</style><div class='table-result-container'><table class='table-result'><thead style='background-color: white'><tr><th>Order Year</th><th>Order quarter</th><th>Total Sales</th></tr></thead><tbody><tr><td>2022</td><td>Quarter 1</td><td>2150.0</td></tr><tr><td>2022</td><td>Quarter 2</td><td>1440.0</td></tr><tr><td>2022</td><td>Quarter 3</td><td>380.0</td></tr><tr><td>2022</td><td>Quarter 4</td><td>380.0</td></tr><tr><td>2023</td><td>Quarter 1</td><td>4450.0</td></tr><tr><td>2023</td><td>Quarter 2</td><td>4480.0</td></tr><tr><td>2023</td><td>Quarter 3</td><td>530.0</td></tr><tr><td>2023</td><td>Quarter 4</td><td>530.0</td></tr></tbody></table></div>"
      ]
     },
     "metadata": {
      "application/vnd.databricks.v1+output": {
       "addedWidgets": {},
       "aggData": [],
       "aggError": "",
       "aggOverflow": false,
       "aggSchema": [],
       "aggSeriesLimitReached": false,
       "aggType": "",
       "arguments": {},
       "columnCustomDisplayInfos": {},
       "data": [
        [
         2022,
         "Quarter 1",
         2150.0
        ],
        [
         2022,
         "Quarter 2",
         1440.0
        ],
        [
         2022,
         "Quarter 3",
         380.0
        ],
        [
         2022,
         "Quarter 4",
         380.0
        ],
        [
         2023,
         "Quarter 1",
         4450.0
        ],
        [
         2023,
         "Quarter 2",
         4480.0
        ],
        [
         2023,
         "Quarter 3",
         530.0
        ],
        [
         2023,
         "Quarter 4",
         530.0
        ]
       ],
       "datasetInfos": [],
       "dbfsResultPath": null,
       "isJsonSchema": true,
       "metadata": {},
       "overflow": false,
       "plotOptions": {
        "customPlotOptions": {},
        "displayType": "table",
        "pivotAggregation": null,
        "pivotColumns": null,
        "xColumns": null,
        "yColumns": null
       },
       "removedWidgets": [],
       "schema": [
        {
         "metadata": "{}",
         "name": "Order Year",
         "type": "\"integer\""
        },
        {
         "metadata": "{}",
         "name": "Order quarter",
         "type": "\"string\""
        },
        {
         "metadata": "{}",
         "name": "Total Sales",
         "type": "\"double\""
        }
       ],
       "type": "table"
      }
     },
     "output_type": "display_data"
    },
    {
     "output_type": "display_data",
     "data": {
      "text/plain": [
       "Databricks visualization. Run in Databricks to view."
      ]
     },
     "metadata": {
      "application/vnd.databricks.v1.subcommand+json": {
       "baseErrorDetails": null,
       "bindings": {},
       "collapsed": false,
       "command": "%python\n__backend_agg_display_orig = display\n__backend_agg_dfs = []\ndef __backend_agg_display_new(df):\n    __backend_agg_df_modules = [\"pandas.core.frame\", \"databricks.koalas.frame\", \"pyspark.sql.dataframe\", \"pyspark.pandas.frame\", \"pyspark.sql.connect.dataframe\"]\n    if (type(df).__module__ in __backend_agg_df_modules and type(df).__name__ == 'DataFrame') or isinstance(df, list):\n        __backend_agg_dfs.append(df)\n\ndisplay = __backend_agg_display_new\n\ndef __backend_agg_user_code_fn():\n    import base64\n    exec(base64.standard_b64decode(\"IyBDYWxjdWxhdGUgdGhlIHF1YXJ0ZXIgZnJvbSB0aGUgT3JkZXIgRGF0ZSBjb2x1bW4KY2xlYW5lZF9kYXRhID0gY2xlYW5lZF9kYXRhLndpdGhDb2x1bW4oIk9yZGVyIHF1YXJ0ZXIiLCBGLnF1YXJ0ZXIoIk9yZGVyIERhdGUiKSkKCiMgR3JvdXAgYnkgdGhlIE9yZGVyIFllYXIgYW5kIE9yZGVyIHF1YXJ0ZXIgYW5kIGNhbGN1bGF0ZSB0aGUgdG90YWwgc2FsZXMgYW1vdW50IGZvciBlYWNoIHF1YXJ0ZXIKcXVhcnRlcmx5X3NhbGVzID0gY2xlYW5lZF9kYXRhLmdyb3VwQnkoIk9yZGVyIFllYXIiLCAiT3JkZXIgcXVhcnRlciIpLmFnZyhGLnN1bSgicHJpY2UgaW4gJCIpLmFsaWFzKCJUb3RhbCBTYWxlcyIpKQoKIyBTb3J0IHRoZSByZXN1bHRzIGJ5IE9yZGVyIFllYXIgYW5kIE9yZGVyIHF1YXJ0ZXIKcXVhcnRlcmx5X3NhbGVzID0gcXVhcnRlcmx5X3NhbGVzLnNvcnQoIk9yZGVyIFllYXIiLCAiT3JkZXIgcXVhcnRlciIpCgojIEFkZCAiUXVhcnRlciIgYmVmb3JlIGVhY2ggY291bnQgb2YgcXVhcnRlcgpxdWFydGVybHlfc2FsZXMgPSBxdWFydGVybHlfc2FsZXMud2l0aENvbHVtbigiT3JkZXIgcXVhcnRlciIsIEYuY29uY2F0KEYubGl0KCJRdWFydGVyICIpLCBxdWFydGVybHlfc2FsZXNbIk9yZGVyIHF1YXJ0ZXIiXSkpCgojIERpc3BsYXkgb3IgY29sbGVjdCB0aGUgcmVzdWx0cwpkaXNwbGF5KHF1YXJ0ZXJseV9zYWxlcyk=\").decode())\n\ntry:\n    # run user code\n    __backend_agg_user_code_fn()\n\n    #reset display function\n    display = __backend_agg_display_orig\n\n    if len(__backend_agg_dfs) > 0:\n        # create a temp view\n        if type(__backend_agg_dfs[0]).__module__ == \"databricks.koalas.frame\":\n            # koalas dataframe\n            __backend_agg_dfs[0].to_spark().createOrReplaceTempView(\"DatabricksView102abee\")\n        elif type(__backend_agg_dfs[0]).__module__ == \"pandas.core.frame\" or isinstance(__backend_agg_dfs[0], list):\n            # pandas dataframe\n            spark.createDataFrame(__backend_agg_dfs[0]).createOrReplaceTempView(\"DatabricksView102abee\")\n        else:\n            __backend_agg_dfs[0].createOrReplaceTempView(\"DatabricksView102abee\")\n        #run backend agg\n        display(spark.sql(\"\"\"WITH q AS (select * from DatabricksView102abee) SELECT `Order quarter`,SUM(`Total Sales`) `column_367af61b63`,`Order Year` FROM q GROUP BY `Order Year`,`Order quarter`\"\"\"))\n    else:\n        displayHTML(\"dataframe no longer exists. If you're using dataframe.display(), use display(dataframe) instead.\")\n\n\nfinally:\n    spark.sql(\"drop view if exists DatabricksView102abee\")\n    display = __backend_agg_display_orig\n    del __backend_agg_display_new\n    del __backend_agg_display_orig\n    del __backend_agg_dfs\n    del __backend_agg_user_code_fn\n\n",
       "commandTitle": "Visualization 1",
       "commandType": "auto",
       "commandVersion": 0,
       "commentThread": [],
       "commentsVisible": false,
       "contentSha256Hex": null,
       "customPlotOptions": {
        "redashChart": [
         {
          "key": "type",
          "value": "CHART"
         },
         {
          "key": "options",
          "value": {
           "alignYAxesAtZero": true,
           "coefficient": 1,
           "columnConfigurationMap": {
            "series": {
             "column": "Order Year",
             "id": "column_367af61b73"
            },
            "x": {
             "column": "Order quarter",
             "id": "column_367af61b72"
            },
            "y": [
             {
              "column": "Total Sales",
              "id": "column_367af61b63",
              "transform": "SUM"
             }
            ]
           },
           "dateTimeFormat": "DD/MM/YYYY HH:mm",
           "direction": {
            "type": "counterclockwise"
           },
           "error_y": {
            "type": "data",
            "visible": true
           },
           "globalSeriesType": "column",
           "isAggregationOn": true,
           "legend": {
            "traceorder": "normal"
           },
           "missingValuesAsZero": true,
           "numberFormat": "0,0.[00000]",
           "percentFormat": "0[.]00%",
           "series": {
            "error_y": {
             "type": "data",
             "visible": true
            },
            "stacking": null
           },
           "seriesOptions": {
            "column_367af61b63": {
             "name": "Total Sales",
             "type": "column",
             "yAxis": 0
            }
           },
           "showDataLabels": false,
           "sizemode": "diameter",
           "sortX": true,
           "sortY": true,
           "swappedAxes": false,
           "textFormat": "",
           "useAggregationsUi": true,
           "valuesOptions": {},
           "version": 2,
           "xAxis": {
            "labels": {
             "enabled": true
            },
            "type": "-"
           },
           "yAxis": [
            {
             "type": "-"
            },
            {
             "opposite": true,
             "type": "-"
            }
           ]
          }
         }
        ]
       },
       "datasetPreviewNameToCmdIdMap": {},
       "diffDeletes": [],
       "diffInserts": [],
       "displayType": "redashChart",
       "error": null,
       "errorDetails": null,
       "errorSummary": null,
       "errorTraceType": null,
       "finishTime": 0,
       "globalVars": {},
       "guid": "",
       "height": "auto",
       "hideCommandCode": false,
       "hideCommandResult": false,
       "iPythonMetadata": null,
       "inputWidgets": {},
       "isLockedInExamMode": false,
       "latestUser": "a user",
       "latestUserId": null,
       "listResultMetadata": null,
       "metadata": {},
       "nuid": "ff332ee1-1c8a-4a21-88e4-5f6d562f1c0c",
       "origId": 0,
       "parentHierarchy": [],
       "pivotAggregation": null,
       "pivotColumns": null,
       "position": 8.984375,
       "resultDbfsErrorMessage": null,
       "resultDbfsStatus": "INLINED_IN_TREE",
       "results": null,
       "showCommandTitle": false,
       "startTime": 0,
       "state": "input",
       "streamStates": {},
       "subcommandOptions": {
        "queryPlan": {
         "groups": [
          {
           "column": "Order quarter",
           "type": "column"
          },
          {
           "column": "Order Year",
           "type": "column"
          }
         ],
         "selects": [
          {
           "column": "Order quarter",
           "type": "column"
          },
          {
           "alias": "column_367af61b63",
           "args": [
            {
             "column": "Total Sales",
             "type": "column"
            }
           ],
           "function": "SUM",
           "type": "function"
          },
          {
           "column": "Order Year",
           "type": "column"
          }
         ]
        }
       },
       "submitTime": 0,
       "subtype": "tableResultSubCmd.visualization",
       "tableResultIndex": 0,
       "useConsistentColors": false,
       "version": "CommandV1",
       "width": "auto",
       "workflows": [],
       "xColumns": null,
       "yColumns": null
      }
     },
     "output_type": "display_data"
    }
   ],
   "source": [
    "# Calculate the quarter from the Order Date column\n",
    "cleaned_data = cleaned_data.withColumn(\"Order quarter\", F.quarter(\"Order Date\"))\n",
    "\n",
    "# Group by the Order Year and Order quarter and calculate the total sales amount for each quarter\n",
    "quarterly_sales = cleaned_data.groupBy(\"Order Year\", \"Order quarter\").agg(F.sum(\"price in $\").alias(\"Total Sales\"))\n",
    "\n",
    "# Sort the results by Order Year and Order quarter\n",
    "quarterly_sales = quarterly_sales.sort(\"Order Year\", \"Order quarter\")\n",
    "\n",
    "# Add \"Quarter\" before each count of quarter\n",
    "quarterly_sales = quarterly_sales.withColumn(\"Order quarter\", F.concat(F.lit(\"Quarter \"), quarterly_sales[\"Order quarter\"]))\n",
    "\n",
    "# Display or collect the results\n",
    "display(quarterly_sales)"
   ]
  },
  {
   "cell_type": "markdown",
   "metadata": {
    "application/vnd.databricks.v1+cell": {
     "cellMetadata": {},
     "inputWidgets": {},
     "nuid": "1e833925-ad80-4d49-8614-a695905ec9ed",
     "showTitle": false,
     "title": ""
    }
   },
   "source": [
    "Top Ordered Food Items"
   ]
  },
  {
   "cell_type": "code",
   "execution_count": 0,
   "metadata": {
    "application/vnd.databricks.v1+cell": {
     "cellMetadata": {
      "byteLimit": 2048000,
      "rowLimit": 10000
     },
     "inputWidgets": {},
     "nuid": "3e217fac-49b2-4c9f-93b4-1b6988b8bd92",
     "showTitle": false,
     "title": ""
    }
   },
   "outputs": [
    {
     "output_type": "display_data",
     "data": {
      "text/html": [
       "<style scoped>\n",
       "  .table-result-container {\n",
       "    max-height: 300px;\n",
       "    overflow: auto;\n",
       "  }\n",
       "  table, th, td {\n",
       "    border: 1px solid black;\n",
       "    border-collapse: collapse;\n",
       "  }\n",
       "  th, td {\n",
       "    padding: 5px;\n",
       "  }\n",
       "  th {\n",
       "    text-align: left;\n",
       "  }\n",
       "</style><div class='table-result-container'><table class='table-result'><thead style='background-color: white'><tr><th>Item Name</th><th>Order Count</th></tr></thead><tbody><tr><td> SANDWICH</td><td>48</td></tr><tr><td> CHOWMIN</td><td>24</td></tr><tr><td> PIZZA</td><td>21</td></tr><tr><td> DOSA</td><td>12</td></tr><tr><td> PASTA</td><td>6</td></tr><tr><td> BIRYANI</td><td>6</td></tr></tbody></table></div>"
      ]
     },
     "metadata": {
      "application/vnd.databricks.v1+output": {
       "addedWidgets": {},
       "aggData": [],
       "aggError": "",
       "aggOverflow": false,
       "aggSchema": [],
       "aggSeriesLimitReached": false,
       "aggType": "",
       "arguments": {},
       "columnCustomDisplayInfos": {},
       "data": [
        [
         " SANDWICH",
         48
        ],
        [
         " CHOWMIN",
         24
        ],
        [
         " PIZZA",
         21
        ],
        [
         " DOSA",
         12
        ],
        [
         " PASTA",
         6
        ],
        [
         " BIRYANI",
         6
        ]
       ],
       "datasetInfos": [],
       "dbfsResultPath": null,
       "isJsonSchema": true,
       "metadata": {},
       "overflow": false,
       "plotOptions": {
        "customPlotOptions": {},
        "displayType": "table",
        "pivotAggregation": null,
        "pivotColumns": null,
        "xColumns": null,
        "yColumns": null
       },
       "removedWidgets": [],
       "schema": [
        {
         "metadata": "{}",
         "name": "Item Name",
         "type": "\"string\""
        },
        {
         "metadata": "{}",
         "name": "Order Count",
         "type": "\"long\""
        }
       ],
       "type": "table"
      }
     },
     "output_type": "display_data"
    },
    {
     "output_type": "display_data",
     "data": {
      "text/plain": [
       "Databricks visualization. Run in Databricks to view."
      ]
     },
     "metadata": {
      "application/vnd.databricks.v1.subcommand+json": {
       "baseErrorDetails": null,
       "bindings": {},
       "collapsed": false,
       "command": "%python\n__backend_agg_display_orig = display\n__backend_agg_dfs = []\ndef __backend_agg_display_new(df):\n    __backend_agg_df_modules = [\"pandas.core.frame\", \"databricks.koalas.frame\", \"pyspark.sql.dataframe\", \"pyspark.pandas.frame\", \"pyspark.sql.connect.dataframe\"]\n    if (type(df).__module__ in __backend_agg_df_modules and type(df).__name__ == 'DataFrame') or isinstance(df, list):\n        __backend_agg_dfs.append(df)\n\ndisplay = __backend_agg_display_new\n\ndef __backend_agg_user_code_fn():\n    import base64\n    exec(base64.standard_b64decode(\"ZnJvbSBweXNwYXJrLnNxbC5mdW5jdGlvbnMgaW1wb3J0IGNvdW50Cgp0b3Bfb3JkZXJlZF9pdGVtcyA9IGNsZWFuZWRfZGF0YS5ncm91cEJ5KCJJdGVtIE5hbWUiKS5hZ2coY291bnQoIioiKS5hbGlhcygiT3JkZXIgQ291bnQiKSkub3JkZXJCeSgiT3JkZXIgQ291bnQiLCBhc2NlbmRpbmc9RmFsc2UpCmRpc3BsYXkodG9wX29yZGVyZWRfaXRlbXMp\").decode())\n\ntry:\n    # run user code\n    __backend_agg_user_code_fn()\n\n    #reset display function\n    display = __backend_agg_display_orig\n\n    if len(__backend_agg_dfs) > 0:\n        # create a temp view\n        if type(__backend_agg_dfs[0]).__module__ == \"databricks.koalas.frame\":\n            # koalas dataframe\n            __backend_agg_dfs[0].to_spark().createOrReplaceTempView(\"DatabricksView648e990\")\n        elif type(__backend_agg_dfs[0]).__module__ == \"pandas.core.frame\" or isinstance(__backend_agg_dfs[0], list):\n            # pandas dataframe\n            spark.createDataFrame(__backend_agg_dfs[0]).createOrReplaceTempView(\"DatabricksView648e990\")\n        else:\n            __backend_agg_dfs[0].createOrReplaceTempView(\"DatabricksView648e990\")\n        #run backend agg\n        display(spark.sql(\"\"\"WITH q AS (select * from DatabricksView648e990) SELECT `Item Name`,SUM(`Order Count`) `column_367af61b75` FROM q GROUP BY `Item Name`\"\"\"))\n    else:\n        displayHTML(\"dataframe no longer exists. If you're using dataframe.display(), use display(dataframe) instead.\")\n\n\nfinally:\n    spark.sql(\"drop view if exists DatabricksView648e990\")\n    display = __backend_agg_display_orig\n    del __backend_agg_display_new\n    del __backend_agg_display_orig\n    del __backend_agg_dfs\n    del __backend_agg_user_code_fn\n\n",
       "commandTitle": "Visualization 1",
       "commandType": "auto",
       "commandVersion": 0,
       "commentThread": [],
       "commentsVisible": false,
       "contentSha256Hex": null,
       "customPlotOptions": {
        "redashChart": [
         {
          "key": "type",
          "value": "CHART"
         },
         {
          "key": "options",
          "value": {
           "alignYAxesAtZero": true,
           "coefficient": 1,
           "columnConfigurationMap": {
            "x": {
             "column": "Item Name",
             "id": "column_367af61b74"
            },
            "y": [
             {
              "column": "Order Count",
              "id": "column_367af61b75",
              "transform": "SUM"
             }
            ]
           },
           "dateTimeFormat": "DD/MM/YYYY HH:mm",
           "direction": {
            "type": "counterclockwise"
           },
           "error_y": {
            "type": "data",
            "visible": true
           },
           "globalSeriesType": "pie",
           "isAggregationOn": true,
           "legend": {
            "traceorder": "normal"
           },
           "missingValuesAsZero": true,
           "numberFormat": "0,0.[00000]",
           "percentFormat": "0[.]00%",
           "series": {
            "error_y": {
             "type": "data",
             "visible": true
            },
            "stacking": null
           },
           "seriesOptions": {
            "column_367af61b75": {
             "name": "Order Count",
             "type": "pie",
             "yAxis": 0
            }
           },
           "showDataLabels": true,
           "sizemode": "diameter",
           "sortX": true,
           "sortY": true,
           "swappedAxes": false,
           "textFormat": "",
           "useAggregationsUi": true,
           "valuesOptions": {
            " Biryani": {
             "color": "#A55F2A"
            },
            " CHOWMIN": {
             "color": "#A55F2A"
            },
            " Chowmin": {
             "color": "#799CFF"
            },
            " DOSA": {
             "color": "#981717"
            },
            " PASTA": {
             "color": "#604FE9"
            },
            " PIZZA": {
             "color": "#049235"
            },
            " Pasta": {
             "color": "#00B6EB"
            },
            " SANDWICH": {
             "color": "#002FB4"
            }
           },
           "version": 2,
           "xAxis": {
            "labels": {
             "enabled": true
            },
            "type": "-"
           },
           "yAxis": [
            {
             "type": "-"
            },
            {
             "opposite": true,
             "type": "-"
            }
           ]
          }
         }
        ]
       },
       "datasetPreviewNameToCmdIdMap": {},
       "diffDeletes": [],
       "diffInserts": [],
       "displayType": "redashChart",
       "error": null,
       "errorDetails": null,
       "errorSummary": null,
       "errorTraceType": null,
       "finishTime": 0,
       "globalVars": {},
       "guid": "",
       "height": "auto",
       "hideCommandCode": false,
       "hideCommandResult": false,
       "iPythonMetadata": null,
       "inputWidgets": {},
       "isLockedInExamMode": false,
       "latestUser": "a user",
       "latestUserId": null,
       "listResultMetadata": null,
       "metadata": {},
       "nuid": "1386cbf6-a912-48b3-8adf-d08a83fc54e7",
       "origId": 0,
       "parentHierarchy": [],
       "pivotAggregation": null,
       "pivotColumns": null,
       "position": 12.0,
       "resultDbfsErrorMessage": null,
       "resultDbfsStatus": "INLINED_IN_TREE",
       "results": null,
       "showCommandTitle": false,
       "startTime": 0,
       "state": "input",
       "streamStates": {},
       "subcommandOptions": {
        "queryPlan": {
         "groups": [
          {
           "column": "Item Name",
           "type": "column"
          }
         ],
         "selects": [
          {
           "column": "Item Name",
           "type": "column"
          },
          {
           "alias": "column_367af61b75",
           "args": [
            {
             "column": "Order Count",
             "type": "column"
            }
           ],
           "function": "SUM",
           "type": "function"
          }
         ]
        }
       },
       "submitTime": 0,
       "subtype": "tableResultSubCmd.visualization",
       "tableResultIndex": 0,
       "useConsistentColors": false,
       "version": "CommandV1",
       "width": "auto",
       "workflows": [],
       "xColumns": null,
       "yColumns": null
      }
     },
     "output_type": "display_data"
    }
   ],
   "source": [
    "from pyspark.sql.functions import count\n",
    "\n",
    "# Make all item names capital, group by the item name, and calculate the order count for each item\n",
    "top_ordered_items = (cleaned_data\n",
    "                     .withColumn(\"Item Name\", upper(cleaned_data[\"Item Name\"]))\n",
    "                     .groupBy(\"Item Name\")\n",
    "                     .agg(count(\"*\").alias(\"Order Count\"))\n",
    "                     .orderBy(\"Order Count\", ascending=False))\n",
    "display(top_ordered_items)"
   ]
  },
  {
   "cell_type": "markdown",
   "metadata": {
    "application/vnd.databricks.v1+cell": {
     "cellMetadata": {},
     "inputWidgets": {},
     "nuid": "22f672e0-337a-43e6-ae4a-dbc04af584b8",
     "showTitle": false,
     "title": ""
    }
   },
   "source": [
    "What are the total sales by each country?"
   ]
  },
  {
   "cell_type": "code",
   "execution_count": 0,
   "metadata": {
    "application/vnd.databricks.v1+cell": {
     "cellMetadata": {
      "byteLimit": 2048000,
      "rowLimit": 10000
     },
     "inputWidgets": {},
     "nuid": "a9269d04-e460-4750-83ec-275e8c8766cc",
     "showTitle": false,
     "title": ""
    }
   },
   "outputs": [
    {
     "output_type": "display_data",
     "data": {
      "text/html": [
       "<style scoped>\n",
       "  .table-result-container {\n",
       "    max-height: 300px;\n",
       "    overflow: auto;\n",
       "  }\n",
       "  table, th, td {\n",
       "    border: 1px solid black;\n",
       "    border-collapse: collapse;\n",
       "  }\n",
       "  th, td {\n",
       "    padding: 5px;\n",
       "  }\n",
       "  th {\n",
       "    text-align: left;\n",
       "  }\n",
       "</style><div class='table-result-container'><table class='table-result'><thead style='background-color: white'><tr><th>country</th><th>Total Sales</th></tr></thead><tbody><tr><td>USA</td><td>2460.0</td></tr><tr><td>UK</td><td>7020.0</td></tr><tr><td>Canada</td><td>4860.0</td></tr></tbody></table></div>"
      ]
     },
     "metadata": {
      "application/vnd.databricks.v1+output": {
       "addedWidgets": {},
       "aggData": [],
       "aggError": "",
       "aggOverflow": false,
       "aggSchema": [],
       "aggSeriesLimitReached": false,
       "aggType": "",
       "arguments": {},
       "columnCustomDisplayInfos": {},
       "data": [
        [
         "USA",
         2460.0
        ],
        [
         "UK",
         7020.0
        ],
        [
         "Canada",
         4860.0
        ]
       ],
       "datasetInfos": [],
       "dbfsResultPath": null,
       "isJsonSchema": true,
       "metadata": {},
       "overflow": false,
       "plotOptions": {
        "customPlotOptions": {},
        "displayType": "table",
        "pivotAggregation": null,
        "pivotColumns": null,
        "xColumns": null,
        "yColumns": null
       },
       "removedWidgets": [],
       "schema": [
        {
         "metadata": "{}",
         "name": "country",
         "type": "\"string\""
        },
        {
         "metadata": "{}",
         "name": "Total Sales",
         "type": "\"double\""
        }
       ],
       "type": "table"
      }
     },
     "output_type": "display_data"
    },
    {
     "output_type": "display_data",
     "data": {
      "text/plain": [
       "Databricks visualization. Run in Databricks to view."
      ]
     },
     "metadata": {
      "application/vnd.databricks.v1.subcommand+json": {
       "baseErrorDetails": null,
       "bindings": {},
       "collapsed": false,
       "command": "%python\n__backend_agg_display_orig = display\n__backend_agg_dfs = []\ndef __backend_agg_display_new(df):\n    __backend_agg_df_modules = [\"pandas.core.frame\", \"databricks.koalas.frame\", \"pyspark.sql.dataframe\", \"pyspark.pandas.frame\", \"pyspark.sql.connect.dataframe\"]\n    if (type(df).__module__ in __backend_agg_df_modules and type(df).__name__ == 'DataFrame') or isinstance(df, list):\n        __backend_agg_dfs.append(df)\n\ndisplay = __backend_agg_display_new\n\ndef __backend_agg_user_code_fn():\n    import base64\n    exec(base64.standard_b64decode(\"ZnJvbSBweXNwYXJrLnNxbC5mdW5jdGlvbnMgaW1wb3J0IHNwbGl0LCBzdW0KCiMgRXh0cmFjdCBjb3VudHJ5IGluZm9ybWF0aW9uIGZyb20gdGhlIGxvY2F0aW9uIGNvbHVtbgpjbGVhbmVkX2RhdGEgPSBjbGVhbmVkX2RhdGEud2l0aENvbHVtbigiY291bnRyeSIsIHNwbGl0KGNsZWFuZWRfZGF0YVsibG9jYXRpb24iXSwgIiwiKS5nZXRJdGVtKDApKQoKIyBHcm91cCBieSB0aGUgY291bnRyeSBhbmQgY2FsY3VsYXRlIHRoZSB0b3RhbCBzYWxlcyBhbW91bnQgZm9yIGVhY2ggY291bnRyeQp0b3RhbF9zYWxlc19ieV9jb3VudHJ5ID0gY2xlYW5lZF9kYXRhLmdyb3VwQnkoImNvdW50cnkiKS5hZ2coc3VtKCJQcmljZSBpbiAkIikuYWxpYXMoIlRvdGFsIFNhbGVzIikpCgojIERpc3BsYXkgdGhlIHJlc3VsdHMKZGlzcGxheSh0b3RhbF9zYWxlc19ieV9jb3VudHJ5KQ==\").decode())\n\ntry:\n    # run user code\n    __backend_agg_user_code_fn()\n\n    #reset display function\n    display = __backend_agg_display_orig\n\n    if len(__backend_agg_dfs) > 0:\n        # create a temp view\n        if type(__backend_agg_dfs[0]).__module__ == \"databricks.koalas.frame\":\n            # koalas dataframe\n            __backend_agg_dfs[0].to_spark().createOrReplaceTempView(\"DatabricksView97d9007\")\n        elif type(__backend_agg_dfs[0]).__module__ == \"pandas.core.frame\" or isinstance(__backend_agg_dfs[0], list):\n            # pandas dataframe\n            spark.createDataFrame(__backend_agg_dfs[0]).createOrReplaceTempView(\"DatabricksView97d9007\")\n        else:\n            __backend_agg_dfs[0].createOrReplaceTempView(\"DatabricksView97d9007\")\n        #run backend agg\n        display(spark.sql(\"\"\"WITH q AS (select * from DatabricksView97d9007) SELECT `country`,SUM(`Total Sales`) `column_367af61b88` FROM q GROUP BY `country`\"\"\"))\n    else:\n        displayHTML(\"dataframe no longer exists. If you're using dataframe.display(), use display(dataframe) instead.\")\n\n\nfinally:\n    spark.sql(\"drop view if exists DatabricksView97d9007\")\n    display = __backend_agg_display_orig\n    del __backend_agg_display_new\n    del __backend_agg_display_orig\n    del __backend_agg_dfs\n    del __backend_agg_user_code_fn\n\n",
       "commandTitle": "Visualization 1",
       "commandType": "auto",
       "commandVersion": 0,
       "commentThread": [],
       "commentsVisible": false,
       "contentSha256Hex": null,
       "customPlotOptions": {
        "redashChart": [
         {
          "key": "type",
          "value": "CHART"
         },
         {
          "key": "options",
          "value": {
           "alignYAxesAtZero": true,
           "coefficient": 1,
           "columnConfigurationMap": {
            "x": {
             "column": "country",
             "id": "column_367af61b87"
            },
            "y": [
             {
              "column": "Total Sales",
              "id": "column_367af61b88",
              "transform": "SUM"
             }
            ]
           },
           "dateTimeFormat": "DD/MM/YYYY HH:mm",
           "direction": {
            "type": "counterclockwise"
           },
           "error_y": {
            "type": "data",
            "visible": true
           },
           "globalSeriesType": "pie",
           "isAggregationOn": true,
           "legend": {
            "traceorder": "normal"
           },
           "missingValuesAsZero": true,
           "numberFormat": "0,0.[00000]",
           "percentFormat": "0[.]00%",
           "series": {
            "error_y": {
             "type": "data",
             "visible": true
            },
            "stacking": null
           },
           "seriesOptions": {
            "column_367af61b88": {
             "color": "#A58AFF",
             "name": "Total Sales",
             "type": "pie",
             "yAxis": 0
            },
            "column_367af61b92": {
             "type": "pie",
             "yAxis": 0
            },
            "column_367af61b96": {
             "type": "pie",
             "yAxis": 0
            }
           },
           "showDataLabels": true,
           "sizemode": "diameter",
           "sortX": true,
           "sortY": true,
           "swappedAxes": false,
           "textFormat": "",
           "useAggregationsUi": true,
           "valuesOptions": {
            "Canada": {
             "color": "#604FE9"
            },
            "UK": {
             "color": "#002FB4"
            },
            "USA": {
             "color": "#799CFF"
            }
           },
           "version": 2,
           "xAxis": {
            "labels": {
             "enabled": true
            },
            "type": "-"
           },
           "yAxis": [
            {
             "type": "-"
            },
            {
             "opposite": true,
             "type": "-"
            }
           ]
          }
         }
        ]
       },
       "datasetPreviewNameToCmdIdMap": {},
       "diffDeletes": [],
       "diffInserts": [],
       "displayType": "redashChart",
       "error": null,
       "errorDetails": null,
       "errorSummary": null,
       "errorTraceType": null,
       "finishTime": 0,
       "globalVars": {},
       "guid": "",
       "height": "auto",
       "hideCommandCode": false,
       "hideCommandResult": false,
       "iPythonMetadata": null,
       "inputWidgets": {},
       "isLockedInExamMode": false,
       "latestUser": "a user",
       "latestUserId": null,
       "listResultMetadata": null,
       "metadata": {},
       "nuid": "59a02fa4-af18-4442-8375-f9cbbe5bc856",
       "origId": 0,
       "parentHierarchy": [],
       "pivotAggregation": null,
       "pivotColumns": null,
       "position": 13.0,
       "resultDbfsErrorMessage": null,
       "resultDbfsStatus": "INLINED_IN_TREE",
       "results": null,
       "showCommandTitle": false,
       "startTime": 0,
       "state": "input",
       "streamStates": {},
       "subcommandOptions": {
        "queryPlan": {
         "groups": [
          {
           "column": "country",
           "type": "column"
          }
         ],
         "selects": [
          {
           "column": "country",
           "type": "column"
          },
          {
           "alias": "column_367af61b88",
           "args": [
            {
             "column": "Total Sales",
             "type": "column"
            }
           ],
           "function": "SUM",
           "type": "function"
          }
         ]
        }
       },
       "submitTime": 0,
       "subtype": "tableResultSubCmd.visualization",
       "tableResultIndex": 0,
       "useConsistentColors": false,
       "version": "CommandV1",
       "width": "auto",
       "workflows": [],
       "xColumns": null,
       "yColumns": null
      }
     },
     "output_type": "display_data"
    }
   ],
   "source": [
    "from pyspark.sql.functions import split, sum\n",
    "\n",
    "# Extract country information from the location column\n",
    "cleaned_data = cleaned_data.withColumn(\"country\", split(cleaned_data[\"location\"], \",\").getItem(0))\n",
    "\n",
    "# Group by the country and calculate the total sales amount for each country\n",
    "total_sales_by_country = cleaned_data.groupBy(\"country\").agg(sum(\"Price in $\").alias(\"Total Sales\"))\n",
    "\n",
    "# Display the results\n",
    "display(total_sales_by_country)"
   ]
  }
 ],
 "metadata": {
  "application/vnd.databricks.v1+notebook": {
   "dashboards": [],
   "language": "python",
   "notebookMetadata": {
    "pythonIndentUnit": 4
   },
   "notebookName": "c0932089 Assignemnt II, Notebook 2024-03-01 01:43:35",
   "widgets": {}
  }
 },
 "nbformat": 4,
 "nbformat_minor": 0
}
